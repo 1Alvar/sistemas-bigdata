{
 "cells": [
  {
   "cell_type": "code",
   "execution_count": null,
   "id": "243b4d68-b9bb-40ec-8acf-fd44dbdd6a5d",
   "metadata": {},
   "outputs": [],
   "source": [
    "import requests"
   ]
  },
  {
   "cell_type": "code",
   "execution_count": null,
   "id": "2dd8eefe-48db-4e6e-8387-47b757b450aa",
   "metadata": {},
   "outputs": [],
   "source": [
    "# Recapitulando...\n",
    "# Conectámos a un ENDPOIND\n",
    "# usamos método GET\n",
    "# Recibimos unha RESPONSE\n",
    "# response ten un STATUS\n",
    "# response ten un CONTENT\n",
    "# response ten uns HEADERS"
   ]
  },
  {
   "cell_type": "code",
   "execution_count": null,
   "id": "2bd27040-1e55-432e-b9f4-8fb53f25147c",
   "metadata": {},
   "outputs": [],
   "source": [
    "# QUERY STRING PARAMETERS\n",
    "# Moitas veces temos que enviar parámetros ás nosas peticións GET\n",
    "# Podemos engadir os datos como parámetros como un diccionario"
   ]
  },
  {
   "cell_type": "code",
   "execution_count": null,
   "id": "fcf06d5b-2f59-4238-a4fd-69d10bc1f71d",
   "metadata": {},
   "outputs": [],
   "source": [
    "# Exemplo coa API de busca nos repositorios de github\n",
    "url = 'https://api.github.com/search/repositories'\n",
    "response = requests.get(url)"
   ]
  },
  {
   "cell_type": "code",
   "execution_count": null,
   "id": "8258e7fc-6e8e-4f72-9e67-51ce9c6335f5",
   "metadata": {},
   "outputs": [],
   "source": [
    "response.json()"
   ]
  },
  {
   "cell_type": "code",
   "execution_count": null,
   "id": "57008a1c-2590-4776-8db7-2cdd81f5b75e",
   "metadata": {},
   "outputs": [],
   "source": [
    "# Non funciona porque require parámetros\n",
    "# Investigamos na API a ver que parámetros require\n",
    "# Search repositories\n",
    "# https://docs.github.com/en/rest/reference/search#search-repositories\n",
    "# https://docs.github.com/en/search-github/searching-on-github/searching-for-repositories"
   ]
  },
  {
   "cell_type": "code",
   "execution_count": null,
   "id": "62d5e2af-cddb-4e03-9730-6c8cfd861dfa",
   "metadata": {},
   "outputs": [],
   "source": [
    "# Podemos buscar os repositorios asociados a un nome de usuario\n",
    "response = requests.get(url,\n",
    "                       params={'q': 'user:bigdatawirtz'})"
   ]
  },
  {
   "cell_type": "code",
   "execution_count": null,
   "id": "853703c1-bd3c-4763-ab17-0f33362cab74",
   "metadata": {},
   "outputs": [],
   "source": [
    "response.json()"
   ]
  },
  {
   "cell_type": "code",
   "execution_count": null,
   "id": "969a2e2a-675d-4ba9-8e98-b592401cd824",
   "metadata": {},
   "outputs": [],
   "source": [
    "# Hai que identificar o formato da resposta para acceder aos datos\n",
    "# Número de respostas?\n",
    "response.json()['total_count']"
   ]
  },
  {
   "cell_type": "code",
   "execution_count": null,
   "id": "0af8f05c-ceac-4bb0-83bc-74a3e0394f2a",
   "metadata": {},
   "outputs": [],
   "source": [
    "# Acceder ao primeiro elemento\n",
    "response.json()['items'][0]"
   ]
  },
  {
   "cell_type": "code",
   "execution_count": null,
   "id": "f30f6639-a20d-4f67-994c-e26cba8815b4",
   "metadata": {},
   "outputs": [],
   "source": [
    "# Acceder ao nome do primeiro repositorio\n",
    "response.json()['items'][0]['name']"
   ]
  },
  {
   "cell_type": "code",
   "execution_count": null,
   "id": "1014a038-7e3b-4576-a21d-7306b17251a4",
   "metadata": {},
   "outputs": [],
   "source": [
    "# Podemos engadir varios parámetros atendendo á documentación\n",
    "# por exemplo: limitar o número de resultados\n",
    "response = requests.get(url,\n",
    "                       params={'q': 'user:bigdatawirtz','per_page':'1'})\n",
    "response.json()"
   ]
  },
  {
   "cell_type": "code",
   "execution_count": null,
   "id": "c1618181-9b9e-4969-8433-ea9e3d1edf6b",
   "metadata": {},
   "outputs": [],
   "source": [
    "# Podemos buscar os repositorios con un certo nome\n",
    "response = requests.get(url,\n",
    "                       params={'q': 'sistemas-bigdata in:name'})\n",
    "response.json()"
   ]
  },
  {
   "cell_type": "code",
   "execution_count": null,
   "id": "9d5f56d8-44ee-4dad-86f9-694aaee70ebd",
   "metadata": {},
   "outputs": [],
   "source": [
    "# Podemos buscar os repositorios que conteñan algunhapalabra no nome\n",
    "response.json()\n",
    "response = requests.get(url,\n",
    "                       params={'q': 'bigdata in:name'})"
   ]
  },
  {
   "cell_type": "code",
   "execution_count": null,
   "id": "4aebf1e3-ee1d-4f2b-96d0-d13c3e1966e3",
   "metadata": {},
   "outputs": [],
   "source": [
    "# Comprobo cantos elementos obteño como respostas\n",
    "response.json()['total_count']"
   ]
  },
  {
   "cell_type": "code",
   "execution_count": null,
   "id": "1e8f8617-4ea1-44b2-b914-a71374d59983",
   "metadata": {},
   "outputs": [],
   "source": [
    "# limito o número de resultados mostrados\n",
    "response.json()\n",
    "response = requests.get(url,\n",
    "                       params={'q': 'bigdata in:name','per_page':5})\n",
    "response.json()"
   ]
  },
  {
   "cell_type": "code",
   "execution_count": null,
   "id": "6079c032-1b94-4ee8-809c-09a86dcebdb5",
   "metadata": {},
   "outputs": [],
   "source": [
    "# Na reposta hai varios campos, entre eles unha lista de items\n",
    "# Para acceder ao enderezo do primeiro dos repos \n",
    "repo1 = response.json()['items'][0]['html_url']\n",
    "repo1"
   ]
  },
  {
   "cell_type": "code",
   "execution_count": null,
   "id": "8f9da18f-0d4a-459c-a110-b23fe768efc2",
   "metadata": {},
   "outputs": [],
   "source": [
    "# Para acceder ao enderezo do primeiro dos repos \n",
    "repo2 = response.json()['items'][1]['html_url']\n",
    "repo2"
   ]
  },
  {
   "cell_type": "code",
   "execution_count": null,
   "id": "0f464146-0840-496d-8dce-96ac42a363a7",
   "metadata": {},
   "outputs": [],
   "source": [
    "# Exemplo con HTTPBin (en local - docker)\n",
    "# Non pasamos ningún \"argumento = args\"\n",
    "url = 'http://localhost/get'\n",
    "response = requests.get(url)\n",
    "response.json()"
   ]
  },
  {
   "cell_type": "code",
   "execution_count": null,
   "id": "8c67e639-ed26-4541-8cfe-2503b6e7b5b8",
   "metadata": {},
   "outputs": [],
   "source": [
    "# Pasamos un argumento clave:valor\n",
    "# Fíxate como se constrúe a URL (proba a abrila co navegador)\n",
    "url = 'http://localhost/get'\n",
    "response = requests.get(url,\n",
    "                       params = {'key':'value'})\n",
    "response.json()"
   ]
  },
  {
   "cell_type": "code",
   "execution_count": null,
   "id": "c1da9b64-4f05-4117-8e13-e6027070ff26",
   "metadata": {},
   "outputs": [],
   "source": [
    "# Pasamos dous pares de argumentos\n",
    "# Fíxate como se constrúe a URL (proba a abrila co navegador)\n",
    "url = 'http://localhost/get'\n",
    "response = requests.get(url,\n",
    "                       params = {'nome':'fulanito','apelido':'menganez'})\n",
    "response.json()"
   ]
  },
  {
   "cell_type": "code",
   "execution_count": null,
   "id": "be71e23c-d15f-4ee8-a45a-f9a846b87513",
   "metadata": {},
   "outputs": [],
   "source": [
    "## PAYLOAD\n",
    "# En informática y telecomunicaciones la carga útil1(payload en inglés) es el conjunto de datos\n",
    "# transmitidos que es en realidad el mensaje enviado. La carga útil excluye las cabeceras o metadatos,\n",
    "# que son enviados simplemente para facilitar la entrega del mensaje. El término está tomado prestado\n",
    "# del transporte de mercancías, donde carga útil se refiere a la parte de la carga que se utiliza \n",
    "# para costear el transporte. \n",
    "\n",
    "url = 'http://localhost/get'\n",
    "payload = {'nome':'fulanito','apelido':'menganez'}\n",
    "response = requests.get(url,\n",
    "                       params = payload)\n",
    "response.json()"
   ]
  },
  {
   "cell_type": "code",
   "execution_count": null,
   "id": "15d9a20b-89c6-4064-84b2-d21cac696863",
   "metadata": {},
   "outputs": [],
   "source": [
    "# En resumo, algúns endpoint admiten ou requiren o envío de parámetros para proporcionar unha response"
   ]
  },
  {
   "cell_type": "code",
   "execution_count": null,
   "id": "ac7a2ee5-8e05-4caf-a656-fded219bcad4",
   "metadata": {},
   "outputs": [],
   "source": [
    "### REQUEST HEADERS\n",
    "# Ademais de modificar as peticións engadindo parámetros tamén se poden parametrizar as peticións \n",
    "# a través das cabeceiras ou REQUEST HEADERS"
   ]
  },
  {
   "cell_type": "code",
   "execution_count": null,
   "id": "1d8d9502-b583-42fd-9e65-49a7a96342f7",
   "metadata": {},
   "outputs": [],
   "source": [
    "# Exemplo con HTTPBin (en local - docker)\n",
    "# Fíxate nos HEADERS \"default\"\n",
    "url = 'http://localhost/get'\n",
    "response = requests.get(url)\n",
    "response.json()"
   ]
  },
  {
   "cell_type": "code",
   "execution_count": null,
   "id": "9962ac5c-96c0-4815-9203-3582245f5fbd",
   "metadata": {},
   "outputs": [],
   "source": [
    "# Podemos falsear o \"user-agent\", é dicir, quen está a facer as peticións\n",
    "response = requests.get(url,\n",
    "                     headers={'User-Agent' : 'Mozilla/5.0 (Windows NT 10.0; Win64; x64) AppleWebKit/537.36 (KHTML, like Gecko) Chrome/74.0.3729.169 Safari/537.36'})\n",
    "response.json()"
   ]
  },
  {
   "cell_type": "code",
   "execution_count": null,
   "id": "80adcf5d-353f-40d0-93e1-84468c270b19",
   "metadata": {},
   "outputs": [],
   "source": [
    "# Podemos falsear o \"user-agent\", é dicir, quen está a facer as peticións (Realmente podemos engadir calquera cousa)\n",
    "response = requests.get(url,\n",
    "                     headers={'User-Agent' : 'Macanudo Browser 5.1'})\n",
    "response.json()"
   ]
  },
  {
   "cell_type": "code",
   "execution_count": null,
   "id": "29da7977-1ee8-432a-8597-e42158cf917b",
   "metadata": {},
   "outputs": [],
   "source": [
    "# Algunhas apis requiren que indiquemos que formatos aceptamos nas respostas\n",
    "# É común indicar: application/json\n",
    "response = requests.get(url,\n",
    "                     headers={'User-Agent' : 'Macanudo Browser 5.1','Accept':'application/json'})\n",
    "response.json()"
   ]
  },
  {
   "cell_type": "code",
   "execution_count": null,
   "id": "88d1b7bb-8a19-42d1-a1be-b4b0fafc8991",
   "metadata": {},
   "outputs": [],
   "source": [
    "# Mostrar a mesma petición a través do navegador navegando a api\n",
    "# http://localhost/get <- diferente user-agent"
   ]
  },
  {
   "cell_type": "code",
   "execution_count": null,
   "id": "8ef0c313-cac4-4c7f-80a1-f5b8bf09e063",
   "metadata": {},
   "outputs": [],
   "source": [
    "# Mostrar a mesma petición a través de CURL\n",
    "# curl -X GET \"http://localhost/get\" -H  \"accept: application/json\"\n",
    "# En Windows, descargar CURL\n",
    "# https://curl.se/windows/\n",
    "# curl -X == --request <command> -> curl -X GET (por exemplo) ou curl -X PUT\n",
    "# -H  \"accept: application/json\"  <- pasamos en headers do request\n",
    "# Indica o tipo de resposta que aceptaremos"
   ]
  },
  {
   "cell_type": "code",
   "execution_count": null,
   "id": "a72657be-eef3-4b2e-9ddf-f22f1adb22c4",
   "metadata": {},
   "outputs": [],
   "source": []
  },
  {
   "cell_type": "code",
   "execution_count": null,
   "id": "e9915a2e-e6d6-4ffa-9436-5dc706acb57b",
   "metadata": {},
   "outputs": [],
   "source": [
    "# Outros métodos HTTP\n",
    "# POST\n",
    "# PUT\n",
    "# DELETE\n",
    "# ...\n",
    "# Experimentar contra httpbin.org -> pero en docker local"
   ]
  },
  {
   "cell_type": "code",
   "execution_count": null,
   "id": "c16232a2-d28a-4908-83e7-2e14451e4035",
   "metadata": {},
   "outputs": [],
   "source": []
  },
  {
   "cell_type": "code",
   "execution_count": null,
   "id": "eec110fa-38da-47da-9bf3-bc195eda3b00",
   "metadata": {},
   "outputs": [],
   "source": [
    "# POST - envía algo ao servidor CREA\n",
    "# Novo endpoint\n",
    "# Novo método request.post\n",
    "# Novo campo \"data\"\n",
    "# Ollo, en post os datos non van na URL\n",
    "# O payload permite diferentes formatos\n",
    "url = 'http://localhost/post'\n",
    "payload = {'nome':'fulanito','apelido':'menganez'}\n",
    "response = requests.post(url,\n",
    "                       data = payload)\n",
    "response.json()"
   ]
  },
  {
   "cell_type": "code",
   "execution_count": null,
   "id": "6691d17a-ec90-4343-897d-2dbb31559a3e",
   "metadata": {},
   "outputs": [],
   "source": []
  },
  {
   "cell_type": "code",
   "execution_count": null,
   "id": "df7c522e-bc74-4de7-83c0-9e76596efc23",
   "metadata": {},
   "outputs": [],
   "source": [
    "### AUTENTICACIÓN\n",
    "# Algunhas APIs requiren de autenticación para poder utilizalas\n",
    "# Algúns dos motivos poden ser:\n",
    "# Son un servizo de pago que ofrece unha empresa\n",
    "# Son moi esixentes a nivel de procesamento e exixen limitacións\n",
    "# ..."
   ]
  },
  {
   "cell_type": "code",
   "execution_count": null,
   "id": "1fb55d62-1932-42bf-80c6-77df6e8f092a",
   "metadata": {},
   "outputs": [],
   "source": []
  },
  {
   "cell_type": "code",
   "execution_count": null,
   "id": "e292bfb0-68ae-4893-b1cb-abff7f9769a0",
   "metadata": {},
   "outputs": [],
   "source": [
    "# Api de conversión de moedas\n",
    "# https://www.currencyconverterapi.com/\n",
    "url = 'https://api.currconv.com/api/v7/convert?q=USD_PHP,PHP_USD&compact=ultra&apiKey=YOUR_API_KEY'\n",
    "response = requests.get(url)\n",
    "response.json()"
   ]
  },
  {
   "cell_type": "code",
   "execution_count": null,
   "id": "a0f5ec36-b5c1-4a40-b570-b84c0d797f1b",
   "metadata": {},
   "outputs": [],
   "source": [
    "# Solicita unha nova API KEY\n",
    "# Comprobar se o server está up ou down"
   ]
  },
  {
   "cell_type": "code",
   "execution_count": null,
   "id": "488d4529-3884-4b54-9ca3-73b1430446a4",
   "metadata": {},
   "outputs": [],
   "source": [
    "# Reconfigurando a petición anterior\n",
    "# Ten en conta a documentación\n",
    "# https://www.currencyconverterapi.com/docs\n",
    "\n",
    "# Listar cambios\n",
    "url  = 'https://free.currconv.com/api/v7/currencies'\n",
    "API_KEY = 'API-KEY'\n",
    "response = requests.get(url, params = {'apiKey':API_KEY})\n",
    "#response.json()\n",
    "response.url"
   ]
  },
  {
   "cell_type": "code",
   "execution_count": null,
   "id": "8b327370-8806-42ef-a3f1-5747997da4fb",
   "metadata": {},
   "outputs": [],
   "source": [
    "# Alternativa para cambio de moedas\n",
    "# https://exchangeratesapi.io/\n",
    "# Ten en conta a documentación\n",
    "# https://exchangeratesapi.io/documentation/\n",
    "\n",
    "# Listar cambios\n",
    "url  = 'https://api.exchangeratesapi.io/v1/'\n",
    "response = requests.get(url)\n",
    "response.json()\n",
    "#response.url"
   ]
  },
  {
   "cell_type": "code",
   "execution_count": null,
   "id": "efa11817-b134-4f24-a7a9-dd582dea965c",
   "metadata": {},
   "outputs": [],
   "source": [
    "# http://api.exchangeratesapi.io/v1/\n",
    "# http://api.exchangeratesapi.io/v1/latest?access_key=08e6e099041473b9af52120ae48619a7\n",
    "\n",
    "url  = 'http://api.exchangeratesapi.io/v1/latest'\n",
    "API_KEY = 'API-KEY'\n",
    "response = requests.get(url, params = {'access_key':API_KEY})\n",
    "response.json()\n",
    "#response.url"
   ]
  },
  {
   "cell_type": "code",
   "execution_count": null,
   "id": "aa542f9c-7bf4-4770-be0e-d9ff3b098308",
   "metadata": {},
   "outputs": [],
   "source": [
    "# CONVERSIÓN DE MOEDA\n",
    "\n",
    "url  = 'http://api.exchangeratesapi.io/v1/convert'\n",
    "API_KEY = 'API-KEY'\n",
    "payload = {'access_key':API_KEY, 'base':'USD'}\n",
    "response = requests.get(url, params = payload )\n",
    "response.json()\n",
    "#response.url"
   ]
  },
  {
   "cell_type": "code",
   "execution_count": null,
   "id": "55c7ac27-9465-43ae-bbcd-4a12f06b7ba6",
   "metadata": {},
   "outputs": [],
   "source": [
    "# CONVERSIÓN DE MOEDA\n",
    "\n",
    "url  = 'http://api.exchangeratesapi.io/v1/convert'\n",
    "API_KEY = 'API-KEY'\n",
    "payload = {'access_key':API_KEY, 'from':'EU','to':'GBP'}\n",
    "response = requests.get(url, params = payload )\n",
    "response.json()\n",
    "response.url"
   ]
  },
  {
   "cell_type": "code",
   "execution_count": null,
   "id": "80be93f9-00e1-4cd4-9fa5-1260fa008193",
   "metadata": {},
   "outputs": [],
   "source": [
    "# A autenticación que pasamos como parámetro non é en absoluto segura\n",
    "# Existen outros métodos de autenticación máis seguros\n",
    "# Por exemplo, enviar a información dun token no header\n",
    "# extraer o endpoint do swagger (por exemplo)\n",
    "url = 'https://379638bf-7385-45fc-8862-8297e2a7a6c4-eu-west-1.apps.astra.datastax.com/api/rest/v2/namespaces/document/collections'\n",
    "token = { 'x-cassandra-token': 'TOKEN-CASSANDRA'}\n",
    "response = requests.get(url, headers = token )\n",
    "response.json()\n",
    "#response.url\n"
   ]
  },
  {
   "cell_type": "code",
   "execution_count": null,
   "id": "d050b1e3-f491-440b-99ee-d2f4aece9b2b",
   "metadata": {},
   "outputs": [],
   "source": [
    "# a información vai nos headers, non na url\n",
    "response.url"
   ]
  },
  {
   "cell_type": "code",
   "execution_count": null,
   "id": "5c2e45f8-3293-422f-8601-a4964800f98d",
   "metadata": {},
   "outputs": [],
   "source": []
  },
  {
   "cell_type": "code",
   "execution_count": null,
   "id": "12ed61bc-4304-4d70-9921-8d1af67ff587",
   "metadata": {},
   "outputs": [],
   "source": [
    "# Recapitulando:\n",
    "# Query String Parámeters para configurar peticións GET\n",
    "# Request Headers para configurar peticións GET\n",
    "# Autenticación mediante parámetros\n",
    "# Autenticación mediante headers"
   ]
  }
 ],
 "metadata": {
  "kernelspec": {
   "display_name": "Python 3 (ipykernel)",
   "language": "python",
   "name": "python3"
  },
  "language_info": {
   "codemirror_mode": {
    "name": "ipython",
    "version": 3
   },
   "file_extension": ".py",
   "mimetype": "text/x-python",
   "name": "python",
   "nbconvert_exporter": "python",
   "pygments_lexer": "ipython3",
   "version": "3.8.12"
  }
 },
 "nbformat": 4,
 "nbformat_minor": 5
}
