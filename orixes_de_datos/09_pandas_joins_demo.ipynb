{
 "cells": [
  {
   "cell_type": "markdown",
   "id": "c2978034-6d64-4528-933c-618bf9a1e326",
   "metadata": {},
   "source": [
    "## Pandas - Operacións con Dataframes"
   ]
  },
  {
   "cell_type": "code",
   "execution_count": null,
   "id": "db82b226-7ce1-49c0-9f14-25c302b128ff",
   "metadata": {},
   "outputs": [],
   "source": [
    "import pandas as pd"
   ]
  },
  {
   "cell_type": "markdown",
   "id": "6c5afb43-f153-46e8-8771-419eeb09b7d3",
   "metadata": {},
   "source": [
    "###  Creación de Dataframes"
   ]
  },
  {
   "cell_type": "code",
   "execution_count": null,
   "id": "63273a20-5238-44d4-a42e-38c837cf5463",
   "metadata": {},
   "outputs": [],
   "source": [
    "# Podemos usar diversos orixes de datos (ficheiros, APIS, scraping ...) para crear Dataframes,\n",
    "# así como crealos a partir de diccionarios con series de datos\n",
    "\n",
    "# A continuación créanse algúns dataframes de exemplo"
   ]
  },
  {
   "cell_type": "code",
   "execution_count": null,
   "id": "e591d27c-41e3-4114-b38b-39a480affb87",
   "metadata": {},
   "outputs": [],
   "source": [
    "datos_1 = {\n",
    "        'id': ['1', '2', '3', '4', '5'],\n",
    "        'atributo1': ['A', 'C', 'E', 'G', 'I'],\n",
    "        'atributo2': ['B', 'D', 'F', 'H', 'J']}"
   ]
  },
  {
   "cell_type": "code",
   "execution_count": null,
   "id": "ccd0e83a-9fea-484a-8a1f-e6664ec286f3",
   "metadata": {},
   "outputs": [],
   "source": [
    "datos_1"
   ]
  },
  {
   "cell_type": "code",
   "execution_count": null,
   "id": "05c75d9e-8897-46f0-93ff-b29a6cbabdef",
   "metadata": {},
   "outputs": [],
   "source": [
    "df1 = pd.DataFrame(datos_1, columns = ['id', 'atributo1', 'atributo2'])"
   ]
  },
  {
   "cell_type": "code",
   "execution_count": null,
   "id": "538cc6d0-07b1-4820-a3b4-d2b6cb1b1c21",
   "metadata": {},
   "outputs": [],
   "source": [
    "df1"
   ]
  },
  {
   "cell_type": "code",
   "execution_count": null,
   "id": "d1d4e2c9-a938-41da-bd09-c9a06a3bd62e",
   "metadata": {},
   "outputs": [],
   "source": [
    "datos2 = {\n",
    "        'id': ['1', '2', '6', '7', '8'],\n",
    "        'atributo1': ['K', 'M', 'O', 'Q', 'S'],\n",
    "        'atributo2': ['L', 'N', 'P', 'R', 'T']}\n",
    "df2 = pd.DataFrame(datos2, columns = ['id', 'atributo1', 'atributo2'])\n",
    "df2"
   ]
  },
  {
   "cell_type": "code",
   "execution_count": null,
   "id": "9c453d6a-1210-4d8b-93bc-1686ea6f6246",
   "metadata": {},
   "outputs": [],
   "source": [
    "datos3 = {\n",
    "        'id': ['1', '2', '3', '4', '5', '7', '8', '9', '10', '11'],\n",
    "        'atributo3': [12, 13, 14, 15, 16, 17, 15, 12, 13, 23]}\n",
    "df3 = pd.DataFrame(datos3, columns = ['id', 'atributo3'])\n",
    "df3"
   ]
  },
  {
   "cell_type": "markdown",
   "id": "6ef226d3-562b-443a-addb-ca5cc54d76e7",
   "metadata": {},
   "source": [
    "###  Concatenar dataframes"
   ]
  },
  {
   "cell_type": "code",
   "execution_count": null,
   "id": "3209191e-97a4-4eb6-973d-c77e8d943043",
   "metadata": {},
   "outputs": [],
   "source": [
    "# É posible concatenar daframes coa mesma estrutura (similar a UNION de táboas en modelo relacional)\n",
    "df_concat = pd.concat([df1, df2])\n",
    "\n",
    "# Ollo á concatenación de índices\n",
    "df_concat"
   ]
  },
  {
   "cell_type": "code",
   "execution_count": null,
   "id": "f67f6a3a-5e4d-4bee-b577-f128dae0594d",
   "metadata": {},
   "outputs": [],
   "source": [
    "# Cabe a posibilidade de crear un novo index na concatenación\n",
    "df_concat_reindex = pd.concat([df1, df2], ignore_index=True)\n",
    "\n",
    "df_concat_reindex"
   ]
  },
  {
   "cell_type": "markdown",
   "id": "99124979-090e-4da3-9ba9-1d5423c050ec",
   "metadata": {},
   "source": [
    "### Merge (fusión) de dataframes"
   ]
  },
  {
   "cell_type": "code",
   "execution_count": null,
   "id": "06ae3bcd-6b61-409f-9476-efed4d1c3ac8",
   "metadata": {},
   "outputs": [],
   "source": [
    "# A fusión ou merge de dataframes precisa dun campo en común (similar ao JOIN do modelo relacional)\n",
    "# Info de relacións JOIN desde a perspectiva do modelo relacional:\n",
    "# https://tableplus.com/blog/2018/09/a-beginners-guide-to-seven-types-of-sql-joins.html"
   ]
  },
  {
   "cell_type": "markdown",
   "id": "52084060-ccb7-486a-9ef7-379e46b37c25",
   "metadata": {},
   "source": [
    "![](join-types-merge-names.jpg)"
   ]
  },
  {
   "cell_type": "code",
   "execution_count": null,
   "id": "2e8a5ea7-e1e5-406b-b528-7935953c7b61",
   "metadata": {},
   "outputs": [],
   "source": [
    "df_concat"
   ]
  },
  {
   "cell_type": "code",
   "execution_count": null,
   "id": "dddc247c-3428-4c74-a408-e537165903b7",
   "metadata": {},
   "outputs": [],
   "source": [
    "df3"
   ]
  },
  {
   "cell_type": "code",
   "execution_count": null,
   "id": "b83a5be2-e66f-46c2-a331-f17bd00baf4b",
   "metadata": {},
   "outputs": [],
   "source": [
    "# Na chamada ao merge especifícase o campo en común dos dous dataframes\n",
    "df_merge_col = pd.merge(df_concat, df3, on='id')\n",
    "\n",
    "df_merge_col"
   ]
  },
  {
   "cell_type": "code",
   "execution_count": null,
   "id": "0442c26d-cd11-4263-bc93-703e30aac326",
   "metadata": {},
   "outputs": [],
   "source": [
    "df4 = df4.rename(columns={'id':'codigo'})\n",
    "df4"
   ]
  },
  {
   "cell_type": "code",
   "execution_count": null,
   "id": "98a9be8d-0e3b-4cb9-89ed-7322bc5a9abd",
   "metadata": {},
   "outputs": [],
   "source": [
    "# No caso de que a columna de unión non se chama igual hai que especificar\n",
    "df_merge_difkey = pd.merge(df_concat, df4, left_on='id', right_on='codigo')\n",
    "\n",
    "df_merge_difkey"
   ]
  },
  {
   "cell_type": "code",
   "execution_count": null,
   "id": "e8f37148-27c4-41b2-9659-fc0d0fde95e9",
   "metadata": {},
   "outputs": [],
   "source": [
    "df_merge_difkey= df_merge_difkey.drop(columns=['codigo'])"
   ]
  },
  {
   "cell_type": "code",
   "execution_count": null,
   "id": "1dd9bac1-0bc4-4548-8c64-41752fbdb6ed",
   "metadata": {},
   "outputs": [],
   "source": [
    "df_merge_difkey"
   ]
  },
  {
   "cell_type": "code",
   "execution_count": null,
   "id": "28c92427-1223-4042-8687-180d1ad81b57",
   "metadata": {},
   "outputs": [],
   "source": [
    "# Para engadir liñas é necesario crear unha serie cos datos correspondentes\n",
    "# Se non se engade algún atributo créase co valor Nan\n",
    "# Se se engaden atributos inexistentes créanse novas columnas\n",
    "add_row = pd.Series(['10', 'X1', 'X2', 'X3'],\n",
    "                    index=['id','atributo1', 'atributo2', 'atributo3'])\n",
    "\n",
    "df_add_row = df_merge_col.append(add_row, ignore_index=True)\n",
    "\n",
    "df_add_row"
   ]
  },
  {
   "cell_type": "code",
   "execution_count": null,
   "id": "999c92bc-7a5d-4d50-bf62-16f5b1367b1d",
   "metadata": {},
   "outputs": [],
   "source": [
    "# FULL OUTER JOIN\n",
    "# Tal como no modelo relacional, un full outer join fai todas as combinacións posibles\n",
    "# Tanto pola esquerda como pola dereita"
   ]
  },
  {
   "cell_type": "code",
   "execution_count": null,
   "id": "28bf290c-1f1d-45cf-81ba-db2c90def256",
   "metadata": {},
   "outputs": [],
   "source": [
    "df1"
   ]
  },
  {
   "cell_type": "code",
   "execution_count": null,
   "id": "0a647ac2-5509-4c69-8a94-08de299d95cc",
   "metadata": {},
   "outputs": [],
   "source": [
    "df2"
   ]
  },
  {
   "cell_type": "code",
   "execution_count": null,
   "id": "d71ef4dd-e57b-4d28-a9bd-eaebe472da53",
   "metadata": {},
   "outputs": [],
   "source": [
    "# neste caso df1 join df2 (incluíndo nulls cando non cadran)\n",
    "df_outer = pd.merge(df1, df2, on='id', how='outer')\n",
    "\n",
    "df_outer"
   ]
  },
  {
   "cell_type": "code",
   "execution_count": null,
   "id": "e7fe5fbd-376b-4325-886b-b06a7cd944cf",
   "metadata": {},
   "outputs": [],
   "source": [
    "# Ao encontrar nomes de columnas repetidas engadi sufixos\n",
    "# podo especificar os nomes das columnas\n",
    "df_suffix = pd.merge(df1, df2, left_on='id',right_on='id',how='outer',suffixes=('_df1','_df2'))\n",
    "\n",
    "df_suffix"
   ]
  },
  {
   "cell_type": "code",
   "execution_count": null,
   "id": "9e01039e-36ff-4a33-929b-8c97dbe58e38",
   "metadata": {},
   "outputs": [],
   "source": [
    "# INNER JOIN\n",
    "# Ao contrario que o full outer join, o INNER JOIN só garda aquelas liñas para que comparten identificador\n",
    "# neste caso df1 join df2 (elimina os que non cadran)"
   ]
  },
  {
   "cell_type": "code",
   "execution_count": null,
   "id": "2fd6ca66-a689-4d43-b785-4121ea534c71",
   "metadata": {},
   "outputs": [],
   "source": [
    "df_inner = pd.merge(df1, df2, on='id', how='inner')\n",
    "\n",
    "df_inner"
   ]
  },
  {
   "cell_type": "code",
   "execution_count": null,
   "id": "6906c094-6808-4557-8612-b2de66264caa",
   "metadata": {},
   "outputs": [],
   "source": [
    "# O comportamento de xeito predeterminadado é un INNER JOIN\n",
    "borrame = pd.merge(df1, df2, on='id')\n",
    "\n",
    "df_inner"
   ]
  },
  {
   "cell_type": "code",
   "execution_count": null,
   "id": "24780b66-fbe7-45e2-ab82-2c19a8c6a702",
   "metadata": {},
   "outputs": [],
   "source": [
    "# RIGHT JOIN\n",
    "df_right = pd.merge(df1, df2, on='id', how='right')\n",
    "\n",
    "df_right"
   ]
  },
  {
   "cell_type": "code",
   "execution_count": null,
   "id": "b0b8da42-4b5a-4f3d-9333-f7588953e5b9",
   "metadata": {},
   "outputs": [],
   "source": [
    "# LEFT JOIN\n",
    "df_left = pd.merge(df1, df2, on='id', how='left')\n",
    "\n",
    "df_left"
   ]
  },
  {
   "cell_type": "markdown",
   "id": "7f80f976-5b94-43ba-88fe-63a9cee19736",
   "metadata": {},
   "source": [
    "### Merging en Time-series"
   ]
  },
  {
   "cell_type": "code",
   "execution_count": null,
   "id": "d541afc8-10a9-466b-9068-6d9e6c2988b4",
   "metadata": {},
   "outputs": [],
   "source": [
    "# Porque o merge en time-series pode complicarse se os tempos non son exactos\n",
    "# Trátase de establecer certos niveis de tolerancia"
   ]
  },
  {
   "cell_type": "code",
   "execution_count": null,
   "id": "98c577fd-d85a-4ffc-a954-5fdcd756a597",
   "metadata": {},
   "outputs": [],
   "source": [
    "trades = pd.DataFrame({\n",
    "    'time': pd.to_datetime(['20160525 13:30:00.023',\n",
    "                            '20160525 13:30:00.038',\n",
    "                            '20160525 13:30:00.048',\n",
    "                            '20160525 13:30:00.048',\n",
    "                            '20160525 13:30:00.048']),\n",
    "    'ticker': ['MSFT', 'MSFT','GOOG', 'GOOG', 'AAPL'],\n",
    "    'price': [51.95, 51.95,720.77, 720.92, 98.00],\n",
    "    'quantity': [75, 155,100, 100, 100]},\n",
    "    columns=['time', 'ticker', 'price', 'quantity'])\n",
    "\n",
    "quotes = pd.DataFrame({\n",
    "    'time': pd.to_datetime(['20160525 13:30:00.023',\n",
    "                            '20160525 13:30:00.023',\n",
    "                            '20160525 13:30:00.030',\n",
    "                            '20160525 13:30:00.041',\n",
    "                            '20160525 13:30:00.048',\n",
    "                            '20160525 13:30:00.049',\n",
    "                            '20160525 13:30:00.072',\n",
    "                            '20160525 13:30:00.075']),\n",
    "    'ticker': ['GOOG', 'MSFT', 'MSFT','MSFT', 'GOOG', 'AAPL', 'GOOG','MSFT'],\n",
    "    'bid': [720.50, 51.95, 51.97, 51.99,720.50, 97.99, 720.50, 52.01],\n",
    "    'ask': [720.93, 51.96, 51.98, 52.00,720.93, 98.01, 720.88, 52.03]},\n",
    "    columns=['time', 'ticker', 'bid', 'ask'])"
   ]
  },
  {
   "cell_type": "code",
   "execution_count": null,
   "id": "d2e88e9c-c343-4985-90b0-641ce035e016",
   "metadata": {},
   "outputs": [],
   "source": [
    "trades"
   ]
  },
  {
   "cell_type": "code",
   "execution_count": null,
   "id": "39ad6c5e-8148-4382-96e0-784582299991",
   "metadata": {},
   "outputs": [],
   "source": [
    "quotes"
   ]
  },
  {
   "cell_type": "code",
   "execution_count": null,
   "id": "c2852705-e97c-4df4-be8a-55d1cb6ae24f",
   "metadata": {},
   "outputs": [],
   "source": [
    "# \n",
    "df_merge_asof = pd.merge_asof(trades, quotes,\n",
    "              on='time',\n",
    "              by='ticker')\n",
    "\n",
    "df_merge_asof"
   ]
  },
  {
   "cell_type": "code",
   "execution_count": null,
   "id": "1981d3ac-0fa9-411e-b61b-2ed134bbdbf1",
   "metadata": {},
   "outputs": [],
   "source": [
    "df_merge_asof_tolerance = pd.merge_asof(trades, quotes,\n",
    "              on='time',\n",
    "              by='ticker',\n",
    "              tolerance=pd.Timedelta('2ms'))\n",
    "\n",
    "df_merge_asof_tolerance"
   ]
  },
  {
   "cell_type": "code",
   "execution_count": null,
   "id": "0db65ccd-d9c8-41a4-b622-75f7eaa1a6a5",
   "metadata": {},
   "outputs": [],
   "source": []
  }
 ],
 "metadata": {
  "kernelspec": {
   "display_name": "Python 3 (ipykernel)",
   "language": "python",
   "name": "python3"
  },
  "language_info": {
   "codemirror_mode": {
    "name": "ipython",
    "version": 3
   },
   "file_extension": ".py",
   "mimetype": "text/x-python",
   "name": "python",
   "nbconvert_exporter": "python",
   "pygments_lexer": "ipython3",
   "version": "3.8.12"
  }
 },
 "nbformat": 4,
 "nbformat_minor": 5
}
