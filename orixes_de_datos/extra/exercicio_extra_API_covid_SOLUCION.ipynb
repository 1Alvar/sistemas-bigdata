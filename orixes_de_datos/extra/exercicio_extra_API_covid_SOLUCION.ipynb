{
 "cells": [
  {
   "cell_type": "code",
   "execution_count": 1,
   "id": "08ba6949-f14e-4766-b391-a8ceff7b0533",
   "metadata": {},
   "outputs": [],
   "source": [
    "import requests"
   ]
  },
  {
   "cell_type": "code",
   "execution_count": 2,
   "id": "8fa8b0bd-5d93-45b7-b9a5-a19ee1b3cd64",
   "metadata": {},
   "outputs": [],
   "source": [
    "# Proxecto Covid-19 en narrativa.com"
   ]
  },
  {
   "cell_type": "code",
   "execution_count": 3,
   "id": "599d1700-f3ca-4009-871c-772dc619100c",
   "metadata": {},
   "outputs": [],
   "source": [
    "# Indica as URLs de documentación da API\n",
    "# https://covid19tracking.narrativa.com/es/spain/api.html\n",
    "# https://documenter.getpostman.com/view/10831675/SzYZ1eNY"
   ]
  },
  {
   "cell_type": "code",
   "execution_count": 4,
   "id": "bd7ba842-7dc1-4d81-b255-dfb2469b4240",
   "metadata": {},
   "outputs": [],
   "source": [
    "# Nota: algunhas APIs constrúen os seus endpoints mediante datos que lles proporcionamos.\n",
    "# Nestes casos é normal que non se pasen os parámetros dentro da solicitude (usando \"param\", por exemplo)\n",
    "# senón que utilizamos algúns datos para construír a propia URL á que facer as consultas"
   ]
  },
  {
   "cell_type": "code",
   "execution_count": 5,
   "id": "81c08299-bbf4-4333-8fae-2e8733c819cd",
   "metadata": {},
   "outputs": [],
   "source": [
    "# 1. Consultar número de infectados Covid-19 ata o día de hoxe en todo o mundo"
   ]
  },
  {
   "cell_type": "code",
   "execution_count": 6,
   "id": "cb3e2297-6640-43b9-b2ce-81e5d9083ce5",
   "metadata": {},
   "outputs": [],
   "source": [
    "from datetime import date, timedelta\n",
    "\n",
    "hoxe = date.today().strftime('%Y-%m-%d')"
   ]
  },
  {
   "cell_type": "code",
   "execution_count": 7,
   "id": "c7ad2eb2-f0fc-4953-a5c2-6aea6f087297",
   "metadata": {},
   "outputs": [],
   "source": [
    "url_base = 'https://api.covid19tracking.narrativa.com/api/'"
   ]
  },
  {
   "cell_type": "code",
   "execution_count": 8,
   "id": "250160e0-8b19-43a9-8d4e-a637f174c10d",
   "metadata": {},
   "outputs": [],
   "source": [
    "data = hoxe\n",
    "url = url_base+data\n",
    "response = requests.get(url)"
   ]
  },
  {
   "cell_type": "code",
   "execution_count": 9,
   "id": "c8fc0e57-b2b7-4ae4-80ce-185a78e03960",
   "metadata": {},
   "outputs": [
    {
     "data": {
      "text/plain": [
       "'https://api.covid19tracking.narrativa.com/api/2021-12-30'"
      ]
     },
     "execution_count": 9,
     "metadata": {},
     "output_type": "execute_result"
    }
   ],
   "source": [
    "# Podo consultar a URL á que estou consultando\n",
    "response.url"
   ]
  },
  {
   "cell_type": "code",
   "execution_count": 10,
   "id": "ed230d60-2c59-4f59-9ea8-4a3ff8b29a65",
   "metadata": {},
   "outputs": [],
   "source": [
    "##response.json()"
   ]
  },
  {
   "cell_type": "code",
   "execution_count": 11,
   "id": "9ce57fe8-6af0-403c-af6f-b435ed4f8410",
   "metadata": {},
   "outputs": [
    {
     "name": "stdout",
     "output_type": "stream",
     "text": [
      "Total confirmados mundial: 285169271\n"
     ]
    }
   ],
   "source": [
    "total_confirmados_mundial = response.json()['total']['today_confirmed']\n",
    "print(f'Total confirmados mundial: {total_confirmados_mundial}')"
   ]
  },
  {
   "cell_type": "code",
   "execution_count": 12,
   "id": "e0c47d58-4efb-4441-94a0-c2c9cb17bc22",
   "metadata": {},
   "outputs": [],
   "source": [
    "# 2. Compara o número de novos casos a día de hoxe coa situación hai exactamente un ano (en todo o mundo)"
   ]
  },
  {
   "cell_type": "code",
   "execution_count": 13,
   "id": "4d2c61c2-0f55-421b-b85e-84d424e37a09",
   "metadata": {},
   "outputs": [
    {
     "name": "stdout",
     "output_type": "stream",
     "text": [
      "Novos confirmados hoxe: 997903\n"
     ]
    }
   ],
   "source": [
    "novos_casos_mundial_hoxe = response.json()['total']['today_new_confirmed']\n",
    "print(f'Novos confirmados hoxe: {novos_casos_mundial_hoxe}')"
   ]
  },
  {
   "cell_type": "code",
   "execution_count": 14,
   "id": "c4a7795f-687a-4b59-93ca-839994e28edf",
   "metadata": {},
   "outputs": [],
   "source": [
    "hai_un_ano = date.today() - timedelta(days=365)\n",
    "hai_un_ano = hai_un_ano.strftime('%Y-%m-%d')"
   ]
  },
  {
   "cell_type": "code",
   "execution_count": 15,
   "id": "db18499f-d42b-4b21-82ea-4a726e36f142",
   "metadata": {},
   "outputs": [],
   "source": [
    "data = hai_un_ano\n",
    "url = url_base+data\n",
    "response = requests.get(url)"
   ]
  },
  {
   "cell_type": "code",
   "execution_count": 16,
   "id": "2d74842f-085b-4adf-a849-5aaebab06bcc",
   "metadata": {},
   "outputs": [
    {
     "name": "stdout",
     "output_type": "stream",
     "text": [
      "Novos confirmados un ano atrás: 702337\n",
      "Novos confirmados hoxe: 997903\n"
     ]
    }
   ],
   "source": [
    "novos_casos_mundial_haiunano = response.json()['total']['today_new_confirmed']\n",
    "print(f'Novos confirmados un ano atrás: {novos_casos_mundial_haiunano}')\n",
    "print(f'Novos confirmados hoxe: {novos_casos_mundial_hoxe}')"
   ]
  },
  {
   "cell_type": "code",
   "execution_count": 17,
   "id": "a7cae01c-01a1-427f-ac09-61fa6fa47c5b",
   "metadata": {},
   "outputs": [],
   "source": [
    "# 3. Compara o número de mortes no día de onte e o número de mortes un ano atrás no mesmo día"
   ]
  },
  {
   "cell_type": "code",
   "execution_count": 18,
   "id": "4d6eb1f7-2089-4724-a52c-db939574b1a6",
   "metadata": {},
   "outputs": [],
   "source": [
    "data = ((date.today() - timedelta(days=1)).strftime('%Y-%m-%d'))\n",
    "url = url_base+data\n",
    "response = requests.get(url)\n",
    "mortes_onte = response.json()['total']['today_new_deaths']"
   ]
  },
  {
   "cell_type": "code",
   "execution_count": 19,
   "id": "10a166a3-75fa-4a43-8af9-d84b4c370eb4",
   "metadata": {},
   "outputs": [],
   "source": [
    "data = ((date.today() - timedelta(days=366)).strftime('%Y-%m-%d'))\n",
    "url = url_base+data\n",
    "response = requests.get(url)\n",
    "mortes_haiunano = response.json()['total']['today_new_deaths']"
   ]
  },
  {
   "cell_type": "code",
   "execution_count": 20,
   "id": "8587b864-2ce6-41f7-a7ff-0d07b566f321",
   "metadata": {},
   "outputs": [
    {
     "name": "stdout",
     "output_type": "stream",
     "text": [
      "Mortes un ano atrás: 15460\n",
      "Mortes de onte: 7931\n",
      "Diferenza: -7529\n"
     ]
    }
   ],
   "source": [
    "print(f'Mortes un ano atrás: {mortes_haiunano}')\n",
    "print(f'Mortes de onte: {mortes_onte}')\n",
    "print(f'Diferenza: {mortes_onte - mortes_haiunano}')"
   ]
  },
  {
   "cell_type": "code",
   "execution_count": 21,
   "id": "b0692bbf-49f6-4a5c-88f2-d50aa055d593",
   "metadata": {},
   "outputs": [],
   "source": [
    "# 4. Compara o número de novos casos en España a día de hoxe e hai un ano.\n",
    "#    Fai o mesmo para o número de falecementos"
   ]
  },
  {
   "cell_type": "code",
   "execution_count": 22,
   "id": "ee2db0fe-8622-44b3-b450-6f4d0ffe9150",
   "metadata": {},
   "outputs": [
    {
     "data": {
      "text/plain": [
       "'https://api.covid19tracking.narrativa.com/api/2021-12-30/country/spain'"
      ]
     },
     "execution_count": 22,
     "metadata": {},
     "output_type": "execute_result"
    }
   ],
   "source": [
    "data = (date.today().strftime('%Y-%m-%d'))\n",
    "pais = 'spain'\n",
    "url = url_base+data+'/country/'+pais\n",
    "response = requests.get(url)\n",
    "mortes_hoxe_spain = response.json()['dates'][data]['countries']['Spain']['today_new_deaths']\n",
    "contaxios_hoxe_spain = response.json()['dates'][data]['countries']['Spain']['today_new_confirmed']\n",
    "response.url"
   ]
  },
  {
   "cell_type": "code",
   "execution_count": 23,
   "id": "026bc98b-3268-4b20-9cc9-f9e2ae469f5b",
   "metadata": {},
   "outputs": [
    {
     "data": {
      "text/plain": [
       "'https://api.covid19tracking.narrativa.com/api/2020-12-30/country/spain'"
      ]
     },
     "execution_count": 23,
     "metadata": {},
     "output_type": "execute_result"
    }
   ],
   "source": [
    "data = ((date.today() - timedelta(days=365)).strftime('%Y-%m-%d'))\n",
    "pais = 'spain'\n",
    "url = url_base+data+'/country/'+pais\n",
    "response = requests.get(url)\n",
    "mortes_haiunano_spain = response.json()['dates'][data]['countries']['Spain']['today_new_deaths']\n",
    "contaxios_haiunano_spain = response.json()['dates'][data]['countries']['Spain']['today_new_confirmed']\n",
    "response.url"
   ]
  },
  {
   "cell_type": "code",
   "execution_count": 24,
   "id": "79bc1fc4-e93a-4980-9e99-c588c9995c4c",
   "metadata": {},
   "outputs": [
    {
     "name": "stdout",
     "output_type": "stream",
     "text": [
      "España\n",
      "Contaxios un ano atrás: 16716\n",
      "Contaxios de hoxe: 100760\n",
      "Diferenza: 84044\n",
      "Mortes un ano atrás: 247\n",
      "Mortes de onte: 78\n",
      "Diferenza: -169\n"
     ]
    }
   ],
   "source": [
    "print(f'España')\n",
    "print(f'Contaxios un ano atrás: {contaxios_haiunano_spain}')\n",
    "print(f'Contaxios de hoxe: {contaxios_hoxe_spain}')\n",
    "print(f'Diferenza: {contaxios_hoxe_spain - contaxios_haiunano_spain}')\n",
    "print(f'Mortes un ano atrás: {mortes_haiunano_spain}')\n",
    "print(f'Mortes de onte: {mortes_hoxe_spain}')\n",
    "print(f'Diferenza: {mortes_hoxe_spain - mortes_haiunano_spain}')"
   ]
  },
  {
   "cell_type": "code",
   "execution_count": 25,
   "id": "47b22159-5320-4c23-894c-16979e2c21d1",
   "metadata": {},
   "outputs": [],
   "source": [
    "# 5. Compara o número de novos casos en Galicia a día de hoxe e hai un ano.\n",
    "#    Fai o mesmo para o número de falecementos"
   ]
  },
  {
   "cell_type": "code",
   "execution_count": 26,
   "id": "8fc630a2-6066-4861-905a-07d8b86f30a3",
   "metadata": {},
   "outputs": [
    {
     "name": "stdout",
     "output_type": "stream",
     "text": [
      "Galicia\n",
      "Contaxios un ano atrás: 425\n",
      "Contaxios de hoxe: 5179\n",
      "Diferenza: 4754\n",
      "Mortes un ano atrás: 5\n",
      "Mortes de onte: 4\n",
      "Diferenza: -1\n"
     ]
    }
   ],
   "source": [
    "pais = 'spain'\n",
    "rexion = 'galicia'\n",
    "data = (date.today().strftime('%Y-%m-%d'))\n",
    "url = url_base+data+'/country/'+pais+'/region/'+rexion\n",
    "\n",
    "\n",
    "response = requests.get(url)\n",
    "mortes_hoxe_galicia = response.json()['dates'][data]['countries']['Spain']['regions'][0]['today_new_deaths']\n",
    "contaxios_hoxe_galicia = response.json()['dates'][data]['countries']['Spain']['regions'][0]['today_new_confirmed']\n",
    "\n",
    "data = ((date.today() - timedelta(days=365)).strftime('%Y-%m-%d'))\n",
    "url = url_base+data+'/country/'+pais+'/region/'+rexion\n",
    "\n",
    "response = requests.get(url)\n",
    "mortes_haiunano_galicia = response.json()['dates'][data]['countries']['Spain']['regions'][0]['today_new_deaths']\n",
    "contaxios_haiunano_galicia = response.json()['dates'][data]['countries']['Spain']['regions'][0]['today_new_confirmed']\n",
    "\n",
    "print(f'Galicia')\n",
    "print(f'Contaxios un ano atrás: {contaxios_haiunano_galicia}')\n",
    "print(f'Contaxios de hoxe: {contaxios_hoxe_galicia}')\n",
    "print(f'Diferenza: {contaxios_hoxe_galicia - contaxios_haiunano_galicia}')\n",
    "print(f'Mortes un ano atrás: {mortes_haiunano_galicia}')\n",
    "print(f'Mortes de onte: {mortes_hoxe_galicia}')\n",
    "print(f'Diferenza: {mortes_hoxe_galicia - mortes_haiunano_galicia}')"
   ]
  },
  {
   "cell_type": "code",
   "execution_count": 27,
   "id": "af2103b1-045c-4fba-9837-5dd46be5653e",
   "metadata": {},
   "outputs": [],
   "source": [
    "# 6. Número de novos contaxios ao longo do pasado mes de decembro (1-12-2021 -> 31-12-2021)\n",
    "#    Datos para a área sanitaria de Coruña"
   ]
  },
  {
   "cell_type": "code",
   "execution_count": 28,
   "id": "f6f46ca6-2dba-4a2f-82dc-8c465aa47e9b",
   "metadata": {},
   "outputs": [
    {
     "data": {
      "text/plain": [
       "'https://fxs6l35t9e.execute-api.eu-west-3.amazonaws.com/pro/api/country/spain/region/galicia?date_from=2021-12-01&date_to=2021-12-30'"
      ]
     },
     "execution_count": 28,
     "metadata": {},
     "output_type": "execute_result"
    }
   ],
   "source": [
    "pais = 'spain'\n",
    "rexion = 'galicia'\n",
    "data_ini = '2021-12-01'\n",
    "data_fin = '2021-12-30'\n",
    "\n",
    "url = url_base+'/country/'+pais+'/region/'+rexion\n",
    "payload = {'date_from': data_ini, 'date_to': data_fin }\n",
    "\n",
    "response = requests.get(url, params = payload)\n",
    "\n",
    "response.url"
   ]
  },
  {
   "cell_type": "code",
   "execution_count": 29,
   "id": "a7dd2419-ad4c-40ce-9daa-ddbace52ca4a",
   "metadata": {},
   "outputs": [
    {
     "data": {
      "text/plain": [
       "98"
      ]
     },
     "execution_count": 29,
     "metadata": {},
     "output_type": "execute_result"
    }
   ],
   "source": [
    "data = data_ini\n",
    "contaxios = response.json()['dates'][data]['countries']['Spain']['regions'][0]['sub_regions'][0]['today_new_confirmed']\n",
    "contaxios"
   ]
  },
  {
   "cell_type": "code",
   "execution_count": 44,
   "id": "c91ecfa1-3728-4323-aa18-e401fface08f",
   "metadata": {},
   "outputs": [
    {
     "data": {
      "text/html": [
       "<div>\n",
       "<style scoped>\n",
       "    .dataframe tbody tr th:only-of-type {\n",
       "        vertical-align: middle;\n",
       "    }\n",
       "\n",
       "    .dataframe tbody tr th {\n",
       "        vertical-align: top;\n",
       "    }\n",
       "\n",
       "    .dataframe thead th {\n",
       "        text-align: right;\n",
       "    }\n",
       "</style>\n",
       "<table border=\"1\" class=\"dataframe\">\n",
       "  <thead>\n",
       "    <tr style=\"text-align: right;\">\n",
       "      <th></th>\n",
       "      <th>contaxios</th>\n",
       "    </tr>\n",
       "    <tr>\n",
       "      <th>dia</th>\n",
       "      <th></th>\n",
       "    </tr>\n",
       "  </thead>\n",
       "  <tbody>\n",
       "    <tr>\n",
       "      <th>2021-12-01</th>\n",
       "      <td>98</td>\n",
       "    </tr>\n",
       "    <tr>\n",
       "      <th>2021-12-02</th>\n",
       "      <td>104</td>\n",
       "    </tr>\n",
       "    <tr>\n",
       "      <th>2021-12-03</th>\n",
       "      <td>113</td>\n",
       "    </tr>\n",
       "    <tr>\n",
       "      <th>2021-12-04</th>\n",
       "      <td>127</td>\n",
       "    </tr>\n",
       "    <tr>\n",
       "      <th>2021-12-05</th>\n",
       "      <td>58</td>\n",
       "    </tr>\n",
       "    <tr>\n",
       "      <th>2021-12-06</th>\n",
       "      <td>90</td>\n",
       "    </tr>\n",
       "    <tr>\n",
       "      <th>2021-12-07</th>\n",
       "      <td>111</td>\n",
       "    </tr>\n",
       "    <tr>\n",
       "      <th>2021-12-08</th>\n",
       "      <td>126</td>\n",
       "    </tr>\n",
       "    <tr>\n",
       "      <th>2021-12-09</th>\n",
       "      <td>175</td>\n",
       "    </tr>\n",
       "    <tr>\n",
       "      <th>2021-12-10</th>\n",
       "      <td>105</td>\n",
       "    </tr>\n",
       "    <tr>\n",
       "      <th>2021-12-11</th>\n",
       "      <td>113</td>\n",
       "    </tr>\n",
       "    <tr>\n",
       "      <th>2021-12-12</th>\n",
       "      <td>179</td>\n",
       "    </tr>\n",
       "    <tr>\n",
       "      <th>2021-12-13</th>\n",
       "      <td>138</td>\n",
       "    </tr>\n",
       "    <tr>\n",
       "      <th>2021-12-14</th>\n",
       "      <td>204</td>\n",
       "    </tr>\n",
       "    <tr>\n",
       "      <th>2021-12-15</th>\n",
       "      <td>206</td>\n",
       "    </tr>\n",
       "    <tr>\n",
       "      <th>2021-12-16</th>\n",
       "      <td>166</td>\n",
       "    </tr>\n",
       "    <tr>\n",
       "      <th>2021-12-17</th>\n",
       "      <td>227</td>\n",
       "    </tr>\n",
       "    <tr>\n",
       "      <th>2021-12-18</th>\n",
       "      <td>207</td>\n",
       "    </tr>\n",
       "    <tr>\n",
       "      <th>2021-12-19</th>\n",
       "      <td>180</td>\n",
       "    </tr>\n",
       "    <tr>\n",
       "      <th>2021-12-20</th>\n",
       "      <td>195</td>\n",
       "    </tr>\n",
       "    <tr>\n",
       "      <th>2021-12-21</th>\n",
       "      <td>286</td>\n",
       "    </tr>\n",
       "    <tr>\n",
       "      <th>2021-12-22</th>\n",
       "      <td>413</td>\n",
       "    </tr>\n",
       "    <tr>\n",
       "      <th>2021-12-23</th>\n",
       "      <td>520</td>\n",
       "    </tr>\n",
       "    <tr>\n",
       "      <th>2021-12-24</th>\n",
       "      <td>584</td>\n",
       "    </tr>\n",
       "    <tr>\n",
       "      <th>2021-12-25</th>\n",
       "      <td>456</td>\n",
       "    </tr>\n",
       "    <tr>\n",
       "      <th>2021-12-26</th>\n",
       "      <td>477</td>\n",
       "    </tr>\n",
       "    <tr>\n",
       "      <th>2021-12-27</th>\n",
       "      <td>731</td>\n",
       "    </tr>\n",
       "    <tr>\n",
       "      <th>2021-12-28</th>\n",
       "      <td>803</td>\n",
       "    </tr>\n",
       "    <tr>\n",
       "      <th>2021-12-29</th>\n",
       "      <td>790</td>\n",
       "    </tr>\n",
       "    <tr>\n",
       "      <th>2021-12-30</th>\n",
       "      <td>790</td>\n",
       "    </tr>\n",
       "  </tbody>\n",
       "</table>\n",
       "</div>"
      ],
      "text/plain": [
       "            contaxios\n",
       "dia                  \n",
       "2021-12-01         98\n",
       "2021-12-02        104\n",
       "2021-12-03        113\n",
       "2021-12-04        127\n",
       "2021-12-05         58\n",
       "2021-12-06         90\n",
       "2021-12-07        111\n",
       "2021-12-08        126\n",
       "2021-12-09        175\n",
       "2021-12-10        105\n",
       "2021-12-11        113\n",
       "2021-12-12        179\n",
       "2021-12-13        138\n",
       "2021-12-14        204\n",
       "2021-12-15        206\n",
       "2021-12-16        166\n",
       "2021-12-17        227\n",
       "2021-12-18        207\n",
       "2021-12-19        180\n",
       "2021-12-20        195\n",
       "2021-12-21        286\n",
       "2021-12-22        413\n",
       "2021-12-23        520\n",
       "2021-12-24        584\n",
       "2021-12-25        456\n",
       "2021-12-26        477\n",
       "2021-12-27        731\n",
       "2021-12-28        803\n",
       "2021-12-29        790\n",
       "2021-12-30        790"
      ]
     },
     "execution_count": 44,
     "metadata": {},
     "output_type": "execute_result"
    }
   ],
   "source": [
    "import pandas as pd\n",
    "\n",
    "lista_contaxios = []\n",
    "for dia in response.json()['dates']:\n",
    "    contaxios = response.json()['dates'][dia]['countries']['Spain']['regions'][0]['sub_regions'][0]['today_new_confirmed']\n",
    "    lista_contaxios.append([dia,contaxios])\n",
    "    \n",
    "df_contaxios = pd.DataFrame(lista_contaxios,columns=['dia','contaxios'])\n",
    "df_contaxios = df_contaxios.set_index('dia')\n",
    "df_contaxios"
   ]
  },
  {
   "cell_type": "code",
   "execution_count": 45,
   "id": "edf7b24b-3e1f-4415-aed7-a36db8b30716",
   "metadata": {},
   "outputs": [],
   "source": [
    "pd.plotting.register_matplotlib_converters()\n",
    "import matplotlib.pyplot as plt\n",
    "%matplotlib inline\n",
    "import seaborn as sns"
   ]
  },
  {
   "cell_type": "code",
   "execution_count": 46,
   "id": "edb4aa89-c734-46ea-900d-404fc31b79fb",
   "metadata": {},
   "outputs": [
    {
     "data": {
      "text/plain": [
       "<AxesSubplot:title={'center':'Contaxios na área sanitaria da Coruña no mes de Decembro de 2021'}, xlabel='dia'>"
      ]
     },
     "execution_count": 46,
     "metadata": {},
     "output_type": "execute_result"
    },
    {
     "data": {
      "image/png": "[encoded data removed]",
      "text/plain": [
       "<Figure size 1440x720 with 1 Axes>"
      ]
     },
     "metadata": {
      "needs_background": "light"
     },
     "output_type": "display_data"
    }
   ],
   "source": [
    "plt.figure(figsize=(20,10))\n",
    "plt.title('Contaxios na área sanitaria da Coruña no mes de Decembro de 2021')\n",
    "sns.lineplot(data=df_contaxios)"
   ]
  },
  {
   "cell_type": "code",
   "execution_count": null,
   "id": "b9635cdf-c2a3-4554-bd98-e21d2ce2eb95",
   "metadata": {},
   "outputs": [],
   "source": []
  }
 ],
 "metadata": {
  "kernelspec": {
   "display_name": "Python 3 (ipykernel)",
   "language": "python",
   "name": "python3"
  },
  "language_info": {
   "codemirror_mode": {
    "name": "ipython",
    "version": 3
   },
   "file_extension": ".py",
   "mimetype": "text/x-python",
   "name": "python",
   "nbconvert_exporter": "python",
   "pygments_lexer": "ipython3",
   "version": "3.8.12"
  }
 },
 "nbformat": 4,
 "nbformat_minor": 5
}
