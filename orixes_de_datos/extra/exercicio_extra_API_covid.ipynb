{
 "cells": [
  {
   "cell_type": "code",
   "execution_count": 2,
   "id": "8fa8b0bd-5d93-45b7-b9a5-a19ee1b3cd64",
   "metadata": {},
   "outputs": [],
   "source": [
    "# Proxecto Covid-19 en narrativa.com\n",
    "# https://covid19tracking.narrativa.com/"
   ]
  },
  {
   "cell_type": "code",
   "execution_count": 3,
   "id": "599d1700-f3ca-4009-871c-772dc619100c",
   "metadata": {},
   "outputs": [],
   "source": [
    "# Indica as URLs de documentación da API\n"
   ]
  },
  {
   "cell_type": "code",
   "execution_count": 4,
   "id": "bd7ba842-7dc1-4d81-b255-dfb2469b4240",
   "metadata": {},
   "outputs": [],
   "source": [
    "# Nota: algunhas APIs constrúen os seus endpoints mediante datos que lles proporcionamos.\n",
    "# Nestes casos é normal que non se pasen os parámetros dentro da solicitude (usando \"param\", por exemplo)\n",
    "# senón que utilizamos algúns datos para construír a propia URL á que facer as consultas"
   ]
  },
  {
   "cell_type": "code",
   "execution_count": 5,
   "id": "81c08299-bbf4-4333-8fae-2e8733c819cd",
   "metadata": {},
   "outputs": [],
   "source": [
    "# 1. Consultar número de infectados Covid-19 ata o día de hoxe en todo o mundo"
   ]
  },
  {
   "cell_type": "code",
   "execution_count": null,
   "id": "83ab4a77-65aa-4573-89df-1de79954a920",
   "metadata": {},
   "outputs": [],
   "source": []
  },
  {
   "cell_type": "code",
   "execution_count": 12,
   "id": "e0c47d58-4efb-4441-94a0-c2c9cb17bc22",
   "metadata": {},
   "outputs": [],
   "source": [
    "# 2. Compara o número de novos casos a día de hoxe coa situación hai exactamente un ano (en todo o mundo)"
   ]
  },
  {
   "cell_type": "code",
   "execution_count": null,
   "id": "63c97509-8cb1-4b46-af6b-ae067cef40a8",
   "metadata": {},
   "outputs": [],
   "source": []
  },
  {
   "cell_type": "code",
   "execution_count": 17,
   "id": "a7cae01c-01a1-427f-ac09-61fa6fa47c5b",
   "metadata": {},
   "outputs": [],
   "source": [
    "# 3. Compara o número de mortes no día de onte e o número de mortes un ano atrás no mesmo día"
   ]
  },
  {
   "cell_type": "code",
   "execution_count": null,
   "id": "fa684ce4-a91e-4181-8ff5-26d4fa996a92",
   "metadata": {},
   "outputs": [],
   "source": []
  },
  {
   "cell_type": "code",
   "execution_count": 21,
   "id": "b0692bbf-49f6-4a5c-88f2-d50aa055d593",
   "metadata": {},
   "outputs": [],
   "source": [
    "# 4. Compara o número de novos casos en España a día de hoxe e hai un ano.\n",
    "#    Fai o mesmo para o número de falecementos"
   ]
  },
  {
   "cell_type": "code",
   "execution_count": null,
   "id": "62ad809c-3b8f-4417-8a39-46a1da944fcb",
   "metadata": {},
   "outputs": [],
   "source": []
  },
  {
   "cell_type": "code",
   "execution_count": 25,
   "id": "47b22159-5320-4c23-894c-16979e2c21d1",
   "metadata": {},
   "outputs": [],
   "source": [
    "# 5. Compara o número de novos casos en Galicia a día de hoxe e hai un ano.\n",
    "#    Fai o mesmo para o número de falecementos"
   ]
  },
  {
   "cell_type": "code",
   "execution_count": null,
   "id": "7241f49e-d273-465a-a4a9-302212d332f9",
   "metadata": {},
   "outputs": [],
   "source": []
  },
  {
   "cell_type": "code",
   "execution_count": 27,
   "id": "af2103b1-045c-4fba-9837-5dd46be5653e",
   "metadata": {},
   "outputs": [],
   "source": [
    "# 6. Número de novos contaxios ao longo do pasado mes de decembro (1-12-2021 -> 31-12-2021)\n",
    "#    Datos para a área sanitaria de Coruña\n",
    "#    Crea un Dataframe cos datos"
   ]
  },
  {
   "cell_type": "code",
   "execution_count": null,
   "id": "b9635cdf-c2a3-4554-bd98-e21d2ce2eb95",
   "metadata": {},
   "outputs": [],
   "source": []
  }
 ],
 "metadata": {
  "kernelspec": {
   "display_name": "Python 3 (ipykernel)",
   "language": "python",
   "name": "python3"
  },
  "language_info": {
   "codemirror_mode": {
    "name": "ipython",
    "version": 3
   },
   "file_extension": ".py",
   "mimetype": "text/x-python",
   "name": "python",
   "nbconvert_exporter": "python",
   "pygments_lexer": "ipython3",
   "version": "3.8.12"
  }
 },
 "nbformat": 4,
 "nbformat_minor": 5
}
