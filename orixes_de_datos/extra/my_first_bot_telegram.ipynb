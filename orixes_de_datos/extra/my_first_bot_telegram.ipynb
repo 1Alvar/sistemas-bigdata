{
 "cells": [
  {
   "cell_type": "code",
   "execution_count": null,
   "id": "b2f78b12-33b0-413f-ab8e-f4a5f1d5cf8c",
   "metadata": {},
   "outputs": [],
   "source": [
    "# Instalación das librarías necesarias: API python-telegram\n",
    "# https://python-telegram-bot.readthedocs.io/en/stable/\n",
    "# conda install -c conda-forge python-telegram-bot"
   ]
  },
  {
   "cell_type": "code",
   "execution_count": 1,
   "id": "93aa4ab2-b0a2-447f-967f-505c492fba12",
   "metadata": {},
   "outputs": [],
   "source": [
    "from telegram.ext import Updater"
   ]
  },
  {
   "cell_type": "code",
   "execution_count": null,
   "id": "43596137-ae73-498c-be0e-182f8f6600ba",
   "metadata": {},
   "outputs": [],
   "source": [
    "# O script python ten que permanecer todo o tempo en execución para responder ás peticións do Bot\n",
    "# O primeiro paso será crear un novo bot a través dunha \"conversa\" con @botfather\n",
    "# Terás que facerlle unha oferta que non poida rexeitar, algo como:\n",
    "# /newbot\n",
    "# A continuación darlle un nome ao bot: name (p.ex: Fulano)\n",
    "# Finalmente un identificador único, que remate en \"bot\": username (p.ex: fulano_bot)\n",
    "# @Botfather indicarache cal é o TOKEN que debe usar para comunicarte co teu bot"
   ]
  },
  {
   "cell_type": "code",
   "execution_count": 2,
   "id": "edf525cf-658d-49b6-88a7-74798ec4cf16",
   "metadata": {},
   "outputs": [],
   "source": [
    "#updater = Updater(token='TOKEN', use_context=True)\n",
    "TOKEN = 'O_TEU_TOKEN'\n",
    "updater = Updater(token=TOKEN, use_context=True)"
   ]
  },
  {
   "cell_type": "code",
   "execution_count": 3,
   "id": "09c4d62d-34c7-4224-bdef-30c03fc196b7",
   "metadata": {},
   "outputs": [],
   "source": [
    "dispatcher = updater.dispatcher"
   ]
  },
  {
   "cell_type": "code",
   "execution_count": 4,
   "id": "8b9af98c-8f34-497e-badd-d360f0b531f8",
   "metadata": {},
   "outputs": [],
   "source": [
    "# Activación do loggin\n",
    "import logging\n",
    "logging.basicConfig(format='%(asctime)s - %(name)s - %(levelname)s - %(message)s',\n",
    "                     level=logging.INFO)"
   ]
  },
  {
   "cell_type": "code",
   "execution_count": 5,
   "id": "19cbd1ed-665b-4f4f-b335-2a78d01a83ca",
   "metadata": {},
   "outputs": [],
   "source": [
    "# Import dalgunhas funcións importantes\n",
    "from telegram import Update\n",
    "from telegram.ext import CallbackContext\n",
    "from telegram.ext import CommandHandler\n",
    "from telegram.ext import MessageHandler, Filters"
   ]
  },
  {
   "cell_type": "code",
   "execution_count": null,
   "id": "701cefdd-efbf-4a85-be55-baf4dca13ad1",
   "metadata": {},
   "outputs": [],
   "source": []
  },
  {
   "cell_type": "code",
   "execution_count": 6,
   "id": "4437fa4f-ef15-4b1d-9b19-76969cff7b8f",
   "metadata": {},
   "outputs": [],
   "source": [
    "# Definición dun comando e da resposta a ese comando\n",
    "# Comando Start -> Como resposta ofrece: \n",
    "def start(update: Update, context: CallbackContext):\n",
    "    context.bot.send_message(chat_id=update.effective_chat.id, text=\"Ola, son un bot! Dime algo.\")\n",
    "\n",
    "# Engádese o comando ao bot para que o manexe    \n",
    "start_handler = CommandHandler('start', start)\n",
    "dispatcher.add_handler(start_handler)"
   ]
  },
  {
   "cell_type": "code",
   "execution_count": 7,
   "id": "135a9cbf-6971-40f4-a4ab-fadf16daa580",
   "metadata": {},
   "outputs": [
    {
     "name": "stderr",
     "output_type": "stream",
     "text": [
      "2022-01-07 00:11:59,472 - apscheduler.scheduler - INFO - Scheduler started\n"
     ]
    },
    {
     "data": {
      "text/plain": [
       "<queue.Queue at 0x7f38bc7dccd0>"
      ]
     },
     "execution_count": 7,
     "metadata": {},
     "output_type": "execute_result"
    }
   ],
   "source": [
    "updater.start_polling()"
   ]
  },
  {
   "cell_type": "code",
   "execution_count": 8,
   "id": "bd6866cf-0d52-45c4-b5ea-a4a3c3ce7ab0",
   "metadata": {},
   "outputs": [],
   "source": [
    "# Define un novo comando de \"echo\" que repite o texto\n",
    "def echo(update: Update, context: CallbackContext):\n",
    "    context.bot.send_message(chat_id=update.effective_chat.id, text=update.message.text)\n",
    "\n",
    "echo_handler = MessageHandler(Filters.text & (~Filters.command), echo)\n",
    "dispatcher.add_handler(echo_handler)"
   ]
  },
  {
   "cell_type": "code",
   "execution_count": 9,
   "id": "f636b0d0-fe3d-4168-96d3-46d70a75202b",
   "metadata": {},
   "outputs": [],
   "source": [
    "# Define un comando de pasar a maiúsculas o texto que se envía\n",
    "def caps(update: Update, context: CallbackContext):\n",
    "    text_caps = ' '.join(context.args).upper()\n",
    "    context.bot.send_message(chat_id=update.effective_chat.id, text=text_caps)\n",
    "\n",
    "caps_handler = CommandHandler('caps', caps)\n",
    "dispatcher.add_handler(caps_handler)"
   ]
  },
  {
   "cell_type": "code",
   "execution_count": null,
   "id": "135aa9dd-ccfe-4dc4-ba7e-14235e7a056f",
   "metadata": {},
   "outputs": [],
   "source": []
  },
  {
   "cell_type": "code",
   "execution_count": 10,
   "id": "6952a321-57c1-488e-bc2e-b596e3f6a1f4",
   "metadata": {},
   "outputs": [],
   "source": [
    "# Comando INCOMPLETO que debería devolver a predicción do tempo\n",
    "def tempo(update: Update, context: CallbackContext):\n",
    "    texto = 'Vouche dar a predición do tempo'\n",
    "    context.bot.send_message(chat_id=update.effective_chat.id, text=texto)\n",
    "\n",
    "tempo_handler = CommandHandler('tempo', tempo)\n",
    "dispatcher.add_handler(tempo_handler)"
   ]
  },
  {
   "cell_type": "code",
   "execution_count": null,
   "id": "e98424f0-fe62-407c-875f-ef1a3ccb3a95",
   "metadata": {},
   "outputs": [],
   "source": []
  },
  {
   "cell_type": "code",
   "execution_count": 10,
   "id": "ef85bc3c-267b-4592-9e49-d8320be55b15",
   "metadata": {},
   "outputs": [
    {
     "name": "stderr",
     "output_type": "stream",
     "text": [
      "2022-01-02 22:01:16,839 - apscheduler.scheduler - INFO - Scheduler has been shut down\n"
     ]
    }
   ],
   "source": [
    "# Para parar a execución do bot (o bot non deixa de existir, pero xa non reaccionaría ante os comandos)\n",
    "updater.stop()"
   ]
  }
 ],
 "metadata": {
  "kernelspec": {
   "display_name": "Python 3 (ipykernel)",
   "language": "python",
   "name": "python3"
  },
  "language_info": {
   "codemirror_mode": {
    "name": "ipython",
    "version": 3
   },
   "file_extension": ".py",
   "mimetype": "text/x-python",
   "name": "python",
   "nbconvert_exporter": "python",
   "pygments_lexer": "ipython3",
   "version": "3.8.12"
  }
 },
 "nbformat": 4,
 "nbformat_minor": 5
}
