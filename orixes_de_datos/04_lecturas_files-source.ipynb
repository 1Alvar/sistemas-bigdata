{
 "cells": [
  {
   "cell_type": "code",
   "execution_count": null,
   "id": "1e7f7d2b-d89c-49d6-a5dd-3cc5157c449d",
   "metadata": {},
   "outputs": [],
   "source": [
    "# Documentación libraría pandas\n",
    "# https://pandas.pydata.org/docs/index.html\n",
    "# importar libraría pandas\n",
    "import pandas as pd"
   ]
  },
  {
   "cell_type": "markdown",
   "id": "df743294-23a9-4d7c-8745-a61bf0403e52",
   "metadata": {},
   "source": [
    "### Parquet"
   ]
  },
  {
   "cell_type": "code",
   "execution_count": null,
   "id": "8105147c-ef67-4014-a4ae-83932f30ac51",
   "metadata": {},
   "outputs": [],
   "source": [
    "# O formato Parquet é un formato binario comprimido que almacena os datos de xeito columnas (en lugar de almacenalos por filas)\n",
    "# Está especialmente indicado para dataframes cun grande número de columnas"
   ]
  },
  {
   "cell_type": "code",
   "execution_count": null,
   "id": "8724e9f0-c112-4607-b51d-be5e10fdbe21",
   "metadata": {},
   "outputs": [],
   "source": [
    "# https://catalog.data.gov/dataset/social-vulnerability-index-2018-united-states-tract \n",
    "# Ficheiro CSV de máis de 200MB\n",
    "df = pd.read_csv('/huge/datasets/Social_Vulnerability_Index_2018_-_United_States__tract.csv')"
   ]
  },
  {
   "cell_type": "code",
   "execution_count": null,
   "id": "7384a50e-31cb-485e-a813-0469189068ba",
   "metadata": {},
   "outputs": [],
   "source": [
    "df.shape"
   ]
  },
  {
   "cell_type": "code",
   "execution_count": null,
   "id": "6a6c4555-c6ab-4763-be35-f1156b32f451",
   "metadata": {},
   "outputs": [],
   "source": [
    "df.head()"
   ]
  },
  {
   "cell_type": "code",
   "execution_count": null,
   "id": "bceb4a0e-e290-48b4-b9ed-fe2b88f1f60f",
   "metadata": {},
   "outputs": [],
   "source": [
    "df.to_parquet('/huge/datasets/Social_Vulnerability_Index_2018_-_United_States__tract.parquet')"
   ]
  },
  {
   "cell_type": "code",
   "execution_count": null,
   "id": "06f13e9f-366e-483d-b0ff-058d43d99089",
   "metadata": {},
   "outputs": [],
   "source": [
    "# Parquet é un formato binario (non tentes abrir o ficheiro cun editor de texto)\n",
    "# Fíxate o nivel de compresión do formato, é dicir, o tamaño do ficheiro resultante"
   ]
  },
  {
   "cell_type": "code",
   "execution_count": null,
   "id": "7ce96ff3-e15d-43cb-8f69-ffc5b4dce20d",
   "metadata": {},
   "outputs": [],
   "source": [
    "df_pq = pd.read_parquet('/huge/datasets/Social_Vulnerability_Index_2018_-_United_States__tract.parquet')\n",
    "df_pq.head()                        "
   ]
  },
  {
   "cell_type": "code",
   "execution_count": null,
   "id": "c78dc311-ec2d-4f71-b435-db42ad3abc3b",
   "metadata": {},
   "outputs": [],
   "source": [
    "# Compara o tempo de execución de lectura do dataset en CSV vs o tempo de lectura do dataset en Parquet\n",
    "# Observas algunha diferenza???"
   ]
  },
  {
   "cell_type": "code",
   "execution_count": null,
   "id": "75759624-88f6-47cf-afb0-0b6a9d8b9789",
   "metadata": {},
   "outputs": [],
   "source": [
    "df_pq.sample(10)"
   ]
  },
  {
   "cell_type": "markdown",
   "id": "81d2a0e9-85ce-49c7-9da1-30f49abf04c9",
   "metadata": {},
   "source": [
    "### JSON"
   ]
  },
  {
   "cell_type": "code",
   "execution_count": null,
   "id": "46902355-67e7-4e9d-b93f-acbe98e2e989",
   "metadata": {
    "tags": []
   },
   "outputs": [],
   "source": [
    "# O formato JSON é un formato baseado en texto que segue a sintaxe de obxectos de JavaScript"
   ]
  },
  {
   "cell_type": "code",
   "execution_count": null,
   "id": "8dafc7a0-5f87-452a-94a1-5ec3f2c62ac2",
   "metadata": {},
   "outputs": [],
   "source": [
    "# https://www.w3schools.com/python/pandas/data.js\n",
    "# Exemplo con series de datos\n",
    "df = pd.read_json('../datasets/data.js')"
   ]
  },
  {
   "cell_type": "code",
   "execution_count": null,
   "id": "a864d8c3-85af-4e1d-87aa-92d4508c1b39",
   "metadata": {},
   "outputs": [],
   "source": [
    "df"
   ]
  },
  {
   "cell_type": "code",
   "execution_count": null,
   "id": "2836a041-fec0-454c-b61a-25c669ba4ead",
   "metadata": {},
   "outputs": [],
   "source": [
    "# Outros xeitos de mostrar o contido do dataframe\n",
    "df.to_string()\n",
    "#print(df.to_string())"
   ]
  },
  {
   "cell_type": "code",
   "execution_count": null,
   "id": "f1ecd2b5-1076-4aaf-b0b2-2f60da7edfc6",
   "metadata": {},
   "outputs": [],
   "source": [
    "# Seleccionar pulso e calorías para as duracións de 60\n",
    "df60 = df[df.Duration == 60][['Pulse','Calories']]\n",
    "df60"
   ]
  },
  {
   "cell_type": "code",
   "execution_count": null,
   "id": "4cb62ba5-9d2e-4883-9f60-b4ce0ae65918",
   "metadata": {},
   "outputs": [],
   "source": [
    "# Gardar o resultado nun novo ficheiro JSON\n",
    "df60.to_json('output/data_60.json')"
   ]
  },
  {
   "cell_type": "code",
   "execution_count": null,
   "id": "d16e7359-6b08-4f16-bf17-6d481fa28b8c",
   "metadata": {},
   "outputs": [],
   "source": [
    "# Abrir e revisar o novo ficheiro creado cun visor de texto"
   ]
  },
  {
   "cell_type": "code",
   "execution_count": null,
   "id": "c957cbfa-f67c-4a8a-b9f6-ed72c48868ed",
   "metadata": {},
   "outputs": [],
   "source": [
    "# https://github.com/ankitgoel1602/data-science/tree/master/json-data\n",
    "# Exemplo de JSON simple de un nivel, sen datos aniñados\n",
    "df = pd.read_json('../datasets/level_1.json')"
   ]
  },
  {
   "cell_type": "code",
   "execution_count": null,
   "id": "b5455564-e108-4773-a803-dc6e41e7c62c",
   "metadata": {},
   "outputs": [],
   "source": [
    "df"
   ]
  },
  {
   "cell_type": "code",
   "execution_count": null,
   "id": "5d914c7a-5430-4322-9468-997c63517745",
   "metadata": {},
   "outputs": [],
   "source": [
    "# Tratamento de JSON semi-estruturado\n",
    "# https://towardsdatascience.com/how-to-parse-json-data-with-python-pandas-f84fbd0b1025\n",
    "# Se nos encontramos con estruturas tipo JSON aniñadas non será suficiente con utilizar pd.read_json"
   ]
  },
  {
   "cell_type": "markdown",
   "id": "b0400231-edc1-4baa-9fb6-3992834cf2bd",
   "metadata": {},
   "source": [
    "### Shapefile"
   ]
  },
  {
   "cell_type": "code",
   "execution_count": null,
   "id": "46edce70-21cc-4336-9763-55fd18583284",
   "metadata": {},
   "outputs": [],
   "source": [
    "# Relacionados con Shapefile entonctramos ficheiros con diferentes extensións: .shp, .dbf, .shx....\n",
    "# Shapefile é un formato para almacenar información gráfica vectorial, así como información relacionada\n",
    "# Formatos popularizados por programas de tratamento de datos xeográficos como QGIS ou ArcGIS\n",
    "# Shapefile é unha colección de tres ficheiros básicos: .shp, .shx e .dbf\n",
    "# Os tres ficheiros deben estar no mesmo directorio\n",
    "# +info: https://mxd.codes/articles/what-is-a-shapefile-shp-dbf-and-shx"
   ]
  },
  {
   "cell_type": "code",
   "execution_count": null,
   "id": "4a668e66-a4e2-4da9-9b76-64b34bca2fb5",
   "metadata": {},
   "outputs": [],
   "source": [
    "# Instalar libraría geopandas\n",
    "import geopandas as gpd"
   ]
  },
  {
   "cell_type": "code",
   "execution_count": null,
   "id": "caac1bc3-3d0d-4c5a-98a1-c9978a6506e7",
   "metadata": {},
   "outputs": [],
   "source": [
    "# Ficheiro con información xeográfica dos Concellos de Galicia\n",
    "# https://www.sergas.es/Saude-publica/GIS-Concellos\n",
    "gdf = gpd.read_file('../datasets/Concellos_IGN.shp')"
   ]
  },
  {
   "cell_type": "code",
   "execution_count": null,
   "id": "b962ac53-ba57-4185-9692-9a27f03df256",
   "metadata": {},
   "outputs": [],
   "source": [
    "gdf"
   ]
  },
  {
   "cell_type": "code",
   "execution_count": null,
   "id": "8cad9eb1-17b3-4184-bddb-6c5cb89e547c",
   "metadata": {},
   "outputs": [],
   "source": [
    "# Geopandas crea uns dataframes propios\n",
    "type(gdf)"
   ]
  },
  {
   "cell_type": "code",
   "execution_count": null,
   "id": "50329929-4c1d-46d1-a657-ae9dafa4627a",
   "metadata": {},
   "outputs": [],
   "source": [
    "# Pintar geodataframe\n",
    "gdf.plot()"
   ]
  },
  {
   "cell_type": "code",
   "execution_count": null,
   "id": "a5510562-c491-42bf-b257-a709069aee7d",
   "metadata": {},
   "outputs": [],
   "source": [
    "# Pintar provincia da Coruña\n",
    "gdf[gdf.Provincia == 'Pontevedra'].plot()"
   ]
  },
  {
   "cell_type": "markdown",
   "id": "d8a0e874-6e18-43ff-8474-41460a25adb0",
   "metadata": {},
   "source": [
    "### PC-Axis"
   ]
  },
  {
   "cell_type": "code",
   "execution_count": null,
   "id": "e3dded98-b918-41c9-9c9c-c8aae68fa92d",
   "metadata": {},
   "outputs": [],
   "source": [
    "# PC-Axis é un formato propio de programas estatísticos con moita presenza nas administracións públicas\n",
    "# O programa orixinal é un desenvolvemento Sueco: PXwin, PxWeb e PXEdit\n",
    "# O formato dos ficheiros é .px"
   ]
  },
  {
   "cell_type": "code",
   "execution_count": null,
   "id": "99d2e99a-33fc-4ea0-b93a-61d7dc9b86ce",
   "metadata": {},
   "outputs": [],
   "source": [
    "# O paquete non está en Anaconda: Instalar con:\n",
    "# pip install pyaxis\n",
    "# https://pypi.org/project/pyaxis/\n",
    "from pyaxis import pyaxis "
   ]
  },
  {
   "cell_type": "code",
   "execution_count": null,
   "id": "499b5a1b-de22-44b3-8d22-aaaee5a8da15",
   "metadata": {},
   "outputs": [],
   "source": [
    "# Info de criminalidade a nivel estatal en España\n",
    "# https://estadisticasdecriminalidad.ses.mir.es/publico/portalestadistico/portal/balances.html\n",
    "px = pyaxis.parse('../datasets/criminalidade_2021_t3.px', encoding='ISO-8859-2')"
   ]
  },
  {
   "cell_type": "code",
   "execution_count": null,
   "id": "be486e1d-159a-4304-8244-39df18738bb7",
   "metadata": {},
   "outputs": [],
   "source": [
    "px"
   ]
  },
  {
   "cell_type": "code",
   "execution_count": null,
   "id": "24f0ce86-b610-4b25-9eb6-b4e4e7274b37",
   "metadata": {},
   "outputs": [],
   "source": [
    "px['DATA']"
   ]
  },
  {
   "cell_type": "code",
   "execution_count": null,
   "id": "147f25a6-b93a-4494-9308-8012c40de954",
   "metadata": {},
   "outputs": [],
   "source": [
    "px['METADATA']"
   ]
  }
 ],
 "metadata": {
  "kernelspec": {
   "display_name": "Python 3 (ipykernel)",
   "language": "python",
   "name": "python3"
  },
  "language_info": {
   "codemirror_mode": {
    "name": "ipython",
    "version": 3
   },
   "file_extension": ".py",
   "mimetype": "text/x-python",
   "name": "python",
   "nbconvert_exporter": "python",
   "pygments_lexer": "ipython3",
   "version": "3.8.12"
  }
 },
 "nbformat": 4,
 "nbformat_minor": 5
}
