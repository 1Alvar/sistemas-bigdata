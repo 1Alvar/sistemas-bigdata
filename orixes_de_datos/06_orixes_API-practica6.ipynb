{
 "cells": [
  {
   "cell_type": "code",
   "execution_count": null,
   "id": "a4a78c8f-6cdb-4fcd-89f5-729135106c5e",
   "metadata": {},
   "outputs": [],
   "source": [
    "# METEOGALICIA\n",
    "# Busca a documentación para a predición meteorolóxica por concellos a curto prazo (\"Predición por concellos\") \n",
    "# Copia o enderezo do ficheiro PDF"
   ]
  },
  {
   "cell_type": "code",
   "execution_count": null,
   "id": "4984891c-7fb2-4734-b688-40aa5734e84c",
   "metadata": {},
   "outputs": [],
   "source": [
    "# ENLACE:"
   ]
  },
  {
   "cell_type": "code",
   "execution_count": null,
   "id": "583581b9-0b93-42ae-b56e-54372b957b65",
   "metadata": {},
   "outputs": [],
   "source": [
    "# Consulta a predición a curto prazo para o concello de Monfero\n",
    "# Utiliza a documentación para entender como funciona a API e que significan os resultados"
   ]
  },
  {
   "cell_type": "code",
   "execution_count": null,
   "id": "d6bb683a-95ab-4dbc-a7ce-6504a7ac5b2e",
   "metadata": {},
   "outputs": [],
   "source": []
  },
  {
   "cell_type": "code",
   "execution_count": null,
   "id": "2f2e1260-d2b9-42d0-bb91-5fc64ad37c00",
   "metadata": {},
   "outputs": [],
   "source": [
    "# Meteogalicia tamén ofrece información sobre as praias a través da súa API\n",
    "# https://www.meteogalicia.gal/datosred/infoweb/meteo/docs/rss/JSON_Pred_Praia_gl.pdf\n",
    "# Consulta a temperatura máxima e mínima previstas a curto prazo para o concello de Paderne"
   ]
  },
  {
   "cell_type": "code",
   "execution_count": null,
   "id": "d2b6aa37-d01c-44cf-ba3a-50e62f12751e",
   "metadata": {},
   "outputs": [],
   "source": []
  },
  {
   "cell_type": "code",
   "execution_count": null,
   "id": "46c52797-4aaa-49d2-8555-2245597c2a3d",
   "metadata": {},
   "outputs": [],
   "source": [
    "# Comproba a predición para a temperatura da auga da praia de Riazor e comparaa coa da praia das Catedrais\n"
   ]
  },
  {
   "cell_type": "code",
   "execution_count": null,
   "id": "1ff27f02-80f3-428c-b192-2bf8948b95c1",
   "metadata": {},
   "outputs": [],
   "source": []
  },
  {
   "cell_type": "code",
   "execution_count": null,
   "id": "90c2bea6-592c-457d-9569-6955ba45bef4",
   "metadata": {},
   "outputs": [],
   "source": [
    "# Especulación con criptodivisas\n",
    "# Utiliza unha API para calcular por cantos euros podes cambiar os dous bitcoins que encontraches limpando o sofá\n",
    "\n",
    "# Axuda: Utiliza algunha api de balde, como por exemplo:\n",
    "# https://www.coinapi.io/\n",
    "# https://min-api.cryptocompare.com/"
   ]
  },
  {
   "cell_type": "code",
   "execution_count": null,
   "id": "a162f217-01fe-46e4-8b74-5f307aa8a611",
   "metadata": {},
   "outputs": [],
   "source": []
  },
  {
   "cell_type": "code",
   "execution_count": null,
   "id": "3f79e5c7-c40e-422b-b3ae-6e06cfc6b7f1",
   "metadata": {},
   "outputs": [],
   "source": [
    "# Como a xogada saíu redonda ocórreseche seguir especulando\n",
    "# Retira 50.000€ e inviste o resto en Ethereum\n",
    "# Cantas criptomoedas ethereum podes obter?"
   ]
  },
  {
   "cell_type": "code",
   "execution_count": null,
   "id": "327cf95f-b17d-425c-ab3f-b50279e7127d",
   "metadata": {},
   "outputs": [],
   "source": []
  }
 ],
 "metadata": {
  "kernelspec": {
   "display_name": "Python 3 (ipykernel)",
   "language": "python",
   "name": "python3"
  },
  "language_info": {
   "codemirror_mode": {
    "name": "ipython",
    "version": 3
   },
   "file_extension": ".py",
   "mimetype": "text/x-python",
   "name": "python",
   "nbconvert_exporter": "python",
   "pygments_lexer": "ipython3",
   "version": "3.8.12"
  }
 },
 "nbformat": 4,
 "nbformat_minor": 5
}
