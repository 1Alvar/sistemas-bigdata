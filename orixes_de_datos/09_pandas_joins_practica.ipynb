{
 "cells": [
  {
   "cell_type": "markdown",
   "id": "bc0323eb-701d-4f72-ae14-b10226e7e317",
   "metadata": {},
   "source": [
    "### Operacións con Dataframes"
   ]
  },
  {
   "cell_type": "code",
   "execution_count": 1,
   "id": "ee2fe571-e145-404b-88b0-4a4ff651fede",
   "metadata": {},
   "outputs": [],
   "source": [
    "# 1. Descarga contra a API covid de narrativa algúns datos\n",
    "# https://covid19tracking.narrativa.com/es/spain/api.html\n",
    "# * Descargarás os mesmos datos para diferentes países: España e Portugal\n",
    "# * Os datos serán os correspondentes aos 30 últimos días\n",
    "# - contaxiados totais\n",
    "# - novos contaxiados\n",
    "# - total mortes\n",
    "# - novas morte\n",
    "# Crea un único dataframe con todos os datos"
   ]
  },
  {
   "cell_type": "code",
   "execution_count": 15,
   "id": "47ca5a1e-7ffe-44bf-8ca3-5cdd3795c6f5",
   "metadata": {},
   "outputs": [],
   "source": [
    "# Nota: realiza dúas peticións diferentes, unha para España e outra para Portugal"
   ]
  },
  {
   "cell_type": "code",
   "execution_count": null,
   "id": "61529b36-337b-40ac-bba3-455940261677",
   "metadata": {},
   "outputs": [],
   "source": []
  },
  {
   "cell_type": "code",
   "execution_count": null,
   "id": "a4418553-41da-4b97-af97-ac2908d2f627",
   "metadata": {},
   "outputs": [],
   "source": []
  },
  {
   "cell_type": "code",
   "execution_count": 23,
   "id": "191a46b3-cfe6-4232-9bbc-516df7117aab",
   "metadata": {},
   "outputs": [],
   "source": [
    "# 2. Descarga contra a API covid de narrativa algúns datos\n",
    "# https://covid19tracking.narrativa.com/es/spain/api.html\n",
    "# Descarga os datos da primeira semana de novembro21, decembro21 e xaneiro22 para FRANCIA\n",
    "# - novos contaxiados\n",
    "# - novas mortes\n",
    "# Crea un único dataframe con todos os datos"
   ]
  },
  {
   "cell_type": "code",
   "execution_count": null,
   "id": "03a05d5b-b551-4edc-b7f3-5d8060193bc7",
   "metadata": {},
   "outputs": [],
   "source": []
  },
  {
   "cell_type": "code",
   "execution_count": null,
   "id": "dbc45ca4-b205-4edc-b79f-66bf9ff74c1d",
   "metadata": {},
   "outputs": [],
   "source": []
  },
  {
   "cell_type": "code",
   "execution_count": 32,
   "id": "b5de82a1-fa70-4d7e-9a01-c4bac37a724b",
   "metadata": {},
   "outputs": [],
   "source": [
    "# 3. Carga os datos de títulos e salarios e combínaos para crear un único dataframe\n",
    "# extras-titulos&salarios.zip\n",
    "# - titulos.csv\n",
    "# - salarios.csv"
   ]
  },
  {
   "cell_type": "code",
   "execution_count": null,
   "id": "0628c384-37d3-4586-ab34-af622d19b622",
   "metadata": {},
   "outputs": [],
   "source": []
  },
  {
   "cell_type": "code",
   "execution_count": null,
   "id": "61de9fb1-7a49-4cca-a134-7d3d464a5e00",
   "metadata": {},
   "outputs": [],
   "source": []
  }
 ],
 "metadata": {
  "kernelspec": {
   "display_name": "Python 3 (ipykernel)",
   "language": "python",
   "name": "python3"
  },
  "language_info": {
   "codemirror_mode": {
    "name": "ipython",
    "version": 3
   },
   "file_extension": ".py",
   "mimetype": "text/x-python",
   "name": "python",
   "nbconvert_exporter": "python",
   "pygments_lexer": "ipython3",
   "version": "3.8.12"
  }
 },
 "nbformat": 4,
 "nbformat_minor": 5
}
