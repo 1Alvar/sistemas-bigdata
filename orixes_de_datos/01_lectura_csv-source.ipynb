{
 "cells": [
  {
   "cell_type": "code",
   "execution_count": null,
   "id": "3d925811-56e7-44cc-a80f-f7cfce5485b8",
   "metadata": {},
   "outputs": [],
   "source": [
    "#importar a libraría pandas\n",
    "import pandas as pd"
   ]
  },
  {
   "cell_type": "code",
   "execution_count": null,
   "id": "797d2380-7a9d-4d5c-ba7d-b6391109206f",
   "metadata": {},
   "outputs": [],
   "source": [
    "#ler ficheiro CSV e gardalo un dataframe\n",
    "df = pd.read_csv('../datasets/iris.csv')"
   ]
  },
  {
   "cell_type": "code",
   "execution_count": null,
   "id": "924793c9-ce45-454b-8cfc-86d0241de8ff",
   "metadata": {},
   "outputs": [],
   "source": [
    "#mostrar dataframe\n",
    "df"
   ]
  },
  {
   "cell_type": "code",
   "execution_count": null,
   "id": "c1c2aff5-06bc-4545-98c3-86707029a0a1",
   "metadata": {},
   "outputs": [],
   "source": [
    "#mostrar primeiras filas do dataframe\n",
    "#df.head()\n",
    "\n",
    "#mostrar últimas filas do dataframe\n",
    "#df.tail()\n",
    "\n",
    "#mostrar \"forma\" do dataframe (filas e columnas)\n",
    "#df.shape\n",
    "\n",
    "#mostrar algúns estatísticos\n",
    "df.describe()"
   ]
  },
  {
   "cell_type": "code",
   "execution_count": null,
   "id": "27df8a7c-8d12-4642-b5b7-1bf65355b30e",
   "metadata": {},
   "outputs": [],
   "source": [
    "#seleccionar unha fila\n",
    "df['sepal.length']\n",
    "#df[['sepal.length']]\n",
    "\n",
    "#Series vs Dataframes\n",
    "#type(df['sepal.length'])\n",
    "#type(df[['sepal.length']])\n"
   ]
  },
  {
   "cell_type": "code",
   "execution_count": null,
   "id": "2b5fbd05-ca09-4d2a-a777-daddca54adaf",
   "metadata": {},
   "outputs": [],
   "source": [
    "#Seleccionar varias filas\n",
    "df[['sepal.length','petal.width']]"
   ]
  }
 ],
 "metadata": {
  "kernelspec": {
   "display_name": "Python 3 (ipykernel)",
   "language": "python",
   "name": "python3"
  },
  "language_info": {
   "codemirror_mode": {
    "name": "ipython",
    "version": 3
   },
   "file_extension": ".py",
   "mimetype": "text/x-python",
   "name": "python",
   "nbconvert_exporter": "python",
   "pygments_lexer": "ipython3",
   "version": "3.8.12"
  }
 },
 "nbformat": 4,
 "nbformat_minor": 5
}
