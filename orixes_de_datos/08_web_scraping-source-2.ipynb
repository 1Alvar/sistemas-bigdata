{
 "cells": [
  {
   "cell_type": "code",
   "execution_count": null,
   "id": "706e240f-4638-4b29-85c3-5403dbcdf574",
   "metadata": {},
   "outputs": [],
   "source": [
    "# Documentación da libraría BeautifulSoup\n",
    "# https://www.crummy.com/software/BeautifulSoup/bs4/doc/"
   ]
  },
  {
   "cell_type": "code",
   "execution_count": null,
   "id": "936d81d2-f642-4bcc-be44-6f2e4badb250",
   "metadata": {},
   "outputs": [],
   "source": [
    "# Librarías básicas\n",
    "import requests\n",
    "from bs4 import BeautifulSoup"
   ]
  },
  {
   "cell_type": "code",
   "execution_count": null,
   "id": "f3c4ef8e-b244-487b-9ffa-0e27e271dce4",
   "metadata": {},
   "outputs": [],
   "source": [
    "# https://bigdatawirtz.github.io/exemplo-web/08.html\n",
    "url = 'https://bigdatawirtz.github.io/exemplo-web/08.html'\n",
    "paxina = requests.get(url)\n",
    "\n",
    "soup = BeautifulSoup(paxina.content,'html.parser')\n",
    "#soup\n",
    "print(soup.prettify())"
   ]
  },
  {
   "cell_type": "code",
   "execution_count": null,
   "id": "44180b4e-77fe-448b-a9c9-4bc61b6e6146",
   "metadata": {},
   "outputs": [],
   "source": [
    "soup"
   ]
  },
  {
   "cell_type": "code",
   "execution_count": null,
   "id": "ffcd5894-60f9-4c9c-8837-1de4b13b2910",
   "metadata": {},
   "outputs": [],
   "source": [
    "# Mostrar footers\n",
    "# Temos dous footers (un do artigo e outro da web)\n",
    "soup.find_all('footer')"
   ]
  },
  {
   "cell_type": "code",
   "execution_count": null,
   "id": "0d2d014d-7ad8-4075-a58c-7875efa04f6f",
   "metadata": {},
   "outputs": [],
   "source": [
    "# Ademais de seleccionar por etiqueta...\n",
    "# tamén podemos seleccionar por clase\n",
    "soup.find_all(class_='art')"
   ]
  },
  {
   "cell_type": "code",
   "execution_count": null,
   "id": "e815d80b-5fbd-4df5-8d8c-5b5f6ec50281",
   "metadata": {},
   "outputs": [],
   "source": [
    "# Seleccionar por etiqueta e clase\n",
    "# Seleccionar o footer da clase art\n",
    "soup.find_all('footer', class_='art')"
   ]
  },
  {
   "cell_type": "code",
   "execution_count": null,
   "id": "b39e8ece-e247-431a-a23c-0ef23858fdfc",
   "metadata": {},
   "outputs": [],
   "source": [
    "# Seleccionar o header da clase art\n",
    "soup.find_all('header', class_='art')"
   ]
  },
  {
   "cell_type": "code",
   "execution_count": null,
   "id": "754b82a5-1d0c-4368-804d-dfc17cfff76c",
   "metadata": {},
   "outputs": [],
   "source": [
    "# Seleccionar por id\n",
    "# os ids identifican elementos únicos na web -> find, en lugar de find_all\n",
    "soup.find(id='main_content')"
   ]
  },
  {
   "cell_type": "code",
   "execution_count": null,
   "id": "43d648ad-c7d6-4aef-9ba7-398c50baa3f8",
   "metadata": {},
   "outputs": [],
   "source": [
    "# Buscar \"article\"\n",
    "soup.article"
   ]
  },
  {
   "cell_type": "code",
   "execution_count": null,
   "id": "47822cab-ec27-4d72-a32a-3cecef7744a1",
   "metadata": {},
   "outputs": [],
   "source": [
    "# Podemos construír unha lista cos elementos \"fillos\" ou \"dentro\" de *article*\n",
    "soup.article.contents"
   ]
  },
  {
   "cell_type": "code",
   "execution_count": null,
   "id": "669f77f0-7120-4c5c-833e-297439eefe8e",
   "metadata": {},
   "outputs": [],
   "source": [
    "# Convén eliminar os \\n para deixar unicamente os contidos na lista\n",
    "contidos = soup.article.contents\n",
    "while '\\n' in contidos: \n",
    "    contidos.remove('\\n')\n",
    "contidos"
   ]
  },
  {
   "cell_type": "code",
   "execution_count": null,
   "id": "76687441-6202-41fd-912b-a22ede03ac16",
   "metadata": {},
   "outputs": [],
   "source": [
    "# Acceso aos contidos\n",
    "contidos[0]"
   ]
  },
  {
   "cell_type": "code",
   "execution_count": null,
   "id": "e875e146-b319-4719-b72d-7adead406d0e",
   "metadata": {},
   "outputs": [],
   "source": [
    "contidos[1]"
   ]
  },
  {
   "cell_type": "code",
   "execution_count": null,
   "id": "a2a71943-f79e-4cf3-b5e0-6bf2f4f8c566",
   "metadata": {},
   "outputs": [],
   "source": [
    "contidos[1].contents"
   ]
  },
  {
   "cell_type": "markdown",
   "id": "f4c70a27-614b-4823-9f05-cbd0a89bc319",
   "metadata": {},
   "source": [
    "## Scraping de táboas\n",
    "\n",
    "A miúdo, a información que nos interesa descargar está en táboas y nuestro objetivo es importarlas en tablas de Pandas. Esta conversión acostuma exixir a manipulación do texto, números e dats contidas na táboa orixinal.\n",
    "\n",
    "A estrutura típica dunha tábao en `html` é:\n",
    "\n",
    "```\n",
    "<table>\n",
    "    <thead>\n",
    "        <tr>\n",
    "            <th>Columna A</th>\n",
    "            <th>Columna B</th>\n",
    "        </tr>\n",
    "    </thead>\n",
    "    <tbody>\n",
    "        <tr>\n",
    "            <td>A1</td>\n",
    "            <td>B1</td>\n",
    "        </tr>\n",
    "        <tr>\n",
    "            <td>A2</td>\n",
    "            <td>B2</td>\n",
    "        </tr>\n",
    "    </tbody>\n",
    "</table>   \n",
    "```"
   ]
  },
  {
   "cell_type": "code",
   "execution_count": null,
   "id": "d2c288f8-2487-4bcb-9b76-b047c65bac9b",
   "metadata": {},
   "outputs": [],
   "source": [
    "# https://bigdatawirtz.github.io/exemplo-web/05.html\n",
    "url = 'https://bigdatawirtz.github.io/exemplo-web/05.html'\n",
    "paxina = requests.get(url)\n",
    "\n",
    "soup = BeautifulSoup(paxina.content,'html.parser')\n",
    "print(soup.prettify())"
   ]
  },
  {
   "cell_type": "code",
   "execution_count": null,
   "id": "613f56cf-68ac-4938-b721-c50e06e49d37",
   "metadata": {},
   "outputs": [],
   "source": [
    "taboa_gastos = soup.find('table')\n",
    "taboa_gastos"
   ]
  },
  {
   "cell_type": "code",
   "execution_count": null,
   "id": "8e7d44d5-994c-4bfe-9676-3df3c7c34ade",
   "metadata": {},
   "outputs": [],
   "source": [
    "#for i in taboa_gastos.find_all('tr'):\n",
    "taboa_gastos.find('tr').find('th').text\n"
   ]
  },
  {
   "cell_type": "code",
   "execution_count": null,
   "id": "b212ca89-1956-468d-801d-e899f663353f",
   "metadata": {},
   "outputs": [],
   "source": [
    "lista = []\n",
    "temp_lista = []\n",
    "\n",
    "for fila in taboa_gastos.find_all('tr'):\n",
    "    for linha in fila.find_all(['td','th']):\n",
    "        temp_lista.append(linha.text)\n",
    "    lista.append(temp_lista)\n",
    "    temp_lista = []\n",
    "    \n",
    "lista"
   ]
  },
  {
   "cell_type": "code",
   "execution_count": null,
   "id": "ff28ffbb-6fc6-4fab-a4e6-41f842944da3",
   "metadata": {},
   "outputs": [],
   "source": [
    "import pandas as pd"
   ]
  },
  {
   "cell_type": "code",
   "execution_count": null,
   "id": "b43b65f2-752b-4f7e-8834-a5b8b4755f56",
   "metadata": {},
   "outputs": [],
   "source": [
    "# Creamos dataframe\n",
    "df = pd.DataFrame(lista)\n",
    "df"
   ]
  },
  {
   "cell_type": "code",
   "execution_count": null,
   "id": "a1cb8758-0df6-4a78-a4a8-6a6155f667d3",
   "metadata": {},
   "outputs": [],
   "source": [
    "# Creamos dataframe e axustamos headers\n",
    "df = pd.DataFrame(lista)\n",
    "df = df.rename(columns=df.iloc[0]).drop(0)\n",
    "df"
   ]
  },
  {
   "cell_type": "code",
   "execution_count": null,
   "id": "c9f083c7-ecee-478b-9045-038d4636bc10",
   "metadata": {},
   "outputs": [],
   "source": [
    "# Axustamos os index\n",
    "df.set_index('Mes')"
   ]
  },
  {
   "cell_type": "code",
   "execution_count": null,
   "id": "52895232-9bb2-46f9-aeba-27946dc9f6bc",
   "metadata": {},
   "outputs": [],
   "source": []
  }
 ],
 "metadata": {
  "kernelspec": {
   "display_name": "Python 3 (ipykernel)",
   "language": "python",
   "name": "python3"
  },
  "language_info": {
   "codemirror_mode": {
    "name": "ipython",
    "version": 3
   },
   "file_extension": ".py",
   "mimetype": "text/x-python",
   "name": "python",
   "nbconvert_exporter": "python",
   "pygments_lexer": "ipython3",
   "version": "3.8.12"
  }
 },
 "nbformat": 4,
 "nbformat_minor": 5
}
