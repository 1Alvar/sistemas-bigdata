{
 "cells": [
  {
   "cell_type": "code",
   "execution_count": 1,
   "id": "706e240f-4638-4b29-85c3-5403dbcdf574",
   "metadata": {},
   "outputs": [],
   "source": [
    "# Documentación da libraría BeautifulSoup\n",
    "# https://www.crummy.com/software/BeautifulSoup/bs4/doc/"
   ]
  },
  {
   "cell_type": "code",
   "execution_count": 2,
   "id": "936d81d2-f642-4bcc-be44-6f2e4badb250",
   "metadata": {},
   "outputs": [],
   "source": [
    "# Librarías básicas\n",
    "import requests\n",
    "from bs4 import BeautifulSoup"
   ]
  },
  {
   "cell_type": "code",
   "execution_count": 3,
   "id": "f3c4ef8e-b244-487b-9ffa-0e27e271dce4",
   "metadata": {},
   "outputs": [
    {
     "name": "stdout",
     "output_type": "stream",
     "text": [
      "<!DOCTYPE html>\n",
      "<html>\n",
      " <head>\n",
      "  <title>\n",
      "   Páxina web con seccións\n",
      "  </title>\n",
      "  <meta charset=\"utf-8\"/>\n",
      " </head>\n",
      " <body>\n",
      "  <article>\n",
      "   <header class=\"art\">\n",
      "    <h1>\n",
      "     Título do artigo\n",
      "    </h1>\n",
      "    <p>\n",
      "     Introducción do artigo\n",
      "    </p>\n",
      "   </header>\n",
      "   <section id=\"main_content\">\n",
      "    <p>\n",
      "     Lorem ipsum dolor sit amet, consectetur adipisicing elit, sed do eiusmod tempor incididunt ut labore et dolore magna aliqua. Ut enim ad minim veniam, quis nostrud exercitation ullamco laboris nisi ut aliquip ex ea commodo consequat.\n",
      "    </p>\n",
      "   </section>\n",
      "   <section id=\"aux_content\">\n",
      "    <p>\n",
      "     Duis aute irure dolor in reprehenderit in voluptate velit esse cillum dolore eu fugiat nulla pariatur. Excepteur sint occaecat cupidatat non proident, sunt in culpa qui officia deserunt mollit anim id est laborum.\n",
      "    </p>\n",
      "   </section>\n",
      "   <footer class=\"art\">\n",
      "    <p>\n",
      "     Pé do artigo\n",
      "    </p>\n",
      "   </footer>\n",
      "  </article>\n",
      "  <footer class=\"web\">\n",
      "   <p>\n",
      "    Pé de toda a web\n",
      "   </p>\n",
      "  </footer>\n",
      " </body>\n",
      "</html>\n",
      "\n"
     ]
    }
   ],
   "source": [
    "# https://bigdatawirtz.github.io/exemplo-web/08.html\n",
    "url = 'https://bigdatawirtz.github.io/exemplo-web/08.html'\n",
    "paxina = requests.get(url)\n",
    "\n",
    "soup = BeautifulSoup(paxina.content,'html.parser')\n",
    "#soup\n",
    "print(soup.prettify())"
   ]
  },
  {
   "cell_type": "code",
   "execution_count": 4,
   "id": "44180b4e-77fe-448b-a9c9-4bc61b6e6146",
   "metadata": {},
   "outputs": [
    {
     "data": {
      "text/plain": [
       "<!DOCTYPE html>\n",
       "\n",
       "<html>\n",
       "<head>\n",
       "<title>Páxina web con seccións</title>\n",
       "<meta charset=\"utf-8\"/>\n",
       "</head>\n",
       "<body>\n",
       "<article>\n",
       "<header class=\"art\">\n",
       "<h1>Título do artigo</h1>\n",
       "<p>Introducción do artigo</p>\n",
       "</header>\n",
       "<section id=\"main_content\">\n",
       "<p>Lorem ipsum dolor sit amet, consectetur adipisicing elit, sed do eiusmod tempor incididunt ut labore et dolore magna aliqua. Ut enim ad minim veniam, quis nostrud exercitation ullamco laboris nisi ut aliquip ex ea commodo consequat.</p>\n",
       "</section>\n",
       "<section id=\"aux_content\">\n",
       "<p>Duis aute irure dolor in reprehenderit in voluptate velit esse cillum dolore eu fugiat nulla pariatur. Excepteur sint occaecat cupidatat non proident, sunt in culpa qui officia deserunt mollit anim id est laborum.</p>\n",
       "</section>\n",
       "<footer class=\"art\">\n",
       "<p>Pé do artigo</p>\n",
       "</footer>\n",
       "</article>\n",
       "<footer class=\"web\">\n",
       "<p>Pé de toda a web</p>\n",
       "</footer>\n",
       "</body>\n",
       "</html>"
      ]
     },
     "execution_count": 4,
     "metadata": {},
     "output_type": "execute_result"
    }
   ],
   "source": [
    "soup"
   ]
  },
  {
   "cell_type": "code",
   "execution_count": 5,
   "id": "ffcd5894-60f9-4c9c-8837-1de4b13b2910",
   "metadata": {},
   "outputs": [
    {
     "data": {
      "text/plain": [
       "[<footer class=\"art\">\n",
       " <p>Pé do artigo</p>\n",
       " </footer>,\n",
       " <footer class=\"web\">\n",
       " <p>Pé de toda a web</p>\n",
       " </footer>]"
      ]
     },
     "execution_count": 5,
     "metadata": {},
     "output_type": "execute_result"
    }
   ],
   "source": [
    "# Mostrar footers\n",
    "# Temos dous footers (un do artigo e outro da web)\n",
    "soup.find_all('footer')"
   ]
  },
  {
   "cell_type": "code",
   "execution_count": 6,
   "id": "0d2d014d-7ad8-4075-a58c-7875efa04f6f",
   "metadata": {},
   "outputs": [
    {
     "data": {
      "text/plain": [
       "[<header class=\"art\">\n",
       " <h1>Título do artigo</h1>\n",
       " <p>Introducción do artigo</p>\n",
       " </header>,\n",
       " <footer class=\"art\">\n",
       " <p>Pé do artigo</p>\n",
       " </footer>]"
      ]
     },
     "execution_count": 6,
     "metadata": {},
     "output_type": "execute_result"
    }
   ],
   "source": [
    "# Ademais de seleccionar por etiqueta...\n",
    "# tamén podemos seleccionar por clase\n",
    "soup.find_all(class_='art')"
   ]
  },
  {
   "cell_type": "code",
   "execution_count": 7,
   "id": "e815d80b-5fbd-4df5-8d8c-5b5f6ec50281",
   "metadata": {},
   "outputs": [
    {
     "data": {
      "text/plain": [
       "[<footer class=\"art\">\n",
       " <p>Pé do artigo</p>\n",
       " </footer>]"
      ]
     },
     "execution_count": 7,
     "metadata": {},
     "output_type": "execute_result"
    }
   ],
   "source": [
    "# Seleccionar por etiqueta e clase\n",
    "# Seleccionar o footer da clase art\n",
    "soup.find_all('footer', class_='art')"
   ]
  },
  {
   "cell_type": "code",
   "execution_count": 8,
   "id": "b39e8ece-e247-431a-a23c-0ef23858fdfc",
   "metadata": {},
   "outputs": [
    {
     "data": {
      "text/plain": [
       "[<header class=\"art\">\n",
       " <h1>Título do artigo</h1>\n",
       " <p>Introducción do artigo</p>\n",
       " </header>]"
      ]
     },
     "execution_count": 8,
     "metadata": {},
     "output_type": "execute_result"
    }
   ],
   "source": [
    "# Seleccionar o header da clase art\n",
    "soup.find_all('header', class_='art')"
   ]
  },
  {
   "cell_type": "code",
   "execution_count": 9,
   "id": "754b82a5-1d0c-4368-804d-dfc17cfff76c",
   "metadata": {},
   "outputs": [
    {
     "data": {
      "text/plain": [
       "<section id=\"main_content\">\n",
       "<p>Lorem ipsum dolor sit amet, consectetur adipisicing elit, sed do eiusmod tempor incididunt ut labore et dolore magna aliqua. Ut enim ad minim veniam, quis nostrud exercitation ullamco laboris nisi ut aliquip ex ea commodo consequat.</p>\n",
       "</section>"
      ]
     },
     "execution_count": 9,
     "metadata": {},
     "output_type": "execute_result"
    }
   ],
   "source": [
    "# Seleccionar por id\n",
    "# os ids identifican elementos únicos na web -> find, en lugar de find_all\n",
    "soup.find(id='main_content')"
   ]
  },
  {
   "cell_type": "code",
   "execution_count": 10,
   "id": "43d648ad-c7d6-4aef-9ba7-398c50baa3f8",
   "metadata": {},
   "outputs": [
    {
     "data": {
      "text/plain": [
       "<article>\n",
       "<header class=\"art\">\n",
       "<h1>Título do artigo</h1>\n",
       "<p>Introducción do artigo</p>\n",
       "</header>\n",
       "<section id=\"main_content\">\n",
       "<p>Lorem ipsum dolor sit amet, consectetur adipisicing elit, sed do eiusmod tempor incididunt ut labore et dolore magna aliqua. Ut enim ad minim veniam, quis nostrud exercitation ullamco laboris nisi ut aliquip ex ea commodo consequat.</p>\n",
       "</section>\n",
       "<section id=\"aux_content\">\n",
       "<p>Duis aute irure dolor in reprehenderit in voluptate velit esse cillum dolore eu fugiat nulla pariatur. Excepteur sint occaecat cupidatat non proident, sunt in culpa qui officia deserunt mollit anim id est laborum.</p>\n",
       "</section>\n",
       "<footer class=\"art\">\n",
       "<p>Pé do artigo</p>\n",
       "</footer>\n",
       "</article>"
      ]
     },
     "execution_count": 10,
     "metadata": {},
     "output_type": "execute_result"
    }
   ],
   "source": [
    "# Buscar \"article\"\n",
    "soup.article"
   ]
  },
  {
   "cell_type": "code",
   "execution_count": 11,
   "id": "47822cab-ec27-4d72-a32a-3cecef7744a1",
   "metadata": {},
   "outputs": [
    {
     "data": {
      "text/plain": [
       "['\\n',\n",
       " <header class=\"art\">\n",
       " <h1>Título do artigo</h1>\n",
       " <p>Introducción do artigo</p>\n",
       " </header>,\n",
       " '\\n',\n",
       " <section id=\"main_content\">\n",
       " <p>Lorem ipsum dolor sit amet, consectetur adipisicing elit, sed do eiusmod tempor incididunt ut labore et dolore magna aliqua. Ut enim ad minim veniam, quis nostrud exercitation ullamco laboris nisi ut aliquip ex ea commodo consequat.</p>\n",
       " </section>,\n",
       " '\\n',\n",
       " <section id=\"aux_content\">\n",
       " <p>Duis aute irure dolor in reprehenderit in voluptate velit esse cillum dolore eu fugiat nulla pariatur. Excepteur sint occaecat cupidatat non proident, sunt in culpa qui officia deserunt mollit anim id est laborum.</p>\n",
       " </section>,\n",
       " '\\n',\n",
       " <footer class=\"art\">\n",
       " <p>Pé do artigo</p>\n",
       " </footer>,\n",
       " '\\n']"
      ]
     },
     "execution_count": 11,
     "metadata": {},
     "output_type": "execute_result"
    }
   ],
   "source": [
    "# Podemos construír unha lista cos elementos \"fillos\" ou \"dentro\" de *article*\n",
    "soup.article.contents"
   ]
  },
  {
   "cell_type": "code",
   "execution_count": 12,
   "id": "669f77f0-7120-4c5c-833e-297439eefe8e",
   "metadata": {},
   "outputs": [
    {
     "data": {
      "text/plain": [
       "[<header class=\"art\">\n",
       " <h1>Título do artigo</h1>\n",
       " <p>Introducción do artigo</p>\n",
       " </header>,\n",
       " <section id=\"main_content\">\n",
       " <p>Lorem ipsum dolor sit amet, consectetur adipisicing elit, sed do eiusmod tempor incididunt ut labore et dolore magna aliqua. Ut enim ad minim veniam, quis nostrud exercitation ullamco laboris nisi ut aliquip ex ea commodo consequat.</p>\n",
       " </section>,\n",
       " <section id=\"aux_content\">\n",
       " <p>Duis aute irure dolor in reprehenderit in voluptate velit esse cillum dolore eu fugiat nulla pariatur. Excepteur sint occaecat cupidatat non proident, sunt in culpa qui officia deserunt mollit anim id est laborum.</p>\n",
       " </section>,\n",
       " <footer class=\"art\">\n",
       " <p>Pé do artigo</p>\n",
       " </footer>]"
      ]
     },
     "execution_count": 12,
     "metadata": {},
     "output_type": "execute_result"
    }
   ],
   "source": [
    "# Convén eliminar os \\n para deixar unicamente os contidos na lista\n",
    "contidos = soup.article.contents\n",
    "while '\\n' in contidos: \n",
    "    contidos.remove('\\n')\n",
    "contidos"
   ]
  },
  {
   "cell_type": "code",
   "execution_count": 13,
   "id": "76687441-6202-41fd-912b-a22ede03ac16",
   "metadata": {},
   "outputs": [
    {
     "data": {
      "text/plain": [
       "<header class=\"art\">\n",
       "<h1>Título do artigo</h1>\n",
       "<p>Introducción do artigo</p>\n",
       "</header>"
      ]
     },
     "execution_count": 13,
     "metadata": {},
     "output_type": "execute_result"
    }
   ],
   "source": [
    "# Acceso aos contidos\n",
    "contidos[0]"
   ]
  },
  {
   "cell_type": "code",
   "execution_count": 14,
   "id": "e875e146-b319-4719-b72d-7adead406d0e",
   "metadata": {},
   "outputs": [
    {
     "data": {
      "text/plain": [
       "<section id=\"main_content\">\n",
       "<p>Lorem ipsum dolor sit amet, consectetur adipisicing elit, sed do eiusmod tempor incididunt ut labore et dolore magna aliqua. Ut enim ad minim veniam, quis nostrud exercitation ullamco laboris nisi ut aliquip ex ea commodo consequat.</p>\n",
       "</section>"
      ]
     },
     "execution_count": 14,
     "metadata": {},
     "output_type": "execute_result"
    }
   ],
   "source": [
    "contidos[1]"
   ]
  },
  {
   "cell_type": "code",
   "execution_count": 15,
   "id": "a2a71943-f79e-4cf3-b5e0-6bf2f4f8c566",
   "metadata": {},
   "outputs": [
    {
     "data": {
      "text/plain": [
       "['\\n',\n",
       " <p>Lorem ipsum dolor sit amet, consectetur adipisicing elit, sed do eiusmod tempor incididunt ut labore et dolore magna aliqua. Ut enim ad minim veniam, quis nostrud exercitation ullamco laboris nisi ut aliquip ex ea commodo consequat.</p>,\n",
       " '\\n']"
      ]
     },
     "execution_count": 15,
     "metadata": {},
     "output_type": "execute_result"
    }
   ],
   "source": [
    "contidos[1].contents"
   ]
  },
  {
   "cell_type": "markdown",
   "id": "f4c70a27-614b-4823-9f05-cbd0a89bc319",
   "metadata": {},
   "source": [
    "## Scraping de táboas\n",
    "\n",
    "A miúdo, a información que nos interesa descargar está en táboas y nuestro objetivo es importarlas en tablas de Pandas. Esta conversión acostuma exixir a manipulación do texto, números e dats contidas na táboa orixinal.\n",
    "\n",
    "A estrutura típica dunha tábao en `html` é:\n",
    "\n",
    "```\n",
    "<table>\n",
    "    <thead>\n",
    "        <tr>\n",
    "            <th>Columna A</th>\n",
    "            <th>Columna B</th>\n",
    "        </tr>\n",
    "    </thead>\n",
    "    <tbody>\n",
    "        <tr>\n",
    "            <td>A1</td>\n",
    "            <td>B1</td>\n",
    "        </tr>\n",
    "        <tr>\n",
    "            <td>A2</td>\n",
    "            <td>B2</td>\n",
    "        </tr>\n",
    "    </tbody>\n",
    "</table>   \n",
    "```"
   ]
  },
  {
   "cell_type": "code",
   "execution_count": 31,
   "id": "d2c288f8-2487-4bcb-9b76-b047c65bac9b",
   "metadata": {},
   "outputs": [
    {
     "name": "stdout",
     "output_type": "stream",
     "text": [
      "<!DOCTYPE html>\n",
      "<html>\n",
      " <head>\n",
      "  <title>\n",
      "   Tablas\n",
      "  </title>\n",
      "  <meta charset=\"utf-8\"/>\n",
      " </head>\n",
      " <body>\n",
      "  <table border=\"2\" title=\"Tabla de Gastos\">\n",
      "   <caption>\n",
      "    Tabla de Gastos\n",
      "   </caption>\n",
      "   <thead>\n",
      "    <tr>\n",
      "     <th>\n",
      "      Mes\n",
      "     </th>\n",
      "     <th>\n",
      "      Ganacias\n",
      "     </th>\n",
      "    </tr>\n",
      "   </thead>\n",
      "   <tbody>\n",
      "    <tr>\n",
      "     <td>\n",
      "      Enero\n",
      "     </td>\n",
      "     <td>\n",
      "      100 €\n",
      "     </td>\n",
      "    </tr>\n",
      "    <tr>\n",
      "     <td>\n",
      "      Febrero\n",
      "     </td>\n",
      "     <td>\n",
      "      80 €\n",
      "     </td>\n",
      "    </tr>\n",
      "   </tbody>\n",
      "   <tfoot>\n",
      "    <tr>\n",
      "     <td>\n",
      "      Total\n",
      "     </td>\n",
      "     <td>\n",
      "      180 €\n",
      "     </td>\n",
      "    </tr>\n",
      "   </tfoot>\n",
      "  </table>\n",
      "  <hr/>\n",
      "  <table border=\"1\" title=\"Tabla de pruebas\">\n",
      "   <caption>\n",
      "    Tabla de pruebas de colspan y rowspan\n",
      "   </caption>\n",
      "   <tbody>\n",
      "    <tr>\n",
      "     <td colspan=\"2\">\n",
      "      Esto tiene un colspan de 2\n",
      "     </td>\n",
      "    </tr>\n",
      "    <tr>\n",
      "     <td rowspan=\"2\">\n",
      "      Esta tiene un rowspan de 2\n",
      "     </td>\n",
      "     <td>\n",
      "      nada por aquí\n",
      "     </td>\n",
      "    </tr>\n",
      "    <tr>\n",
      "     <td>\n",
      "      Una cosa\n",
      "     </td>\n",
      "    </tr>\n",
      "    <tr>\n",
      "     <td>\n",
      "      Ahora normal\n",
      "     </td>\n",
      "     <td>\n",
      "      Y ahora también\n",
      "     </td>\n",
      "    </tr>\n",
      "   </tbody>\n",
      "  </table>\n",
      " </body>\n",
      "</html>\n",
      "\n"
     ]
    }
   ],
   "source": [
    "# https://bigdatawirtz.github.io/exemplo-web/05.html\n",
    "url = 'https://bigdatawirtz.github.io/exemplo-web/05.html'\n",
    "paxina = requests.get(url)\n",
    "\n",
    "soup = BeautifulSoup(paxina.content,'html.parser')\n",
    "print(soup.prettify())"
   ]
  },
  {
   "cell_type": "code",
   "execution_count": 32,
   "id": "613f56cf-68ac-4938-b721-c50e06e49d37",
   "metadata": {},
   "outputs": [
    {
     "data": {
      "text/plain": [
       "<table border=\"2\" title=\"Tabla de Gastos\">\n",
       "<caption>Tabla de Gastos</caption>\n",
       "<thead>\n",
       "<tr>\n",
       "<th>Mes</th>\n",
       "<th>Ganacias</th>\n",
       "</tr>\n",
       "</thead>\n",
       "<tbody>\n",
       "<tr>\n",
       "<td>Enero</td>\n",
       "<td>100 €</td>\n",
       "</tr>\n",
       "<tr>\n",
       "<td>Febrero</td>\n",
       "<td>80 €</td>\n",
       "</tr>\n",
       "</tbody>\n",
       "<tfoot>\n",
       "<tr>\n",
       "<td>Total</td>\n",
       "<td>180 €</td>\n",
       "</tr>\n",
       "</tfoot>\n",
       "</table>"
      ]
     },
     "execution_count": 32,
     "metadata": {},
     "output_type": "execute_result"
    }
   ],
   "source": [
    "taboa_gastos = soup.find('table')\n",
    "taboa_gastos"
   ]
  },
  {
   "cell_type": "code",
   "execution_count": 47,
   "id": "8e7d44d5-994c-4bfe-9676-3df3c7c34ade",
   "metadata": {},
   "outputs": [
    {
     "data": {
      "text/plain": [
       "'Mes'"
      ]
     },
     "execution_count": 47,
     "metadata": {},
     "output_type": "execute_result"
    }
   ],
   "source": [
    "#for i in taboa_gastos.find_all('tr'):\n",
    "taboa_gastos.find('tr').find('th').text\n"
   ]
  },
  {
   "cell_type": "code",
   "execution_count": 57,
   "id": "b212ca89-1956-468d-801d-e899f663353f",
   "metadata": {},
   "outputs": [
    {
     "data": {
      "text/plain": [
       "[['Mes', 'Ganacias'],\n",
       " ['Enero', '100 €'],\n",
       " ['Febrero', '80 €'],\n",
       " ['Total', '180 €']]"
      ]
     },
     "execution_count": 57,
     "metadata": {},
     "output_type": "execute_result"
    }
   ],
   "source": [
    "lista = []\n",
    "temp_lista = []\n",
    "\n",
    "for fila in taboa_gastos.find_all('tr'):\n",
    "    for linha in fila.find_all(['td','th']):\n",
    "        temp_lista.append(linha.text)\n",
    "    lista.append(temp_lista)\n",
    "    temp_lista = []\n",
    "    \n",
    "lista"
   ]
  },
  {
   "cell_type": "code",
   "execution_count": 59,
   "id": "ff28ffbb-6fc6-4fab-a4e6-41f842944da3",
   "metadata": {},
   "outputs": [],
   "source": [
    "import pandas as pd"
   ]
  },
  {
   "cell_type": "code",
   "execution_count": 61,
   "id": "b43b65f2-752b-4f7e-8834-a5b8b4755f56",
   "metadata": {},
   "outputs": [
    {
     "data": {
      "text/html": [
       "<div>\n",
       "<style scoped>\n",
       "    .dataframe tbody tr th:only-of-type {\n",
       "        vertical-align: middle;\n",
       "    }\n",
       "\n",
       "    .dataframe tbody tr th {\n",
       "        vertical-align: top;\n",
       "    }\n",
       "\n",
       "    .dataframe thead th {\n",
       "        text-align: right;\n",
       "    }\n",
       "</style>\n",
       "<table border=\"1\" class=\"dataframe\">\n",
       "  <thead>\n",
       "    <tr style=\"text-align: right;\">\n",
       "      <th></th>\n",
       "      <th>0</th>\n",
       "      <th>1</th>\n",
       "    </tr>\n",
       "  </thead>\n",
       "  <tbody>\n",
       "    <tr>\n",
       "      <th>0</th>\n",
       "      <td>Mes</td>\n",
       "      <td>Ganacias</td>\n",
       "    </tr>\n",
       "    <tr>\n",
       "      <th>1</th>\n",
       "      <td>Enero</td>\n",
       "      <td>100 €</td>\n",
       "    </tr>\n",
       "    <tr>\n",
       "      <th>2</th>\n",
       "      <td>Febrero</td>\n",
       "      <td>80 €</td>\n",
       "    </tr>\n",
       "    <tr>\n",
       "      <th>3</th>\n",
       "      <td>Total</td>\n",
       "      <td>180 €</td>\n",
       "    </tr>\n",
       "  </tbody>\n",
       "</table>\n",
       "</div>"
      ],
      "text/plain": [
       "         0         1\n",
       "0      Mes  Ganacias\n",
       "1    Enero     100 €\n",
       "2  Febrero      80 €\n",
       "3    Total     180 €"
      ]
     },
     "execution_count": 61,
     "metadata": {},
     "output_type": "execute_result"
    }
   ],
   "source": [
    "# Creamos dataframe\n",
    "df = pd.DataFrame(lista)\n",
    "df"
   ]
  },
  {
   "cell_type": "code",
   "execution_count": 73,
   "id": "a1cb8758-0df6-4a78-a4a8-6a6155f667d3",
   "metadata": {},
   "outputs": [
    {
     "data": {
      "text/html": [
       "<div>\n",
       "<style scoped>\n",
       "    .dataframe tbody tr th:only-of-type {\n",
       "        vertical-align: middle;\n",
       "    }\n",
       "\n",
       "    .dataframe tbody tr th {\n",
       "        vertical-align: top;\n",
       "    }\n",
       "\n",
       "    .dataframe thead th {\n",
       "        text-align: right;\n",
       "    }\n",
       "</style>\n",
       "<table border=\"1\" class=\"dataframe\">\n",
       "  <thead>\n",
       "    <tr style=\"text-align: right;\">\n",
       "      <th></th>\n",
       "      <th>Mes</th>\n",
       "      <th>Ganacias</th>\n",
       "    </tr>\n",
       "  </thead>\n",
       "  <tbody>\n",
       "    <tr>\n",
       "      <th>1</th>\n",
       "      <td>Enero</td>\n",
       "      <td>100 €</td>\n",
       "    </tr>\n",
       "    <tr>\n",
       "      <th>2</th>\n",
       "      <td>Febrero</td>\n",
       "      <td>80 €</td>\n",
       "    </tr>\n",
       "    <tr>\n",
       "      <th>3</th>\n",
       "      <td>Total</td>\n",
       "      <td>180 €</td>\n",
       "    </tr>\n",
       "  </tbody>\n",
       "</table>\n",
       "</div>"
      ],
      "text/plain": [
       "       Mes Ganacias\n",
       "1    Enero    100 €\n",
       "2  Febrero     80 €\n",
       "3    Total    180 €"
      ]
     },
     "execution_count": 73,
     "metadata": {},
     "output_type": "execute_result"
    }
   ],
   "source": [
    "# Creamos dataframe e axustamos headers\n",
    "df = pd.DataFrame(lista)\n",
    "df = df.rename(columns=df.iloc[0]).drop(0)\n",
    "df"
   ]
  },
  {
   "cell_type": "code",
   "execution_count": 75,
   "id": "c9f083c7-ecee-478b-9045-038d4636bc10",
   "metadata": {},
   "outputs": [
    {
     "data": {
      "text/html": [
       "<div>\n",
       "<style scoped>\n",
       "    .dataframe tbody tr th:only-of-type {\n",
       "        vertical-align: middle;\n",
       "    }\n",
       "\n",
       "    .dataframe tbody tr th {\n",
       "        vertical-align: top;\n",
       "    }\n",
       "\n",
       "    .dataframe thead th {\n",
       "        text-align: right;\n",
       "    }\n",
       "</style>\n",
       "<table border=\"1\" class=\"dataframe\">\n",
       "  <thead>\n",
       "    <tr style=\"text-align: right;\">\n",
       "      <th></th>\n",
       "      <th>Ganacias</th>\n",
       "    </tr>\n",
       "    <tr>\n",
       "      <th>Mes</th>\n",
       "      <th></th>\n",
       "    </tr>\n",
       "  </thead>\n",
       "  <tbody>\n",
       "    <tr>\n",
       "      <th>Enero</th>\n",
       "      <td>100 €</td>\n",
       "    </tr>\n",
       "    <tr>\n",
       "      <th>Febrero</th>\n",
       "      <td>80 €</td>\n",
       "    </tr>\n",
       "    <tr>\n",
       "      <th>Total</th>\n",
       "      <td>180 €</td>\n",
       "    </tr>\n",
       "  </tbody>\n",
       "</table>\n",
       "</div>"
      ],
      "text/plain": [
       "        Ganacias\n",
       "Mes             \n",
       "Enero      100 €\n",
       "Febrero     80 €\n",
       "Total      180 €"
      ]
     },
     "execution_count": 75,
     "metadata": {},
     "output_type": "execute_result"
    }
   ],
   "source": [
    "# Axustamos os index\n",
    "df.set_index('Mes')"
   ]
  },
  {
   "cell_type": "code",
   "execution_count": null,
   "id": "52895232-9bb2-46f9-aeba-27946dc9f6bc",
   "metadata": {},
   "outputs": [],
   "source": []
  }
 ],
 "metadata": {
  "kernelspec": {
   "display_name": "Python 3 (ipykernel)",
   "language": "python",
   "name": "python3"
  },
  "language_info": {
   "codemirror_mode": {
    "name": "ipython",
    "version": 3
   },
   "file_extension": ".py",
   "mimetype": "text/x-python",
   "name": "python",
   "nbconvert_exporter": "python",
   "pygments_lexer": "ipython3",
   "version": "3.8.12"
  }
 },
 "nbformat": 4,
 "nbformat_minor": 5
}
