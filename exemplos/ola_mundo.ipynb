{
 "cells": [
  {
   "cell_type": "code",
   "execution_count": null,
   "id": "e6e3d588-6b28-4ea9-b921-b226a0636587",
   "metadata": {},
   "outputs": [],
   "source": [
    "# Un Notebook moi simple ao estilo \"Hello World\""
   ]
  },
  {
   "cell_type": "code",
   "execution_count": 1,
   "id": "bd11ce23-8042-47c1-99c5-9134e30d9b16",
   "metadata": {},
   "outputs": [
    {
     "name": "stdout",
     "output_type": "stream",
     "text": [
      "Ola mundo dos Notebooks\n"
     ]
    }
   ],
   "source": [
    "print('Ola mundo dos Notebooks')"
   ]
  }
 ],
 "metadata": {
  "kernelspec": {
   "display_name": "Python 3 (ipykernel)",
   "language": "python",
   "name": "python3"
  },
  "language_info": {
   "codemirror_mode": {
    "name": "ipython",
    "version": 3
   },
   "file_extension": ".py",
   "mimetype": "text/x-python",
   "name": "python",
   "nbconvert_exporter": "python",
   "pygments_lexer": "ipython3",
   "version": "3.8.12"
  }
 },
 "nbformat": 4,
 "nbformat_minor": 5
}
