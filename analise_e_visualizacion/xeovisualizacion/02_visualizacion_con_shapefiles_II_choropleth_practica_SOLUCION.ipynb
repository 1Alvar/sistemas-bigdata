{
 "cells": [
  {
   "cell_type": "markdown",
   "metadata": {},
   "source": [
    "### Mapas coropléticos (*Choropleth Maps*) - Mapa coroplético de Galicia\n",
    "\n",
    "Pinta diferentes mapas coropléticos de Galicia\n",
    "\n",
    "1. Un mapa coroplético segundo as tamaños/áreas dos concellos\n",
    "2. Un mapa coroplético en función da poboación de cada concello\n",
    "\n",
    "**Notas**:\n",
    "\n",
    "1. Utiliza o Shapefile de Concellos de Galicia que utilizamos noutras ocasións\n",
    "2. Calcula as áreas coas funcións xeométricas dos geodataframes\n",
    "3. Descarga os datos de poboación desde o INE (..y que la fuerza te acompañe.)\n",
    "\n",
    "\n",
    "**INE**: podes descargar os datos de poboación do INE, po exemplo, aquí: https://ine.es/dyngs/INEbase/operacion.htm?c=Estadistica_C&cid=1254736177011&menu=resultados&secc=1254736195458&idp=1254734710990\n",
    "\n",
    "**Wikipedia**: tamén os podes scrappear da Wikipedia: https://gl.wikipedia.org/wiki/Concellos_de_Galicia\n",
    "\n",
    "Ollo! porque terás que cruzar os datos do Shapefile cos datos de poboación"
   ]
  },
  {
   "cell_type": "markdown",
   "metadata": {},
   "source": [
    "1. Mapa das áreas dos concellos de Galicia"
   ]
  },
  {
   "cell_type": "code",
   "execution_count": null,
   "metadata": {},
   "outputs": [],
   "source": [
    "import pandas as pd\n",
    "import geopandas as gpd\n",
    "concellos = gpd.read_file('../../datasets/Concellos/Concellos_IGN.shp')\n",
    "concellos.head(3)"
   ]
  },
  {
   "cell_type": "code",
   "execution_count": null,
   "metadata": {},
   "outputs": [],
   "source": [
    "# Comprobamos o CRS\n",
    "concellos.crs"
   ]
  },
  {
   "cell_type": "code",
   "execution_count": null,
   "metadata": {},
   "outputs": [],
   "source": [
    "# Temos unha columna coa área, mais poderíamos calculala a partir da xeometría\n",
    "concellos['area_km2'] = concellos.area / 10**6\n",
    "concellos.head(3)"
   ]
  },
  {
   "cell_type": "code",
   "execution_count": null,
   "metadata": {},
   "outputs": [],
   "source": [
    "# Pode ser interesante investigar a distribución da variable que queremos representar\n",
    "\n",
    "#Mostramos a distribución de \"area_km2\"\n",
    "import seaborn as sns\n",
    "sns.histplot(concellos['area_km2'])"
   ]
  },
  {
   "cell_type": "code",
   "execution_count": null,
   "metadata": {},
   "outputs": [],
   "source": [
    "# Calculamos os valores mínimos e máximos da variable para establecer o rango para as cores\n",
    "concellos.area_km2.apply(['min','max'])"
   ]
  },
  {
   "cell_type": "code",
   "execution_count": null,
   "metadata": {},
   "outputs": [],
   "source": [
    "import matplotlib.pyplot as plt\n",
    "\n",
    "variable = 'area_km2'\n",
    "vmin, vmax = 0, 500\n",
    "colormap = 'Blues'\n",
    "\n",
    "fig, ax = plt.subplots(1, figsize=(30, 30))\n",
    "ax.axis('off')\n",
    "ax.set_title('Área dos concellos de Galicia', fontdict={'fontsize': '25', 'fontweight' : '3'})\n",
    "\n",
    "# Engadir unha nota ao pé \n",
    "ax.annotate('Fonte: Cartografía de Galicia - https://www.sergas.es/Saude-publica/GIS-Cartografia-Galicia-formato-vectorial-SHP',xy=(0.2, .05),  \\\n",
    "            xycoords='figure fraction', fontsize=12, \\\n",
    "            color='#555555')\n",
    "\n",
    "# Lenda: barra\n",
    "sm = plt.cm.ScalarMappable(cmap=colormap, norm=plt.Normalize(vmin=vmin, vmax=vmax))\n",
    "sm.set_array([])\n",
    "fig.colorbar(sm, orientation=\"horizontal\", fraction=0.036, pad=0.1, aspect = 30)\n",
    "\n",
    "# Pintar a gráfica\n",
    "concellos.plot(column=variable, cmap=colormap, linewidth=0.8, ax=ax, edgecolor='0.8')\n",
    "\n",
    "# Engadir etiquetas cos nomes das provincias\n",
    "# Primeiro extrae un punto representativo de cada polígono\n",
    "\n",
    "concellos['coords'] = concellos['geometry'].apply(lambda x: x.representative_point().coords[:])\n",
    "concellos['coords'] = [coords[0] for coords in concellos['coords']]\n",
    "\n",
    "# Itera as liñas do dataset e vai engadindo as etiquetas co nome da provincia\n",
    "for idx, row in concellos.iterrows():\n",
    "    plt.annotate(row['Concello'], xy=row['coords'],horizontalalignment='center')"
   ]
  },
  {
   "cell_type": "markdown",
   "metadata": {},
   "source": [
    "2. Mapa das poboacións dos concellos galegos"
   ]
  },
  {
   "cell_type": "markdown",
   "metadata": {},
   "source": [
    "Escolleuse a opción de descargar os datos do INE, xa que cada concello ten un código que podemos relacionar cos shapefiles publicados pola Xunta, o que nos facilitará cruzar dataframes.\n",
    "\n",
    "Temos que descargar os ficheiros por provincia: Cifras oficiales de población de los municipios españoles: Revisión del Padrón Municipal > Detalle municipal"
   ]
  },
  {
   "cell_type": "code",
   "execution_count": null,
   "metadata": {},
   "outputs": [],
   "source": [
    "from pyaxis import pyaxis \n",
    "\n",
    "# Instalar antes pyaxis\n",
    "#  activar contorno: p.ex: conda activate nome_contorno\n",
    "# instalar paquete con pip: pip install pyaxis"
   ]
  },
  {
   "cell_type": "code",
   "execution_count": null,
   "metadata": {},
   "outputs": [],
   "source": [
    "px = pyaxis.parse('../../datasets/Concellos/poboacion/poboacion_acorunha.px', encoding='ISO-8859-2')"
   ]
  },
  {
   "cell_type": "code",
   "execution_count": null,
   "metadata": {},
   "outputs": [],
   "source": [
    "px"
   ]
  },
  {
   "cell_type": "code",
   "execution_count": null,
   "metadata": {},
   "outputs": [],
   "source": [
    "type(px)"
   ]
  },
  {
   "cell_type": "code",
   "execution_count": null,
   "metadata": {},
   "outputs": [],
   "source": [
    "px['DATA']"
   ]
  },
  {
   "cell_type": "code",
   "execution_count": null,
   "metadata": {},
   "outputs": [],
   "source": [
    "type(px['DATA'])"
   ]
  },
  {
   "cell_type": "code",
   "execution_count": null,
   "metadata": {},
   "outputs": [],
   "source": [
    "px_acorunha = pyaxis.parse('../../datasets/Concellos/poboacion/poboacion_acorunha.px', encoding='ISO-8859-2')['DATA']\n",
    "px_acorunha"
   ]
  },
  {
   "cell_type": "code",
   "execution_count": null,
   "metadata": {},
   "outputs": [],
   "source": [
    "px_lugo = pyaxis.parse('../../datasets/Concellos/poboacion/poboacion_lugo.px', encoding='ISO-8859-2')['DATA']\n",
    "px_ourense = pyaxis.parse('../../datasets/Concellos/poboacion/poboacion_ourense.px', encoding='ISO-8859-2')['DATA']\n",
    "px_pontevedra = pyaxis.parse('../../datasets/Concellos/poboacion/poboacion_pontevedra.px', encoding='ISO-8859-2')['DATA']\n",
    "poboacion = pd.concat([px_acorunha,px_lugo,px_ourense,px_pontevedra])\n",
    "poboacion"
   ]
  },
  {
   "cell_type": "code",
   "execution_count": null,
   "metadata": {},
   "outputs": [],
   "source": [
    "poboacion['codigo'] = poboacion.Municipios.apply(lambda x:x.split()[0])\n",
    "poboacion.head()"
   ]
  },
  {
   "cell_type": "code",
   "execution_count": null,
   "metadata": {},
   "outputs": [],
   "source": [
    "poboacion['nomeConcello'] = poboacion.Municipios.apply(lambda x:x.split(' ',1)[1])\n",
    "poboacion.head()"
   ]
  },
  {
   "cell_type": "code",
   "execution_count": null,
   "metadata": {},
   "outputs": [],
   "source": [
    "poboacion.drop(columns=['Municipios','Sexo'],inplace=True)\n",
    "poboacion"
   ]
  },
  {
   "cell_type": "code",
   "execution_count": null,
   "metadata": {},
   "outputs": [],
   "source": [
    "poboacion.rename(columns={'DATA':'poboacion'},inplace=True)"
   ]
  },
  {
   "cell_type": "code",
   "execution_count": null,
   "metadata": {},
   "outputs": [],
   "source": [
    "poboacion.info()"
   ]
  },
  {
   "cell_type": "code",
   "execution_count": null,
   "metadata": {},
   "outputs": [],
   "source": [
    "poboacion['poboacion'] = poboacion.poboacion.astype(float)"
   ]
  },
  {
   "cell_type": "code",
   "execution_count": null,
   "metadata": {},
   "outputs": [],
   "source": [
    "concellos_con_poboacion = concellos.merge(poboacion, how='left', left_on='CODIGOINE', right_on='codigo')\n",
    "concellos_con_poboacion"
   ]
  },
  {
   "cell_type": "code",
   "execution_count": null,
   "metadata": {},
   "outputs": [],
   "source": [
    "# Calculamos os valores mínimos e máximos da variable para establecer o rango para as cores\n",
    "concellos_con_poboacion.poboacion.dropna().apply(['min','max'])"
   ]
  },
  {
   "cell_type": "code",
   "execution_count": null,
   "metadata": {},
   "outputs": [],
   "source": [
    "import matplotlib.pyplot as plt\n",
    "\n",
    "variable = 'poboacion'\n",
    "vmin, vmax = 0, 30000\n",
    "colormap = 'Blues'\n",
    "\n",
    "fig, ax = plt.subplots(1, figsize=(30, 30))\n",
    "ax.axis('off')\n",
    "ax.set_title('Poboación dos concellos de Galicia', fontdict={'fontsize': '35', 'fontweight' : '5'})\n",
    "\n",
    "# Engadir unha nota ao pé \n",
    "ax.annotate('Fonte: Cartografía de Galicia - https://www.sergas.es/Saude-publica/GIS-Cartografia-Galicia-formato-vectorial-SHP',xy=(0.2, .05),  \\\n",
    "            xycoords='figure fraction', fontsize=12, \\\n",
    "            color='#555555')\n",
    "\n",
    "# Lenda: barra\n",
    "sm = plt.cm.ScalarMappable(cmap=colormap, norm=plt.Normalize(vmin=vmin, vmax=vmax))\n",
    "sm.set_array([])\n",
    "fig.colorbar(sm, orientation=\"horizontal\", fraction=0.036, pad=0.1, aspect = 30)\n",
    "\n",
    "# Pintar a gráfica\n",
    "concellos_con_poboacion.plot(column=variable, cmap=colormap, linewidth=0.8, ax=ax, edgecolor='0.8')\n",
    "\n",
    "# Engadir etiquetas cos nomes das provincias\n",
    "# Primeiro extrae un punto representativo de cada polígono\n",
    "\n",
    "concellos['coords'] = concellos['geometry'].apply(lambda x: x.representative_point().coords[:])\n",
    "concellos['coords'] = [coords[0] for coords in concellos['coords']]\n",
    "\n",
    "# Itera as liñas do dataset e vai engadindo as etiquetas co nome da provincia\n",
    "for idx, row in concellos.iterrows():\n",
    "    plt.annotate(row['Concello'], xy=row['coords'],horizontalalignment='center')"
   ]
  },
  {
   "cell_type": "code",
   "execution_count": null,
   "metadata": {},
   "outputs": [],
   "source": [
    "fig.savefig('concellos_poboacion.png',facecolor='white')"
   ]
  },
  {
   "cell_type": "code",
   "execution_count": null,
   "metadata": {},
   "outputs": [],
   "source": [
    "# Tamén sería interesante un mapa coa densidade de poboación"
   ]
  },
  {
   "cell_type": "code",
   "execution_count": null,
   "metadata": {},
   "outputs": [],
   "source": [
    "concellos_con_poboacion['densidade'] = concellos_con_poboacion.poboacion / concellos_con_poboacion.area_km2\n",
    "concellos_con_poboacion.head(3)"
   ]
  },
  {
   "cell_type": "code",
   "execution_count": null,
   "metadata": {},
   "outputs": [],
   "source": [
    "# Calculamos os valores mínimos e máximos da variable para establecer o rango para as cores\n",
    "concellos_con_poboacion.densidade.dropna().apply(['min','max'])"
   ]
  },
  {
   "cell_type": "code",
   "execution_count": null,
   "metadata": {},
   "outputs": [],
   "source": [
    "sns.boxplot(concellos_con_poboacion.densidade)"
   ]
  },
  {
   "cell_type": "code",
   "execution_count": null,
   "metadata": {},
   "outputs": [],
   "source": [
    "import matplotlib.pyplot as plt\n",
    "\n",
    "variable = 'densidade'\n",
    "vmin, vmax = 0, 6500\n",
    "colormap = 'Purples'\n",
    "\n",
    "fig, ax = plt.subplots(1, figsize=(30, 30))\n",
    "ax.axis('off')\n",
    "ax.set_title('Densidade de poboación nos concellos de Galicia', fontdict={'fontsize': '35', 'fontweight' : '5'})\n",
    "\n",
    "# Engadir unha nota ao pé \n",
    "ax.annotate('Fonte: Cartografía de Galicia - https://www.sergas.es/Saude-publica/GIS-Cartografia-Galicia-formato-vectorial-SHP',xy=(0.2, .05),  \\\n",
    "            xycoords='figure fraction', fontsize=12, \\\n",
    "            color='#555555')\n",
    "\n",
    "# Lenda: barra\n",
    "sm = plt.cm.ScalarMappable(cmap=colormap, norm=plt.Normalize(vmin=vmin, vmax=vmax))\n",
    "sm.set_array([])\n",
    "fig.colorbar(sm, orientation=\"horizontal\", fraction=0.036, pad=0.1, aspect = 30)\n",
    "\n",
    "# Pintar a gráfica\n",
    "concellos_con_poboacion.plot(column=variable, cmap=colormap, linewidth=0.8, ax=ax, edgecolor='0.8')\n",
    "\n",
    "# Engadir etiquetas cos nomes das provincias\n",
    "# Primeiro extrae un punto representativo de cada polígono\n",
    "\n",
    "concellos['coords'] = concellos['geometry'].apply(lambda x: x.representative_point().coords[:])\n",
    "concellos['coords'] = [coords[0] for coords in concellos['coords']]\n",
    "\n",
    "# Itera as liñas do dataset e vai engadindo as etiquetas co nome da provincia\n",
    "for idx, row in concellos.iterrows():\n",
    "    plt.annotate(row['Concello'], xy=row['coords'],horizontalalignment='center')"
   ]
  },
  {
   "cell_type": "code",
   "execution_count": null,
   "metadata": {},
   "outputs": [],
   "source": [
    "fig.savefig('concellos_densidade_poboacion.png',facecolor='white')"
   ]
  },
  {
   "cell_type": "code",
   "execution_count": null,
   "metadata": {},
   "outputs": [],
   "source": []
  }
 ],
 "metadata": {
  "kernelspec": {
   "display_name": "Python 3",
   "language": "python",
   "name": "python3"
  },
  "language_info": {
   "codemirror_mode": {
    "name": "ipython",
    "version": 3
   },
   "file_extension": ".py",
   "mimetype": "text/x-python",
   "name": "python",
   "nbconvert_exporter": "python",
   "pygments_lexer": "ipython3",
   "version": "3.10.2"
  }
 },
 "nbformat": 4,
 "nbformat_minor": 2
}
