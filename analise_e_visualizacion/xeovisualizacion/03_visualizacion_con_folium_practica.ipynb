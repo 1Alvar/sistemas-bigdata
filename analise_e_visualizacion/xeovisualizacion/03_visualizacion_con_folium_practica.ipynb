{
 "cells": [
  {
   "cell_type": "markdown",
   "metadata": {},
   "source": [
    "**Mapas con folium e dataframes**"
   ]
  },
  {
   "cell_type": "code",
   "execution_count": null,
   "metadata": {},
   "outputs": [],
   "source": [
    "# Carga datos de marcas desde un ficheiro e píntaas sobre un mapa\n",
    "\n",
    "# Rede de bibliotecas de Galicia\n",
    "# Descarga os datos das bibliotecas da rede de bibliotecas de Galicia do porta openData da Xunta\n",
    "\n",
    "# Nota: Lembra que tes que engadir as marcas ao mapa unha a unha.\n"
   ]
  },
  {
   "cell_type": "code",
   "execution_count": null,
   "metadata": {},
   "outputs": [],
   "source": []
  }
 ],
 "metadata": {
  "interpreter": {
   "hash": "93a662753ff0de4be1aefa8180c9c559dc79c0876de88e485d2fedc22390c9e9"
  },
  "kernelspec": {
   "display_name": "Python 3.10.2 ('novo_contorno')",
   "language": "python",
   "name": "python3"
  },
  "language_info": {
   "codemirror_mode": {
    "name": "ipython",
    "version": 3
   },
   "file_extension": ".py",
   "mimetype": "text/x-python",
   "name": "python",
   "nbconvert_exporter": "python",
   "pygments_lexer": "ipython3",
   "version": "3.10.2"
  },
  "orig_nbformat": 4
 },
 "nbformat": 4,
 "nbformat_minor": 2
}
