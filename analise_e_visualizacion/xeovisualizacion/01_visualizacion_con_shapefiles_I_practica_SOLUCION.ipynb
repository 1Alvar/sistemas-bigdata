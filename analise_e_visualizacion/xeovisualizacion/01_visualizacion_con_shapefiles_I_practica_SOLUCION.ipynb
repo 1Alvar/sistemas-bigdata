{
 "cells": [
  {
   "cell_type": "markdown",
   "metadata": {},
   "source": [
    "### Gráficos con Shapefile - Práctica I\n",
    "\n"
   ]
  },
  {
   "cell_type": "code",
   "execution_count": null,
   "metadata": {},
   "outputs": [],
   "source": [
    "# Importar librarías necesarias"
   ]
  },
  {
   "cell_type": "code",
   "execution_count": null,
   "metadata": {},
   "outputs": [],
   "source": [
    "import geopandas as gpd"
   ]
  },
  {
   "cell_type": "code",
   "execution_count": null,
   "metadata": {},
   "outputs": [],
   "source": [
    "# Carga os datos xeográficos de concellos descargados do Sergas\n",
    "# Cartografía de Galicia en formato vectorial para sistemas de informacion xeográfica\n",
    "# https://www.sergas.es/Saude-publica/GIS-Cartografia-Galicia-formato-vectorial-SHP"
   ]
  },
  {
   "cell_type": "code",
   "execution_count": null,
   "metadata": {},
   "outputs": [],
   "source": [
    "df_concellos = gpd.read_file('../../datasets/Concellos/Concellos_IGN.shp')\n",
    "df_concellos.head()"
   ]
  },
  {
   "cell_type": "code",
   "execution_count": null,
   "metadata": {},
   "outputs": [],
   "source": [
    "# Mostrar en que sistema de coordenadas está\n",
    "# https://spatialreference.org/ref/epsg/etrs89-utm-zone-29n/\n",
    "print(df_concellos.crs)"
   ]
  },
  {
   "cell_type": "code",
   "execution_count": null,
   "metadata": {},
   "outputs": [],
   "source": [
    "# Pinta cunha cor diferente cada unha das provincias"
   ]
  },
  {
   "cell_type": "code",
   "execution_count": null,
   "metadata": {},
   "outputs": [],
   "source": [
    "df_concellos['color'] = df_concellos.Provincia.apply(lambda x: 'red' if x=='Ourense' else 'green' if x=='A Coruña' else 'purple' if x=='Pontevedra' else 'yellow')\n",
    "df_concellos.plot(color=df_concellos.color)"
   ]
  },
  {
   "cell_type": "code",
   "execution_count": null,
   "metadata": {},
   "outputs": [],
   "source": [
    "# Pinta con cores diferentes os concellos grandes e pequenos\n",
    "# Os pequenos son os que están por debaixo da media"
   ]
  },
  {
   "cell_type": "code",
   "execution_count": null,
   "metadata": {},
   "outputs": [],
   "source": [
    "area_media = df_concellos.Shape_Area.mean()\n",
    "df_concellos['color'] = df_concellos.Shape_Area.apply(lambda x: 'red' if x < area_media else 'blue')\n",
    "df_concellos.plot(color=df_concellos.color,figsize=(10,10),edgecolor='lightgray')\n"
   ]
  },
  {
   "cell_type": "code",
   "execution_count": null,
   "metadata": {},
   "outputs": [],
   "source": [
    "# Pensas que hai concellos excepcionalmente pequenos en relación ao resto?\n",
    "# Haberá algún demasiado grande?\n",
    "# Destaca nun mapa os concellos extremadamente pequenos ou grandes en relación ao resto"
   ]
  },
  {
   "cell_type": "code",
   "execution_count": null,
   "metadata": {},
   "outputs": [],
   "source": [
    "import seaborn as sns\n",
    "import matplotlib.pyplot as plt\n",
    "import numpy as np\n",
    "\n",
    "sns.boxplot(df_concellos['Shape_Area'])"
   ]
  },
  {
   "cell_type": "code",
   "execution_count": null,
   "metadata": {},
   "outputs": [],
   "source": [
    "def tukey_outliers(x):\n",
    "    q1 = np.percentile(x,25)\n",
    "    q3 = np.percentile(x,75)\n",
    "    \n",
    "    iqr = q3-q1\n",
    "    \n",
    "    min_range = q1 - iqr*1.5\n",
    "    max_range = q3 + iqr*1.5\n",
    "    \n",
    "    outliers = x[(x<min_range) | (x>max_range)]\n",
    "    return outliers\n",
    "\n",
    "outliers = df_concellos.iloc[list(tukey_outliers(df_concellos.Shape_Area).index)]"
   ]
  },
  {
   "cell_type": "code",
   "execution_count": null,
   "metadata": {},
   "outputs": [],
   "source": [
    "base = df_concellos.plot(figsize=(7,7))\n",
    "outliers.plot(color='red',ax=base)"
   ]
  },
  {
   "cell_type": "code",
   "execution_count": null,
   "metadata": {},
   "outputs": [],
   "source": [
    "# Descarga os seguintes datasets e elabora un mapa\n",
    "# Mapas: comunidade autónoma, estacións de ferrocarril, liñas de tren\n",
    "# Pinta un mapa de Galicia no que se visualice:\n",
    "# - As liñas de tren (diferentes cores en función da tipoloxía)\n",
    "# - As estacións de tren (unicamente as que están en uso)"
   ]
  },
  {
   "cell_type": "code",
   "execution_count": null,
   "metadata": {},
   "outputs": [],
   "source": [
    "df_galicia = gpd.read_file('../../datasets/Comunidade_Autonoma/Comunidade_Autonoma_IGN.shp')\n",
    "df_estacions = gpd.read_file('../../datasets/Ferrocarril/ESTACION_FFCC.shp')\n",
    "df_vias = gpd.read_file('../../datasets/Ferrocarril/FFCC_AVE.shp')"
   ]
  },
  {
   "cell_type": "code",
   "execution_count": null,
   "metadata": {},
   "outputs": [],
   "source": [
    "df_estacions.ESTADO.unique()"
   ]
  },
  {
   "cell_type": "code",
   "execution_count": null,
   "metadata": {},
   "outputs": [],
   "source": [
    "df_vias.head()"
   ]
  },
  {
   "cell_type": "code",
   "execution_count": null,
   "metadata": {},
   "outputs": [],
   "source": [
    "df_vias.LAYER.unique()"
   ]
  },
  {
   "cell_type": "code",
   "execution_count": null,
   "metadata": {},
   "outputs": [],
   "source": [
    "df_vias['color'] = df_vias.LAYER.apply(lambda x: 'green' if x == 'FEVE' else 'yellow' if x == 'AVE' else 'blue')\n",
    "df_vias"
   ]
  },
  {
   "cell_type": "code",
   "execution_count": null,
   "metadata": {},
   "outputs": [],
   "source": [
    "base = df_galicia.plot(color='gray',figsize=(20,20))\n",
    "df_vias.plot(ax=base,linewidth=0.8,color=df_vias.color)\n",
    "df_estacions[df_estacions.ESTADO == 'USO'].plot(ax=base,color='red',markersize=20,marker='x')"
   ]
  },
  {
   "cell_type": "code",
   "execution_count": null,
   "metadata": {},
   "outputs": [],
   "source": []
  }
 ],
 "metadata": {
  "interpreter": {
   "hash": "2eaf50c46cca8d47f8fbdccf847348d8678fdaff72e1c7be6ae8fbe014f877f9"
  },
  "kernelspec": {
   "display_name": "Python 3.8.12 ('SistemasBigData')",
   "language": "python",
   "name": "python3"
  },
  "language_info": {
   "codemirror_mode": {
    "name": "ipython",
    "version": 3
   },
   "file_extension": ".py",
   "mimetype": "text/x-python",
   "name": "python",
   "nbconvert_exporter": "python",
   "pygments_lexer": "ipython3",
   "version": "3.8.12"
  },
  "orig_nbformat": 4
 },
 "nbformat": 4,
 "nbformat_minor": 2
}
