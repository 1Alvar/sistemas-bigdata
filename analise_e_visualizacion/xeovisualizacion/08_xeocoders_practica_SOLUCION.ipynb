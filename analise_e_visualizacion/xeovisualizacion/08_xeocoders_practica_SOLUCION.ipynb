{
 "cells": [
  {
   "cell_type": "markdown",
   "metadata": {},
   "source": [
    "**Exercicio con Nominatim**"
   ]
  },
  {
   "cell_type": "code",
   "execution_count": null,
   "metadata": {},
   "outputs": [],
   "source": [
    "# 0. Crea un dataframe co  nome de 3 lugares da Coruña ou do resto de Galicia que recomendarías para comer, engade un comentario persoal\n",
    "# 1. Busca a través da API de Nominatim (versión privada) información dos lugares que recomendarías\n",
    "# 2. Crea un dataframe coa seguinte información: nome, enderezo, cidade, coordenadas e comentario\n",
    "# 3. Visualiza os 3 lugares nun mapa con folium\n",
    "# 4. Engade a información das túas recomendacións ao ficheiro colaborativo e fai un PR para compartilas con todos\n",
    "# 5. Pinta un novo mapa directamente sobre os datos do ficheiro compartido na rede (utiliza clúster de marcas)\n",
    "\n",
    "# Lembra facer un fork do repo antes de enviar o ficheiro cos teus cambios\n",
    "\n",
    "# REPO: https://github.com/bigdatawirtz/restaurantes"
   ]
  },
  {
   "cell_type": "code",
   "execution_count": null,
   "metadata": {},
   "outputs": [],
   "source": [
    "# Creo de xeito manual un Dataframe con 3 recomendacións persoais\n",
    "\n",
    "import pandas as pd\n",
    "\n",
    "recomendacions = pd.DataFrame(\n",
    "    { 'nome' : ['Barazal III','O Fiuza','Os Ventis'],\n",
    "    'comentario' : ['O mellor pincho de tortilla da cidade','O mellor pulpo da Coruña','Tapas baratas e unha terraza macanuda']})\n",
    "recomendacions"
   ]
  },
  {
   "cell_type": "code",
   "execution_count": null,
   "metadata": {},
   "outputs": [],
   "source": [
    "# Nesta Cell podo probar individualmente as miñas consultas\n",
    "\n",
    "# Comprobo que a función Search de Nominatim encontra os lugares polos que pregunto e miro que datos devolve\n",
    "\n",
    "import requests\n",
    "\n",
    "busqueda = 'O Fiuza'\n",
    "\n",
    "search_url = 'https://nominatim.openstreetmap.org/search'\n",
    "#search_url = 'http://localhost:8080/search'\n",
    "payload = {'q': busqueda ,'format':'json'}\n",
    "\n",
    "search_response = requests.get(search_url,params=payload)\n",
    "\n",
    "latitude = search_response.json()[0]['lat']\n",
    "longitude = search_response.json()[0]['lon']\n",
    "search_response.json()"
   ]
  },
  {
   "cell_type": "code",
   "execution_count": null,
   "metadata": {},
   "outputs": [],
   "source": [
    "# Automatizo as consultas iterando sobre os datos\n",
    "# Gardo os resultados e creo un novo dataframe\n",
    "\n",
    "\n",
    "datos_restaurantes = []\n",
    "\n",
    "#search_url = 'https://nominatim.openstreetmap.org/search'\n",
    "#search_url = 'http://localhost:8080/search'\n",
    "search_url = 'http://34.79.16.254/'\n",
    "\n",
    "for idx, recomendacion in recomendacions.iterrows():\n",
    "    search_payload = {'q': recomendacion.nome ,'format':'json'}\n",
    "    search_response = requests.get(search_url,params=search_payload)\n",
    "    latitude = search_response.json()[0]['lat']\n",
    "    longitude = search_response.json()[0]['lon']\n",
    "    osm_id = search_response.json()[0]['osm_id']\n",
    "\n",
    "    datos_restaurantes.append([recomendacion.nome,latitude,longitude])\n",
    "\n",
    "restaurantes = pd.DataFrame(datos_restaurantes,columns=['nome','latitude','lonxitude'])\n",
    "restaurantes\n"
   ]
  },
  {
   "cell_type": "code",
   "execution_count": null,
   "metadata": {},
   "outputs": [],
   "source": [
    "# Cruzo os dous dataframes para ter todos os datos xuntos\n",
    "restaurantes = restaurantes.merge(recomendacions)\n",
    "restaurantes"
   ]
  },
  {
   "cell_type": "code",
   "execution_count": null,
   "metadata": {},
   "outputs": [],
   "source": [
    "# Exporto os datos a un ficheiro coa intención de envialo a un repositorio común\n",
    "restaurantes.to_csv('restaurantes.csv',sep=';',index=None)"
   ]
  },
  {
   "cell_type": "code",
   "execution_count": null,
   "metadata": {},
   "outputs": [],
   "source": [
    "## Aquí viría a parte onde creo un PR con Git para engadir as miñas suxestión a un ficheiro común"
   ]
  },
  {
   "cell_type": "code",
   "execution_count": null,
   "metadata": {},
   "outputs": [],
   "source": []
  },
  {
   "cell_type": "code",
   "execution_count": null,
   "metadata": {},
   "outputs": [],
   "source": [
    "# Represento os datos do meu dataframe sobre o mapa\n",
    "\n",
    "import folium\n",
    "\n",
    "m = folium.Map(location=[43,-8],zoom_start=10)\n",
    "for idx, restaurante in restaurantes.iterrows():\n",
    "    folium.Marker([restaurante.latitude,restaurante.lonxitude],\n",
    "    tooltip=restaurante.nome,\n",
    "    popup=(f'{restaurante.nome} ({restaurante.comentario})'),\n",
    "    icon=folium.Icon(color='red',icon='beer', prefix='fa')). \\\n",
    "    add_to(m)\n",
    "\n",
    "sw = restaurantes[['latitude', 'lonxitude']].min().values.tolist()\n",
    "ne = restaurantes[['latitude', 'lonxitude']].max().values.tolist()\n",
    "\n",
    "m.fit_bounds([sw, ne])      \n",
    "m"
   ]
  },
  {
   "cell_type": "code",
   "execution_count": null,
   "metadata": {},
   "outputs": [],
   "source": []
  },
  {
   "cell_type": "code",
   "execution_count": null,
   "metadata": {},
   "outputs": [],
   "source": [
    "# Leo os datos remotos do repositorio, onde hai un ficheiro con todas as colaboracións\n",
    "\n",
    "url_restaurantes = 'https://raw.githubusercontent.com/bigdatawirtz/restaurantes/main/restaurantes.csv'\n",
    "restaurantes_total = pd.read_csv(url_restaurantes,sep=';')\n",
    "restaurantes_total"
   ]
  },
  {
   "cell_type": "code",
   "execution_count": null,
   "metadata": {},
   "outputs": [],
   "source": [
    "# Represento os puntos sobre o mapa\n",
    "# O único que cambia é o dataframe que utilizo como orixe de datos\n",
    "\n",
    "import folium\n",
    "\n",
    "m = folium.Map(location=[43,-8])\n",
    "for idx, restaurante in restaurantes_total.iterrows():\n",
    "    folium.Marker([restaurante.latitude,restaurante.lonxitude],\n",
    "    tooltip=restaurante.nome,\n",
    "    popup=(f'{restaurante.nome} ({restaurante.comentario})'),\n",
    "    icon=folium.Icon(color='red',icon='beer', prefix='fa')). \\\n",
    "    add_to(m)\n",
    "\n",
    "sw = restaurantes_total[['latitude', 'lonxitude']].min().values.tolist()\n",
    "ne = restaurantes_total[['latitude', 'lonxitude']].max().values.tolist()\n",
    "\n",
    "m.fit_bounds([sw, ne])      \n",
    "m"
   ]
  },
  {
   "cell_type": "code",
   "execution_count": null,
   "metadata": {},
   "outputs": [],
   "source": [
    "m.save('mapa_colaborativo.html')"
   ]
  },
  {
   "cell_type": "code",
   "execution_count": null,
   "metadata": {},
   "outputs": [],
   "source": []
  }
 ],
 "metadata": {
  "interpreter": {
   "hash": "93a662753ff0de4be1aefa8180c9c559dc79c0876de88e485d2fedc22390c9e9"
  },
  "kernelspec": {
   "display_name": "Python 3.10.2 ('novo_contorno')",
   "language": "python",
   "name": "python3"
  },
  "language_info": {
   "codemirror_mode": {
    "name": "ipython",
    "version": 3
   },
   "file_extension": ".py",
   "mimetype": "text/x-python",
   "name": "python",
   "nbconvert_exporter": "python",
   "pygments_lexer": "ipython3",
   "version": "3.10.2"
  },
  "orig_nbformat": 4
 },
 "nbformat": 4,
 "nbformat_minor": 2
}
