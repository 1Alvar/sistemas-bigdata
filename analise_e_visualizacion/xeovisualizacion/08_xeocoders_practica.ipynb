{
 "cells": [
  {
   "cell_type": "markdown",
   "metadata": {},
   "source": [
    "**Exercicio con Nominatim**"
   ]
  },
  {
   "cell_type": "code",
   "execution_count": 2,
   "metadata": {},
   "outputs": [],
   "source": [
    "# 0. Crea un dataframe co  nome de 3 lugares da Coruña ou do resto de Galicia que recomendarías para comer, engade un comentario persoal\n",
    "# 1. Busca a través da API de Nominatim (versión privada) información dos lugares que recomendarías\n",
    "# 2. Crea un dataframe coa seguinte información: nome, enderezo, cidade, coordenadas e comentario\n",
    "# 3. Visualiza os 3 lugares nun mapa con folium\n",
    "# 4. Engade a información das túas recomendacións ao ficheiro colaborativo e fai un PR para compartilas con todos\n",
    "# 5. Pinta un novo mapa directamente sobre os datos do ficheiro compartido na rede (utiliza clúster de marcas)\n",
    "\n",
    "# Lembra facer un fork do repo antes de enviar o ficheiro cos teus cambios\n",
    "\n",
    "# REPO: https://github.com/bigdatawirtz/restaurantes"
   ]
  }
 ],
 "metadata": {
  "interpreter": {
   "hash": "93a662753ff0de4be1aefa8180c9c559dc79c0876de88e485d2fedc22390c9e9"
  },
  "kernelspec": {
   "display_name": "Python 3.10.2 ('novo_contorno')",
   "language": "python",
   "name": "python3"
  },
  "language_info": {
   "codemirror_mode": {
    "name": "ipython",
    "version": 3
   },
   "file_extension": ".py",
   "mimetype": "text/x-python",
   "name": "python",
   "nbconvert_exporter": "python",
   "pygments_lexer": "ipython3",
   "version": "3.10.2"
  },
  "orig_nbformat": 4
 },
 "nbformat": 4,
 "nbformat_minor": 2
}
