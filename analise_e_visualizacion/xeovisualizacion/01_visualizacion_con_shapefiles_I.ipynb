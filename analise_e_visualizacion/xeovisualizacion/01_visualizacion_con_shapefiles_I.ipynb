{
 "cells": [
  {
   "cell_type": "markdown",
   "metadata": {},
   "source": [
    "### Gráficos con Shapefile\n",
    "\n",
    "- xerar geodataframes\n",
    "- diferentes maneiras de pintar mapas\n",
    "- polígonos, liñas e puntos\n",
    "- operacións xeométricas"
   ]
  },
  {
   "cell_type": "code",
   "execution_count": null,
   "metadata": {},
   "outputs": [],
   "source": [
    "# Importar libraría geopandas\n",
    "import geopandas as gpd"
   ]
  },
  {
   "cell_type": "code",
   "execution_count": null,
   "metadata": {},
   "outputs": [],
   "source": [
    "# Cargar os datos\n",
    "# Cartografía de Galicia en formato vectorial para sistemas de informacion xeográfica\n",
    "# https://www.sergas.es/Saude-publica/GIS-Cartografia-Galicia-formato-vectorial-SHP\n",
    "# https://www.sergas.es/Saude-publica/GIS-Concellos\n",
    "df_concellos = gpd.read_file('../../datasets/Concellos/Concellos_IGN.shp')\n",
    "df_concellos.head()"
   ]
  },
  {
   "cell_type": "code",
   "execution_count": null,
   "metadata": {},
   "outputs": [],
   "source": [
    "# Mostrar en que sistema de coordenadas está\n",
    "# https://spatialreference.org/ref/epsg/etrs89-utm-zone-29n/\n",
    "print(df_concellos.crs)"
   ]
  },
  {
   "cell_type": "code",
   "execution_count": null,
   "metadata": {},
   "outputs": [],
   "source": [
    "# Pintar o mapa de concellos\n",
    "df_concellos.plot()"
   ]
  },
  {
   "cell_type": "code",
   "execution_count": null,
   "metadata": {},
   "outputs": [],
   "source": [
    "#Mudar o tamaño\n",
    "df_concellos.plot(figsize=(10,10))"
   ]
  },
  {
   "cell_type": "code",
   "execution_count": null,
   "metadata": {},
   "outputs": [],
   "source": [
    "# As funcións plot pintan, de xeito predeterminado, a columna Geometry, onde nos podemos encontrar:\n",
    "# - POLYGON\n",
    "# - LINE\n",
    "# - POINT"
   ]
  },
  {
   "cell_type": "code",
   "execution_count": null,
   "metadata": {},
   "outputs": [],
   "source": [
    "# Dun polígono podemos definir como pintar área ou borde\n",
    "# Lista de cores: https://matplotlib.org/stable/gallery/color/named_colors.html\n",
    "df_concellos.plot(color='green')"
   ]
  },
  {
   "cell_type": "code",
   "execution_count": null,
   "metadata": {},
   "outputs": [],
   "source": [
    "df_concellos.plot(edgecolor='black')"
   ]
  },
  {
   "cell_type": "code",
   "execution_count": null,
   "metadata": {},
   "outputs": [],
   "source": [
    "df_concellos.plot(color='whitesmoke',edgecolor='black')"
   ]
  },
  {
   "cell_type": "code",
   "execution_count": null,
   "metadata": {},
   "outputs": [],
   "source": [
    "# Descargar e cargar a listaxe de entidades de poboación\n",
    "df_poboacions = gpd.read_file('/huge/datasets/Entidades_Singulares_Poboacion/ENTIDADE_SINGULAR_Pob_2010_20111205.shp')\n",
    "df_poboacions.head()"
   ]
  },
  {
   "cell_type": "code",
   "execution_count": null,
   "metadata": {},
   "outputs": [],
   "source": [
    "df_poboacions.shape"
   ]
  },
  {
   "cell_type": "code",
   "execution_count": null,
   "metadata": {},
   "outputs": [],
   "source": [
    "df_poboacions.crs"
   ]
  },
  {
   "cell_type": "code",
   "execution_count": null,
   "metadata": {},
   "outputs": [],
   "source": [
    "df_poboacions.plot()"
   ]
  },
  {
   "cell_type": "code",
   "execution_count": null,
   "metadata": {},
   "outputs": [],
   "source": [
    "df_poboacions.plot(markersize=0.05,figsize=(10,10))"
   ]
  },
  {
   "cell_type": "code",
   "execution_count": null,
   "metadata": {},
   "outputs": [],
   "source": [
    "# Podemos xuntar nunha mesma gráfica varios datasets\n",
    "base = df_concellos.plot(color='whitesmoke',figsize=(7,7))\n",
    "df_poboacions.plot(markersize=0.1,ax=base)"
   ]
  },
  {
   "cell_type": "code",
   "execution_count": null,
   "metadata": {},
   "outputs": [],
   "source": [
    "# Descargar 'redes de transporte', por exemplo: a rede de ferrocarril\n",
    "# https://www.sergas.es/Saude-publica/GIS-Cartografia-Galicia-formato-vectorial-SHP\n",
    "df_tren = gpd.read_file('/huge/datasets/Ferrocarril/FFCC_AVE.shp')\n",
    "df_tren.head()"
   ]
  },
  {
   "cell_type": "code",
   "execution_count": null,
   "metadata": {},
   "outputs": [],
   "source": [
    "df_tren.crs"
   ]
  },
  {
   "cell_type": "code",
   "execution_count": null,
   "metadata": {},
   "outputs": [],
   "source": [
    "df_tren.plot()"
   ]
  },
  {
   "cell_type": "code",
   "execution_count": null,
   "metadata": {},
   "outputs": [],
   "source": [
    "base = df_concellos.plot(color='whitesmoke')\n",
    "df_tren.plot(ax=base)"
   ]
  },
  {
   "cell_type": "code",
   "execution_count": null,
   "metadata": {},
   "outputs": [],
   "source": [
    "# A columna geometry permite diferentes operacións relacionadas co espazo\n",
    "# en función do tipo de datos que almacene"
   ]
  },
  {
   "cell_type": "code",
   "execution_count": null,
   "metadata": {},
   "outputs": [],
   "source": [
    "# Podemos calcular a área dos polígono en km2\n",
    "df_concellos.area / 10**6"
   ]
  },
  {
   "cell_type": "code",
   "execution_count": null,
   "metadata": {},
   "outputs": [],
   "source": [
    "df_concellos[df_concellos.Concello == 'Ferrol'].area / 10**6"
   ]
  },
  {
   "cell_type": "code",
   "execution_count": null,
   "metadata": {},
   "outputs": [],
   "source": [
    "# Podemos calcular a lonxitude dunha liña\n",
    "df_tren.head()"
   ]
  },
  {
   "cell_type": "code",
   "execution_count": null,
   "metadata": {},
   "outputs": [],
   "source": [
    "df_tren.length"
   ]
  },
  {
   "cell_type": "code",
   "execution_count": null,
   "metadata": {},
   "outputs": [],
   "source": [
    "df_tren.drop('SHAPE_LEN',axis='columns',inplace=True)\n",
    "df_tren.head(3)"
   ]
  },
  {
   "cell_type": "code",
   "execution_count": null,
   "metadata": {},
   "outputs": [],
   "source": [
    "df_tren.head()"
   ]
  },
  {
   "cell_type": "code",
   "execution_count": null,
   "metadata": {},
   "outputs": [],
   "source": [
    "df_tren.length"
   ]
  },
  {
   "cell_type": "code",
   "execution_count": null,
   "metadata": {},
   "outputs": [],
   "source": [
    "# Podemos pintar os mapas dun xeito diferente para cada liña en función de datos internos do dataframe\n",
    "# Por exemplo: diferentes cores para concellos de tamaño diferente\n",
    "# diferentes cores para liñas de tren de diferente categoría\n",
    "\n",
    "# Unha das estratexias é crear unha nova columna 'color' no dataframe, onde indicar a cor coa que se pintará"
   ]
  },
  {
   "cell_type": "code",
   "execution_count": null,
   "metadata": {},
   "outputs": [],
   "source": [
    "df_concellos.head(3)"
   ]
  },
  {
   "cell_type": "code",
   "execution_count": null,
   "metadata": {},
   "outputs": [],
   "source": [
    "# Pintar de azul as provincias que teñen mar, de vermello as que non \n",
    "df_concellos['color'] = df_concellos.Provincia.apply(lambda x: 'red' if x == 'Ourense' else 'blue')"
   ]
  },
  {
   "cell_type": "code",
   "execution_count": null,
   "metadata": {},
   "outputs": [],
   "source": [
    "df_concellos.plot(color=df_concellos.color)"
   ]
  },
  {
   "cell_type": "code",
   "execution_count": null,
   "metadata": {},
   "outputs": [],
   "source": []
  }
 ],
 "metadata": {
  "interpreter": {
   "hash": "2eaf50c46cca8d47f8fbdccf847348d8678fdaff72e1c7be6ae8fbe014f877f9"
  },
  "kernelspec": {
   "display_name": "Python 3.8.12 ('SistemasBigData')",
   "language": "python",
   "name": "python3"
  },
  "language_info": {
   "codemirror_mode": {
    "name": "ipython",
    "version": 3
   },
   "file_extension": ".py",
   "mimetype": "text/x-python",
   "name": "python",
   "nbconvert_exporter": "python",
   "pygments_lexer": "ipython3",
   "version": "3.8.12"
  },
  "orig_nbformat": 4
 },
 "nbformat": 4,
 "nbformat_minor": 2
}
