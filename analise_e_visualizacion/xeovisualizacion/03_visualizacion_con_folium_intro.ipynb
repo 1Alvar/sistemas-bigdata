{
 "cells": [
  {
   "cell_type": "markdown",
   "metadata": {},
   "source": [
    "## Folium\n",
    "\n",
    "*Make beautiful, interactive maps with Python and Leaflet.js*"
   ]
  },
  {
   "cell_type": "markdown",
   "metadata": {},
   "source": [
    "**Folium** é unha libraría para python que facilita a creación de **mapas interactivos**\n",
    "\n",
    "**Documentación oficial**: https://python-visualization.github.io/folium/\n",
    "\n",
    "https://leafletjs.com/ (libraría JavaScript)"
   ]
  },
  {
   "cell_type": "code",
   "execution_count": null,
   "metadata": {},
   "outputs": [],
   "source": [
    "import folium"
   ]
  },
  {
   "cell_type": "code",
   "execution_count": null,
   "metadata": {},
   "outputs": [],
   "source": [
    "# Crear e mostrar una mapa\n",
    "m = folium.Map()\n",
    "m"
   ]
  },
  {
   "cell_type": "code",
   "execution_count": null,
   "metadata": {},
   "outputs": [],
   "source": [
    "# Na creación podemos pasar diferentes valores para definir o mapa: onde centralo,\n",
    "# o tamaño, o zoom inicial,...\n",
    "\n",
    "lat = 0\n",
    "lon = 0\n",
    "m = folium.Map(location=[lat, lon])\n",
    "#m = folium.Map(location=[lat, lon],zoom_start=15)\n",
    "#m = folium.Map(location=[lat, lon],zoom_start=15, width=800, height=600)\n",
    "m\n"
   ]
  },
  {
   "cell_type": "code",
   "execution_count": null,
   "metadata": {},
   "outputs": [],
   "source": [
    "# Proposta\n",
    "# Que intenten chegar á súa casa a base de modificar as coordenadas\n",
    "lat = _ \n",
    "lon = _\n",
    "m = folium.Map(location=[lat, lon],zoom_start=_, width=800, height=600)\n",
    "m\n"
   ]
  },
  {
   "cell_type": "code",
   "execution_count": null,
   "metadata": {},
   "outputs": [],
   "source": [
    "# Podes extraer as coordenadas de diferentes sitios:\n",
    "# - google maps (pinchar sobre o mapa + botón dereito | url)\n",
    "# - openstreetmap (sobre o mapa - amosar enderezo?  | url)\n",
    "\n",
    "# Probar a extraer coordenadas dalgún mapa e crear un mapa con Folium"
   ]
  },
  {
   "cell_type": "markdown",
   "metadata": {},
   "source": [
    "Cambiar os tipos dos mapas base\n",
    "- “OpenStreetMap”\n",
    "- “Mapbox Bright” (Limited levels of zoom for free tiles)\n",
    "- “Mapbox Control Room” (Limited levels of zoom for free tiles)\n",
    "- “Stamen” (Terrain, Toner, and Watercolor)\n",
    "- “Cloudmade” (Must pass API key) ?\n",
    "- “Mapbox” (Must pass API key) ?\n",
    "- “CartoDB” (positron and dark_matter)\n",
    "- etc\n",
    "\n",
    "Podes ver exemplos aquí: https://deparkes.co.uk/2016/06/10/folium-map-tiles/"
   ]
  },
  {
   "cell_type": "code",
   "execution_count": null,
   "metadata": {},
   "outputs": [],
   "source": [
    "tipo_mapa = 'Stamen Terrain'\n",
    "#tipo_mapa = 'CartoDB Positron'\n",
    "#tipo_mapa = 'Open Street Map' #Default\n",
    "\n",
    "m = folium.Map(location=[43.38, -8.42],zoom_start=15, width=800, height=600, tiles=tipo_mapa )\n",
    "m"
   ]
  },
  {
   "cell_type": "code",
   "execution_count": null,
   "metadata": {},
   "outputs": [],
   "source": [
    "# Podemos engadir diferentes 'map tiles' ao noso mapa e mostrar un botón que nos permita cambiar entre eles\n",
    "\n",
    "m = folium.Map(location=[43.38, -8.42],zoom_start=15, width=800, height=600)\n",
    "folium.TileLayer('Stamen Terrain').add_to(m)\n",
    "folium.LayerControl().add_to(m)\n",
    "m"
   ]
  },
  {
   "cell_type": "markdown",
   "metadata": {},
   "source": [
    "**Markers**\n",
    "\n",
    "As marcas permiten sinalar puntos de interese nun mapa."
   ]
  },
  {
   "cell_type": "code",
   "execution_count": null,
   "metadata": {},
   "outputs": [],
   "source": [
    "m = folium.Map(location=[43.38, -8.42],zoom_start=14, width=800, height=600)\n",
    "\n",
    "folium.Marker([43.38594, -8.40653]).add_to(m)\n",
    "m"
   ]
  },
  {
   "cell_type": "code",
   "execution_count": null,
   "metadata": {},
   "outputs": [],
   "source": [
    "# Temos que engadir as marcas individualmente\n",
    "m = folium.Map(location=[43.38, -8.42],zoom_start=14, width=800, height=600)\n",
    "\n",
    "folium.Marker([43.38594, -8.40653]).add_to(m)\n",
    "folium.Marker([43.37245, -8.44646]).add_to(m)\n",
    "folium.Marker([43.36209, -8.41247]).add_to(m)\n",
    "\n",
    "m"
   ]
  },
  {
   "cell_type": "code",
   "execution_count": null,
   "metadata": {},
   "outputs": [],
   "source": [
    "# Podemos engadir información ás marcas, por exemplo con popups\n",
    "# Tamén podemos mudar as iconas # https://www.w3schools.com/icons/bootstrap_icons_glyphicons.asp\n",
    "\n",
    "m = folium.Map(location=[43.38, -8.42],zoom_start=14, width=800, height=600)\n",
    "\n",
    "folium.Marker([43.38594, -8.40653], popup='Torre de Hércules').add_to(m)\n",
    "folium.Marker([43.37245, -8.44646], popup='Casa das ciencias', icon=folium.Icon(icon='info-sign')).add_to(m)\n",
    "folium.Marker([43.36209, -8.41247], popup='Casa das ciencias', icon=folium.Icon(icon='envelope',color='green')).add_to(m)\n",
    "\n",
    "m"
   ]
  },
  {
   "cell_type": "code",
   "execution_count": null,
   "metadata": {},
   "outputs": [],
   "source": [
    "# Folium permite gardar os mapas exportando a ficheiro html: mapas interactivos! wow!!\n",
    "m.save('mapita.html')"
   ]
  },
  {
   "cell_type": "code",
   "execution_count": null,
   "metadata": {},
   "outputs": [],
   "source": []
  }
 ],
 "metadata": {
  "interpreter": {
   "hash": "333f330947fb01d56a81d84a18d1c3d6776e74481d9d05d3d44523183feb1ee9"
  },
  "kernelspec": {
   "display_name": "Python 3.8.12 ('xeolocalizando')",
   "language": "python",
   "name": "python3"
  },
  "language_info": {
   "codemirror_mode": {
    "name": "ipython",
    "version": 3
   },
   "file_extension": ".py",
   "mimetype": "text/x-python",
   "name": "python",
   "nbconvert_exporter": "python",
   "pygments_lexer": "ipython3",
   "version": "3.8.12"
  },
  "orig_nbformat": 4
 },
 "nbformat": 4,
 "nbformat_minor": 2
}
