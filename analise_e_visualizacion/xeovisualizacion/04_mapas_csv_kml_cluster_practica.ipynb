{
 "cells": [
  {
   "cell_type": "markdown",
   "metadata": {},
   "source": [
    "**Mapas multicapa, clúster de marcas, ...**"
   ]
  },
  {
   "cell_type": "code",
   "execution_count": null,
   "metadata": {},
   "outputs": [],
   "source": [
    "# Pinta un mapa de Galicia con varias capas\n",
    "# Fondo tile map seleccionable: mínimo 3 capas\n",
    "# Límites comarcais (mapas do servizo cartográfico (sergas))\n",
    "# Marcas coas praias con bandeira azul en 2021 (portal \"@bertos\")\n",
    "\n",
    "# 1. Fai un primeiro mapa utilizando os datos desde o ficheiro CSV (sen clúster de marcas)\n",
    "# 2. Fai un segundo mapa utilizando os datos desde o ficheiro KML (con clúster de marcas)"
   ]
  },
  {
   "cell_type": "code",
   "execution_count": null,
   "metadata": {},
   "outputs": [],
   "source": []
  }
 ],
 "metadata": {
  "interpreter": {
   "hash": "93a662753ff0de4be1aefa8180c9c559dc79c0876de88e485d2fedc22390c9e9"
  },
  "kernelspec": {
   "display_name": "Python 3.10.2 ('novo_contorno')",
   "language": "python",
   "name": "python3"
  },
  "language_info": {
   "codemirror_mode": {
    "name": "ipython",
    "version": 3
   },
   "file_extension": ".py",
   "mimetype": "text/x-python",
   "name": "python",
   "nbconvert_exporter": "python",
   "pygments_lexer": "ipython3",
   "version": "3.10.2"
  },
  "orig_nbformat": 4
 },
 "nbformat": 4,
 "nbformat_minor": 2
}
