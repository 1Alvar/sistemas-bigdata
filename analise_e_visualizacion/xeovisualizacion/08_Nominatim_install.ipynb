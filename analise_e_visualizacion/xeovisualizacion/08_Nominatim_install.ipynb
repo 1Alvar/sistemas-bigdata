{
 "cells": [
  {
   "cell_type": "markdown",
   "metadata": {},
   "source": [
    "### Nominatim"
   ]
  },
  {
   "cell_type": "markdown",
   "metadata": {},
   "source": [
    "Repositorio de desenvolvemento do docker de nominatim\n",
    "\n",
    "https://github.com/mediagis/nominatim-docker\n",
    "\n",
    "```\n",
    "git clone git@github.com:mediagis/nominatim-docker.git\n",
    "cd nominatim-docker/<version>\n",
    "```\n",
    "\n",
    "Localizar as bases de datos dos territorios que queremos cargar:\n",
    "updates: https://download.geofabrik.de/\n",
    "\n",
    "Galicia:\n",
    "- principal: https://download.geofabrik.de/europe/spain/galicia-latest.osm.pbf  (81mb)\n",
    "- updates: https://download.geofabrik.de/europe/spain/galicia-updates\n",
    "\n",
    "España\n",
    "- principal: https://download.geofabrik.de/europe/spain-latest.osm.pbf (981mb)\n",
    "- updates: https://download.geofabrik.de/europe/spain-updates\n",
    "\n",
    "Podemos instalar un Nominatim dockerizado cos datos das zonas que nos interesen, deste xeito evitamos as restriscións de uso da API online de Nominatim de OSM.\n",
    "\n",
    "Por exemplo, co seguinte código lanzamos un docker para a zona de Galicia:\n",
    "\n",
    "```\n",
    "docker run -it --rm \\\n",
    " -e PBF_URL=https://download.geofabrik.de/europe/spain/galicia-latest.osm.pbf \\\n",
    " -e REPLICATION_URL=https://download.geofabrik.de/europe/spain/galicia-updates/ \\\n",
    " -p 8080:8080 \\\n",
    " --name nominatim \\\n",
    " mediagis/nominatim:4.0\n",
    " ```\n"
   ]
  },
  {
   "cell_type": "code",
   "execution_count": 6,
   "metadata": {},
   "outputs": [],
   "source": [
    "# Utilizamos a mesma API, mais nesta ocasión apuntando ao enderezo local\n",
    "# Exemplo de xeocodificación:\n",
    "# - Buscar as coordinadas de Galicia, para situala no mapa\n",
    "\n",
    "import requests\n",
    "\n",
    "busqueda = 'galicia'\n",
    "\n",
    "url = 'http://localhost:8080/search'\n",
    "payload = {'q': busqueda ,'format':'json'}\n",
    "\n",
    "response = requests.get(url,params=payload)"
   ]
  },
  {
   "cell_type": "code",
   "execution_count": null,
   "metadata": {},
   "outputs": [],
   "source": [
    "import folium\n",
    "\n",
    "latitude = response.json()[0]['lat']\n",
    "longitude = response.json()[0]['lon']\n",
    "\n",
    "m = folium.Map(location=[43,-8],zoom_start=8)\n",
    "folium.Marker(location=[latitude,longitude]).add_to(m)\n",
    "m"
   ]
  }
 ],
 "metadata": {
  "interpreter": {
   "hash": "93a662753ff0de4be1aefa8180c9c559dc79c0876de88e485d2fedc22390c9e9"
  },
  "kernelspec": {
   "display_name": "Python 3.10.2 ('novo_contorno')",
   "language": "python",
   "name": "python3"
  },
  "language_info": {
   "codemirror_mode": {
    "name": "ipython",
    "version": 3
   },
   "file_extension": ".py",
   "mimetype": "text/x-python",
   "name": "python",
   "nbconvert_exporter": "python",
   "pygments_lexer": "ipython3",
   "version": "3.10.2"
  },
  "orig_nbformat": 4
 },
 "nbformat": 4,
 "nbformat_minor": 2
}
