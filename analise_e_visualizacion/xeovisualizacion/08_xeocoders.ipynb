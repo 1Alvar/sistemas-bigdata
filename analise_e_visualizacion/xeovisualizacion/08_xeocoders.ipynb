{
 "cells": [
  {
   "cell_type": "markdown",
   "metadata": {},
   "source": [
    "### Xeocoding\n",
    "\n",
    "Xeocodificar é o proceso de asignar coordenadas xeográficas a puntos dun mapa (unha cidade, un punto de interese, un enderezo, ...).\n",
    "\n",
    "Hai diferentes servizos de xeoconding, algúns de balde, outros de pago, con mais ou menos limitacións. Ofrecen servizos a través da web, API, etc...\n",
    "- Google Maps Geoconding: https://developers.google.com/maps/documentation/geocoding/\n",
    "- Nominatim (OSM): https://nominatim.openstreetmap.org/ui/search.html \n",
    "- etc...\n"
   ]
  },
  {
   "cell_type": "markdown",
   "metadata": {},
   "source": []
  },
  {
   "cell_type": "code",
   "execution_count": null,
   "metadata": {},
   "outputs": [],
   "source": [
    "# Nominatim API\n",
    "# https://nominatim.org/release-docs/develop/api/Overview/\n",
    "\n",
    "# /search\n",
    "\n",
    "# Búsqueda web\n",
    "# https://nominatim.openstreetmap.org/ui/search.html?q=galicia\n",
    "\n",
    "# Búsqueda API (vista web)\n",
    "# https://nominatim.openstreetmap.org/search.php?q=galicia&format=jsonv2\n",
    "\n",
    "# !!!!!!!!!!!!!!!!!!!!!!!!! NOMINATIM USAGE POLICY !!!!!!!!!!!!!!!!!!!!!!\n",
    "# Nominatim Usage Policy\n",
    "# https://operations.osmfoundation.org/policies/nominatim/\n",
    "\n",
    "# Entre outras: \n",
    "# - No heavy uses (an absolute maximum of 1 request per second)."
   ]
  },
  {
   "cell_type": "code",
   "execution_count": null,
   "metadata": {},
   "outputs": [],
   "source": [
    "import requests\n",
    "import folium"
   ]
  },
  {
   "cell_type": "code",
   "execution_count": null,
   "metadata": {},
   "outputs": [],
   "source": [
    "# Exemplo de xeocodificación:\n",
    "# - Buscar as coordinadas de Galicia, para situala no mapa\n",
    "\n",
    "import requests\n",
    "\n",
    "busqueda = 'galicia'\n",
    "\n",
    "url = 'https://nominatim.openstreetmap.org/search'\n",
    "payload = {'q': busqueda ,'format':'json'}\n",
    "\n",
    "response = requests.get(url,params=payload)\n",
    "response"
   ]
  },
  {
   "cell_type": "code",
   "execution_count": null,
   "metadata": {},
   "outputs": [],
   "source": [
    "response.json()"
   ]
  },
  {
   "cell_type": "code",
   "execution_count": null,
   "metadata": {},
   "outputs": [],
   "source": [
    "response.json()[0]"
   ]
  },
  {
   "cell_type": "code",
   "execution_count": null,
   "metadata": {},
   "outputs": [],
   "source": [
    "import folium\n",
    "\n",
    "latitude = response.json()[0]['lat']\n",
    "longitude = response.json()[0]['lon']\n",
    "\n",
    "m = folium.Map(location=[43,-8],zoom_start=8)\n",
    "folium.Marker(location=[latitude,longitude]).add_to(m)\n",
    "m"
   ]
  },
  {
   "cell_type": "code",
   "execution_count": null,
   "metadata": {},
   "outputs": [],
   "source": [
    "# Exemplo de xeocodificación:\n",
    "# - Buscar as coordenadas de do instituto\n",
    "\n",
    "busqueda = 'ies fernando wirtz'\n",
    "\n",
    "url = 'https://nominatim.openstreetmap.org/search'\n",
    "payload = {'q': busqueda ,'format':'json'}\n",
    "\n",
    "response = requests.get(url,params=payload)\n",
    "\n",
    "latitude = response.json()[0]['lat']\n",
    "longitude = response.json()[0]['lon']\n",
    "\n",
    "m = folium.Map(location=[latitude,longitude],zoom_start=16)\n",
    "folium.Marker(location=[latitude,longitude]).add_to(m)\n",
    "m.fit_bounds([latitude,longitude])\n",
    "m"
   ]
  },
  {
   "cell_type": "code",
   "execution_count": null,
   "metadata": {},
   "outputs": [],
   "source": [
    "# Exemplo de xeocodificación:\n",
    "# - Buscar as coordenadas dun enderezo\n",
    "\n",
    "busqueda = 'avenida gran canaria, 22, a coruña' # o mellor pincho de tortilla da cidade!\n",
    "\n",
    "url = 'https://nominatim.openstreetmap.org/search'\n",
    "payload = {'q': busqueda ,'format':'json'}\n",
    "\n",
    "response = requests.get(url,params=payload)\n",
    "\n",
    "latitude = response.json()[0]['lat']\n",
    "longitude = response.json()[0]['lon']\n",
    "\n",
    "m = folium.Map(location=[latitude,longitude],zoom_start=16)\n",
    "folium.Marker(location=[latitude,longitude]).add_to(m)\n",
    "m.fit_bounds([latitude,longitude])\n",
    "m"
   ]
  },
  {
   "cell_type": "code",
   "execution_count": null,
   "metadata": {},
   "outputs": [],
   "source": [
    "# Xeolocalización de límites/contornos\n",
    "# Xeolocalización de Portugal\n",
    "# Seleccionamos un formato de saída diferente: GeoJson\n",
    "\n",
    "busqueda = 'Portugal'\n",
    "\n",
    "url = 'https://nominatim.openstreetmap.org/search'\n",
    "payload = {'q': busqueda ,'format':'geojson','limit' : 1 ,'polygon_geojson' : 1}\n",
    "\n",
    "response = requests.get(url,params=payload)\n",
    "response.json()"
   ]
  },
  {
   "cell_type": "code",
   "execution_count": null,
   "metadata": {},
   "outputs": [],
   "source": [
    "import folium\n",
    "\n",
    "m = folium.Map(location=[34,-12],zoom_start=5)\n",
    "folium.GeoJson(response.json()).add_to(m)\n",
    "m"
   ]
  },
  {
   "cell_type": "code",
   "execution_count": null,
   "metadata": {},
   "outputs": [],
   "source": [
    "# Xeolocalización inversa\n",
    "\n",
    "# A xeolocalización inversa é o proceso inverso, é dicir, indicamos unhas coordenadas e \n",
    "# obtemos o lugar ao que fan referencia\n",
    "\n",
    "# https://nominatim.org/release-docs/latest/api/Reverse/\n",
    "# https://nominatim.openstreetmap.org/reverse?lat=<value>&lon=<value>&<params>\n",
    "\n"
   ]
  },
  {
   "cell_type": "code",
   "execution_count": null,
   "metadata": {},
   "outputs": [],
   "source": [
    "# Un amigo friki deume as seguintes coordenadas cando lle preguntei por un bo sitio\n",
    "# para comer. A onde me mandará este home??\n",
    "\n",
    "latitude = 43.3806571\n",
    "longitude = -8.3996016\n",
    "\n",
    "\n",
    "url = 'https://nominatim.openstreetmap.org/reverse'\n",
    "payload = {'lat': latitude , 'lon' : longitude, 'format':'json'}\n",
    "\n",
    "response = requests.get(url,params=payload)"
   ]
  },
  {
   "cell_type": "code",
   "execution_count": null,
   "metadata": {},
   "outputs": [],
   "source": [
    "response.json()"
   ]
  },
  {
   "cell_type": "code",
   "execution_count": null,
   "metadata": {},
   "outputs": [],
   "source": [
    "# Moi boa opción para comer! ;-)"
   ]
  },
  {
   "cell_type": "code",
   "execution_count": null,
   "metadata": {},
   "outputs": [],
   "source": [
    "# API details\n",
    "\n",
    "# A API de OSM  tamén nos permite, dado o id dun elemento, coñecer os detalles e información que garda o sistema sobre el\n",
    "\n",
    "\n",
    "# https://nominatim.openstreetmap.org/details?osmtype=[N|W|R]&osmid=<value>&class=<value>\n",
    "\n",
    "# osmtype = tipo de elemento\n",
    "# N = nodes\n",
    "# W = ways\n",
    "# R = relations\n",
    "\n",
    "# osmid = identificador do elemento"
   ]
  },
  {
   "cell_type": "code",
   "execution_count": null,
   "metadata": {},
   "outputs": [],
   "source": [
    "print(response.json()[0]['display_name'])\n",
    "print(response.json()[0]['osm_id'])"
   ]
  },
  {
   "cell_type": "code",
   "execution_count": null,
   "metadata": {},
   "outputs": [],
   "source": [
    "id = response.json()[0]['osm_id']\n",
    "\n",
    "details_url = 'https://nominatim.openstreetmap.org/details'\n",
    "payload = {'osmtype': 'N' ,'osmid': id, 'format':'json'}\n",
    "\n",
    "details_response = requests.get(details_url,params=payload)\n",
    "details_response.json()"
   ]
  },
  {
   "cell_type": "code",
   "execution_count": null,
   "metadata": {},
   "outputs": [],
   "source": [
    "# API lookup\n",
    "\n",
    "# A API lookup permite obter datos específicos a partir do id dun elemento\n",
    "\n",
    "#  https://nominatim.openstreetmap.org/lookup?osm_ids=[N|W|R]<value>,…,…,&<params>\n",
    "\n",
    "id = response.json()[0]['osm_id']\n",
    "\n",
    "lookup_url = 'https://nominatim.openstreetmap.org/lookup'\n",
    "payload = {'osm_ids': 'N'+str(id), 'format':'json'}\n",
    "\n",
    "lookup_response = requests.get(lookup_url,params=payload)\n",
    "lookup_response.json()\n"
   ]
  },
  {
   "cell_type": "code",
   "execution_count": null,
   "metadata": {},
   "outputs": [],
   "source": []
  }
 ],
 "metadata": {
  "interpreter": {
   "hash": "93a662753ff0de4be1aefa8180c9c559dc79c0876de88e485d2fedc22390c9e9"
  },
  "kernelspec": {
   "display_name": "Python 3.10.2 ('novo_contorno')",
   "language": "python",
   "name": "python3"
  },
  "language_info": {
   "codemirror_mode": {
    "name": "ipython",
    "version": 3
   },
   "file_extension": ".py",
   "mimetype": "text/x-python",
   "name": "python",
   "nbconvert_exporter": "python",
   "pygments_lexer": "ipython3",
   "version": "3.10.2"
  },
  "orig_nbformat": 4
 },
 "nbformat": 4,
 "nbformat_minor": 2
}
