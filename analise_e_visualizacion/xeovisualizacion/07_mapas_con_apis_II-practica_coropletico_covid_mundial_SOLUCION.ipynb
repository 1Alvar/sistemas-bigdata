{
 "cells": [
  {
   "cell_type": "markdown",
   "metadata": {},
   "source": [
    "**Exercicio**\n",
    "\n",
    "Crea un mapa coroplético mundial atendendo aos datos covid de infeccións nunha data determinada.\n",
    "\n",
    "Utiliza as seguinte fontes de datos:\n",
    "- Mapa en formato GeoJSON: https://geojson-maps.ash.ms/\n",
    "- Datos covid: Narrativa Covid-19 tracking project: https://covid19tracking.narrativa.com/index_en.html \n",
    "- Capitais de provincias: CSV: https://github.com/reganjohn/BHI/blob/master/topology/country-capitals.csv"
   ]
  },
  {
   "cell_type": "code",
   "execution_count": null,
   "metadata": {},
   "outputs": [],
   "source": [
    "# Estratexia\n",
    "# 1. Cargo os datos\n",
    "# 2. Comprobo cada dataset\n",
    "# 3. Pinto o mapa"
   ]
  },
  {
   "cell_type": "code",
   "execution_count": null,
   "metadata": {},
   "outputs": [],
   "source": [
    "# MAPA DO MUNDO\n",
    "\n",
    "# https://geojson-maps.ash.ms/\n",
    "# Configuro e descargo un mapa en 'Low resolution'\n",
    "# nome: custom_worldmap_geo.json\n",
    "\n",
    "# Cargo o ficheiro GeoJSON\n",
    "# Visualizo os datos\n",
    "\n",
    "import geopandas as gpd\n",
    "\n",
    "worldmap = gpd.read_file('../../datasets/custom_worldmap_geo.json')"
   ]
  },
  {
   "cell_type": "code",
   "execution_count": null,
   "metadata": {},
   "outputs": [],
   "source": [
    "worldmap.head(3)"
   ]
  },
  {
   "cell_type": "code",
   "execution_count": null,
   "metadata": {},
   "outputs": [],
   "source": [
    "worldmap.plot()"
   ]
  },
  {
   "cell_type": "code",
   "execution_count": null,
   "metadata": {},
   "outputs": [],
   "source": [
    "# DATOS COVID\n",
    "\n",
    "# Descargo a través da API os datos de todos os países\n",
    "# Finalmente creo un dataframe 'covid_paises' cos seguintes datos: id, name, today_confirmed, today_deaths\n",
    "\n",
    "import requests\n",
    "\n",
    "data = '2022-03-10'\n",
    "\n",
    "url = 'https://api.covid19tracking.narrativa.com/api/'+data\n",
    "response = requests.get(url)\n",
    "\n",
    "paises = response.json()['dates'][data]['countries']\n",
    "\n",
    "#print(response.text)\n"
   ]
  },
  {
   "cell_type": "code",
   "execution_count": null,
   "metadata": {},
   "outputs": [],
   "source": [
    "import pandas as pd\n",
    "\n",
    "datos_paises = []\n",
    "for pais in paises:\n",
    "    id = response.json()['dates'][data]['countries'][pais]['id']\n",
    "    name = response.json()['dates'][data]['countries'][pais]['name']\n",
    "    today_confirmed  = response.json()['dates'][data]['countries'][pais]['today_confirmed']\n",
    "    today_deaths = response.json()['dates'][data]['countries'][pais]['today_deaths']\n",
    "    datos_paises.append([id,name,today_confirmed,today_deaths])\n",
    "\n",
    "covid_paises = pd.DataFrame(datos_paises, columns=(['id','name','today_confirmed','today_deaths']))\n",
    "covid_paises.head()\n"
   ]
  },
  {
   "cell_type": "code",
   "execution_count": null,
   "metadata": {},
   "outputs": [],
   "source": [
    "# Capitais de países\n",
    "# Carga das capitais\n",
    "\n",
    "url_capitais = 'https://raw.githubusercontent.com/reganjohn/BHI/master/topology/country-capitals.csv'\n",
    "capitais = pd.read_csv(url_capitais,encoding='iso-8859-15',sep=',',on_bad_lines='skip')\n",
    "\n",
    "# Neste caso só temos que indicar o encoding pero lembra o parámetro 'sep', e tamén 'on_bad_lines', que pode axudar en caso de ficheiros mal formateados\n"
   ]
  },
  {
   "cell_type": "code",
   "execution_count": null,
   "metadata": {},
   "outputs": [],
   "source": [
    "capitais.head()"
   ]
  },
  {
   "cell_type": "code",
   "execution_count": null,
   "metadata": {},
   "outputs": [],
   "source": [
    "# Finalmente pinto o mapa con todos os elementos\n",
    "# - Podemos utilizar Circle en lugar de Marker\n",
    "# - En lugar de popup podemos experimentar co parámetro 'tooltip\n",
    "\n",
    "import folium\n",
    "\n",
    "# Podería pasar directamente o ficheiro geojson para pintar o mapa\n",
    "# Como xa está geojson cargado nun dataframe utilizarei o dataframe\n",
    "# mapa_paises = '../../datasets/custom_worldmap_geo.json'\n",
    "\n",
    "m = folium.Map(location=[43, -8.20],zoom_start=2, width=800, height=600)\n",
    "\n",
    "\n",
    "folium.Choropleth(\n",
    "    geo_data=worldmap,\n",
    "    name=\"choropleth\",\n",
    "    data=covid_paises,\n",
    "    columns=[\"name\", \"today_confirmed\"],\n",
    "    key_on=\"feature.properties.admin\",\n",
    "    fill_color=\"YlGn\",\n",
    "    fill_opacity=0.7,\n",
    "    line_opacity=0.2,\n",
    "    legend_name=\"Contaxios Covid\",\n",
    ").add_to(m)\n",
    "\n",
    "for idx, capital in capitais.iterrows():\n",
    "    folium.Circle([capital.latitude,capital.longitude],tooltip=(f'{capital.capital} ({capital.country})')).add_to(m)\n",
    "\n",
    "folium.LayerControl().add_to(m)\n",
    "\n",
    "m"
   ]
  },
  {
   "cell_type": "code",
   "execution_count": null,
   "metadata": {},
   "outputs": [],
   "source": [
    "# Poderiamos investigar cales foron os países que non cruzaron ben os datos e tentar solucionalo a man...\n",
    "# ou buscar outros datasets que conteñan os mesmos datos\n",
    "\n",
    "worldmap[worldmap.merge(covid_paises,left_on='admin',right_on='name',how='left').id.isnull()]"
   ]
  },
  {
   "cell_type": "code",
   "execution_count": null,
   "metadata": {},
   "outputs": [],
   "source": [
    "# O ideal sería que os nosos datasets utilizasen algunha codificación internacional, de maneira que non tivésemos que utilizar\n",
    "# nomes como campos para relacionar táboas.\n",
    "\n",
    "# Códigos ISO 3166-1  # http://utils.mucattu.com/iso_3166-1.html\n",
    "\n",
    "# No seguinte repositorio podes encontrar información interesante relacionada co tema:\n",
    "# https://github.com/datasets/country-codes"
   ]
  },
  {
   "cell_type": "code",
   "execution_count": null,
   "metadata": {},
   "outputs": [],
   "source": []
  }
 ],
 "metadata": {
  "interpreter": {
   "hash": "93a662753ff0de4be1aefa8180c9c559dc79c0876de88e485d2fedc22390c9e9"
  },
  "kernelspec": {
   "display_name": "Python 3.10.2 ('novo_contorno')",
   "language": "python",
   "name": "python3"
  },
  "language_info": {
   "codemirror_mode": {
    "name": "ipython",
    "version": 3
   },
   "file_extension": ".py",
   "mimetype": "text/x-python",
   "name": "python",
   "nbconvert_exporter": "python",
   "pygments_lexer": "ipython3",
   "version": "3.10.2"
  },
  "orig_nbformat": 4
 },
 "nbformat": 4,
 "nbformat_minor": 2
}
