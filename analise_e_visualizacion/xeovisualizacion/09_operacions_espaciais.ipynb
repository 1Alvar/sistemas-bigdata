{
 "cells": [
  {
   "cell_type": "markdown",
   "metadata": {},
   "source": [
    "### Operacións Espaciais\n",
    "\n",
    "Mais alá dun título tan inspirador con operacións espaciais referímonos a operacións que podemos facer cos datos xeoreferenciados. Neste caso interésanos centrarnos en operacións que relacionan diferentes datasets.\n",
    "\n",
    "Dun xeito similar ao 'join' que usamos con dataframes, podemos usar 'sjoin' para realizar operación espaciais de join.\n",
    "https://geopandas.org/en/stable/docs/reference/api/geopandas.sjoin.html\n",
    "\n",
    "Para afondar nos diferentes tipos de operacións espaciais podes consultar a seguinte páxina:\n",
    "https://geopandas.org/en/stable/docs/user_guide/mergingdata.html"
   ]
  },
  {
   "cell_type": "code",
   "execution_count": null,
   "metadata": {},
   "outputs": [],
   "source": [
    "# Exemplo na documentación oficial\n",
    "# Cruzamos un geodataframe de países con outro de cidades\n",
    "# Os dataframes inclúense como exemplos na instalación de Geopandas"
   ]
  },
  {
   "cell_type": "code",
   "execution_count": null,
   "metadata": {},
   "outputs": [],
   "source": [
    "import geopandas as gpd"
   ]
  },
  {
   "cell_type": "code",
   "execution_count": null,
   "metadata": {},
   "outputs": [],
   "source": [
    "countries = gpd.read_file(gpd.datasets.get_path(\"naturalearth_lowres\"))\n",
    "cities = gpd.read_file(gpd.datasets.get_path(\"naturalearth_cities\"))\n",
    "# é importante que crucemos dataframes co mesmo CRS\n",
    "print(f'CRS Paises: {countries.crs}')\n",
    "print(f'CRS cidades: {cities.crs}')"
   ]
  },
  {
   "cell_type": "code",
   "execution_count": null,
   "metadata": {},
   "outputs": [],
   "source": [
    "countries.head(2)"
   ]
  },
  {
   "cell_type": "code",
   "execution_count": null,
   "metadata": {},
   "outputs": [],
   "source": [
    "cities.head(2)"
   ]
  },
  {
   "cell_type": "code",
   "execution_count": null,
   "metadata": {},
   "outputs": [],
   "source": [
    "# Engadimos ás cidades a información do país ao que pertencen\n",
    "cities_w_country_data = gpd.sjoin(cities, countries)\n",
    "cities_w_country_data.head(2)"
   ]
  },
  {
   "cell_type": "code",
   "execution_count": null,
   "metadata": {},
   "outputs": [],
   "source": [
    "# Outro exemplo con datasets coñecidos: concellos + estacións de ferrocarril\n",
    "# https://www.sergas.es/Saude-publica/GIS-Cartografia-Galicia-formato-vectorial-SHP"
   ]
  },
  {
   "cell_type": "code",
   "execution_count": null,
   "metadata": {},
   "outputs": [],
   "source": [
    "import geopandas as gpd"
   ]
  },
  {
   "cell_type": "code",
   "execution_count": null,
   "metadata": {},
   "outputs": [],
   "source": [
    "# GeoDataFrame dos concellos\n",
    "df_concellos = gpd.read_file('../../datasets/Concellos/Concellos_IGN.shp')\n",
    "df_concellos.head(2)"
   ]
  },
  {
   "cell_type": "code",
   "execution_count": null,
   "metadata": {},
   "outputs": [],
   "source": [
    "# GeoDataFrame das Estacións\n",
    "df_estacions = gpd.read_file('../../datasets/Ferrocarril/ESTACION_FFCC.shp')\n",
    "df_estacions.head(2)"
   ]
  },
  {
   "cell_type": "code",
   "execution_count": null,
   "metadata": {},
   "outputs": [],
   "source": [
    "# Comprobo que se trata do mesmo CRS\n",
    "print(f'CRS Concellos: {df_concellos.crs}')\n",
    "print(f'CRS Estacións: {df_estacions.crs}')"
   ]
  },
  {
   "cell_type": "code",
   "execution_count": null,
   "metadata": {},
   "outputs": [],
   "source": [
    "# Engado a cada estación os datos do concello onde se encontra\n",
    "estacions_con_datos_de_concello = gpd.sjoin(df_estacions,df_concellos)\n",
    "estacions_con_datos_de_concello.head(2)"
   ]
  },
  {
   "cell_type": "code",
   "execution_count": null,
   "metadata": {},
   "outputs": [],
   "source": [
    "# Engado ao concello os datos da estación\n",
    "concellos_con_estacion = gpd.sjoin(df_concellos,df_estacions)\n",
    "concellos_con_estacion.head(2)"
   ]
  },
  {
   "cell_type": "code",
   "execution_count": null,
   "metadata": {},
   "outputs": [],
   "source": [
    "# Un resultado interesante é que obtiven unicamente concellos con estacións, o que me pode interesar para pintar nun mapa\n",
    "concellos_con_estacion.plot()"
   ]
  },
  {
   "cell_type": "code",
   "execution_count": null,
   "metadata": {},
   "outputs": [],
   "source": [
    "# Representamos os todos os concellos xunto os que teñen estacións\n",
    "base = df_concellos.plot(color='lightgray',figsize=(20,20))\n",
    "concellos_con_estacion.plot(ax=base)"
   ]
  },
  {
   "cell_type": "code",
   "execution_count": null,
   "metadata": {},
   "outputs": [],
   "source": []
  }
 ],
 "metadata": {
  "interpreter": {
   "hash": "93a662753ff0de4be1aefa8180c9c559dc79c0876de88e485d2fedc22390c9e9"
  },
  "kernelspec": {
   "display_name": "Python 3.10.2 ('novo_contorno')",
   "language": "python",
   "name": "python3"
  },
  "language_info": {
   "codemirror_mode": {
    "name": "ipython",
    "version": 3
   },
   "file_extension": ".py",
   "mimetype": "text/x-python",
   "name": "python",
   "nbconvert_exporter": "python",
   "pygments_lexer": "ipython3",
   "version": "3.10.2"
  },
  "orig_nbformat": 4
 },
 "nbformat": 4,
 "nbformat_minor": 2
}
