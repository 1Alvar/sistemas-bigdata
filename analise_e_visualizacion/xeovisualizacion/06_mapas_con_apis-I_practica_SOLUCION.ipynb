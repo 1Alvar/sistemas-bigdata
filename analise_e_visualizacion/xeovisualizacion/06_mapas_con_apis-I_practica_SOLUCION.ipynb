{
 "cells": [
  {
   "cell_type": "markdown",
   "metadata": {},
   "source": [
    "**Citybikes** é un proxecto con perspectiva OpenData que proporciona información de servizos de bike-sharing en cidades de todo o mundo. Os datos poden reutilizarse para aplicacións, investigación ou outros proxectos.\n",
    "\n",
    "Podes acceder á páxina do proxecto no seguinte enderezo: https://citybik.es/\n",
    "\n",
    "Pero o que máis nos interesa está aquí, na súa API: **CityBikes API**: http://api.citybik.es/v2/"
   ]
  },
  {
   "cell_type": "markdown",
   "metadata": {},
   "source": [
    "**Exercicio 1**\n",
    "\n",
    "Utiliza a API de CityBikes para obter os datos necesarios para pintar un mapa dos servizos de BikeSharing no Estado español"
   ]
  },
  {
   "cell_type": "code",
   "execution_count": null,
   "metadata": {},
   "outputs": [],
   "source": [
    "import requests\n",
    "import pandas as pd\n"
   ]
  },
  {
   "cell_type": "code",
   "execution_count": null,
   "metadata": {},
   "outputs": [],
   "source": [
    "url = 'http://api.citybik.es/v2/networks'\n",
    "response = requests.get(url)"
   ]
  },
  {
   "cell_type": "code",
   "execution_count": null,
   "metadata": {},
   "outputs": [],
   "source": [
    "response.json()"
   ]
  },
  {
   "cell_type": "code",
   "execution_count": null,
   "metadata": {},
   "outputs": [],
   "source": [
    "lista_servizos = []\n",
    "for item in response.json()['networks']:\n",
    "    if (item['location']['country']=='ES'):\n",
    "        servizo = item['id']\n",
    "        cidade = item['location']['city']\n",
    "        latitude = item['location']['latitude']\n",
    "        lonxitude = item['location']['longitude']\n",
    "        lista_servizos.append([servizo,cidade,latitude,lonxitude])\n",
    "servizos = pd.DataFrame(lista_servizos,columns=['servizo','cidade','latitude','lonxitude'])\n",
    "servizos"
   ]
  },
  {
   "cell_type": "code",
   "execution_count": null,
   "metadata": {},
   "outputs": [],
   "source": [
    "import folium\n",
    "\n",
    "m = folium.Map(location=[40,-5],zoom_start=6)\n",
    "\n",
    "for idx, cidade in servizos.iterrows():    \n",
    "    folium.Marker([cidade.latitude,cidade.lonxitude],popup=(f'{cidade.servizo} ({cidade.cidade})'),icon=folium.Icon(color='green',icon='bicycle', prefix='fa')).add_to(m)\n",
    "\n",
    "m"
   ]
  },
  {
   "cell_type": "markdown",
   "metadata": {},
   "source": [
    "Info sobre iconos:\n",
    "- Default: glyphicon icons de Bootstrap: https://getbootstrap.com/docs/3.3/components/\n",
    "- Fontawesome: https://fontawesome.com/icons?d=gallery , utilizando: prefix='fa'"
   ]
  },
  {
   "cell_type": "markdown",
   "metadata": {},
   "source": [
    "**Exercicio 2**\n",
    "\n",
    "Utiliza a API de CityBikes e pinta un mapa das estacións de bike-sharing da cidade da Coruña"
   ]
  },
  {
   "cell_type": "code",
   "execution_count": null,
   "metadata": {},
   "outputs": [],
   "source": [
    "import requests\n",
    "import folium\n",
    "\n",
    "url = 'http://api.citybik.es/v2/networks/bicicorunha'\n",
    "response = requests.get(url)\n",
    "response.json()\n",
    "\n",
    "\n",
    "m = folium.Map(location=[43.36,-8.40],zoom_start=13)\n",
    "\n",
    "for estacion in response.json()['network']['stations']:\n",
    "    latitude = estacion['latitude']\n",
    "    lonxitude = estacion['longitude']\n",
    "    folium.Marker([latitude,lonxitude],icon=folium.Icon(color='green',icon='bicycle', prefix='fa')).add_to(m)\n",
    "m"
   ]
  },
  {
   "cell_type": "code",
   "execution_count": null,
   "metadata": {},
   "outputs": [],
   "source": []
  }
 ],
 "metadata": {
  "interpreter": {
   "hash": "93a662753ff0de4be1aefa8180c9c559dc79c0876de88e485d2fedc22390c9e9"
  },
  "kernelspec": {
   "display_name": "Python 3.10.2 ('novo_contorno')",
   "language": "python",
   "name": "python3"
  },
  "language_info": {
   "codemirror_mode": {
    "name": "ipython",
    "version": 3
   },
   "file_extension": ".py",
   "mimetype": "text/x-python",
   "name": "python",
   "nbconvert_exporter": "python",
   "pygments_lexer": "ipython3",
   "version": "3.10.2"
  },
  "orig_nbformat": 4
 },
 "nbformat": 4,
 "nbformat_minor": 2
}
