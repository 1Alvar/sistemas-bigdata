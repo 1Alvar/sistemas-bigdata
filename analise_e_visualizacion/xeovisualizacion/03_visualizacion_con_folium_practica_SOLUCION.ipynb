{
 "cells": [
  {
   "cell_type": "markdown",
   "metadata": {},
   "source": [
    "**Mapas con folium e dataframes**"
   ]
  },
  {
   "cell_type": "code",
   "execution_count": null,
   "metadata": {},
   "outputs": [],
   "source": [
    "# Carga datos de marcas desde un ficheiro e píntaas sobre un mapa\n",
    "\n",
    "# Rede de bibliotecas de Galicia\n",
    "# Descarga os datos das bibliotecas da rede de bibliotecas de Galicia do porta openData da Xunta\n",
    "# https://abertos.xunta.gal/catalogo/cultura-ocio-deporte/-/dataset/0230/rede-bibliotecas-galicia\n",
    "\n",
    "# Nota: Lembra que tes que engadir as marcas ao mapa unha a unha.\n"
   ]
  },
  {
   "cell_type": "code",
   "execution_count": null,
   "metadata": {},
   "outputs": [],
   "source": [
    "import pandas as pd\n",
    "import folium"
   ]
  },
  {
   "cell_type": "code",
   "execution_count": null,
   "metadata": {},
   "outputs": [],
   "source": [
    "bibliotecas = pd.read_csv('https://abertos.xunta.gal/catalogo/cultura-ocio-deporte/-/dataset/0230/rede-bibliotecas-galicia/001/descarga-directa-ficheiro.csv',sep=';')\n",
    "bibliotecas.head()"
   ]
  },
  {
   "cell_type": "code",
   "execution_count": null,
   "metadata": {},
   "outputs": [],
   "source": [
    "# Os datos máis importantes que vamos utilizar son os das coordenadas, polo que hai que\n",
    "# asegurarse de que os datos están limpos e van funcionar\n",
    "\n",
    "# Algúns problemas que nos podemos encontrar son:\n",
    "# - valores nulos\n",
    "# - espazos en branco\n",
    "# - valores mal codificados\n",
    "# - valores erróneos\n",
    "# - columnas desprazadas\n",
    "\n",
    "# En función do problema e dos nosos obxecitivos poderemos:\n",
    "# - corrixir os datos\n",
    "# - limpar os datos\n",
    "# - eliminar as filas\n",
    "# - etc..."
   ]
  },
  {
   "cell_type": "code",
   "execution_count": null,
   "metadata": {},
   "outputs": [],
   "source": [
    "# Encontramos valores nulos\n",
    "bibliotecas[bibliotecas.COORDENADAS.isnull()]\n",
    "# Poderiamos eliminar a liña, xa que é unha sóa, ou buscar os datos\n",
    "# bibliotecas.drop(index= bibliotecas[bibliotecas.COORDENADAS.isnull()].index, inplace=True)\n",
    "# bibliotecas.reset_index(drop=True,inplace=True)"
   ]
  },
  {
   "cell_type": "code",
   "execution_count": null,
   "metadata": {},
   "outputs": [],
   "source": [
    "# Neste caso encontrámonos con diferentes problemas que dificultarían o noso traballo:\n",
    "# - hai espazos en branco entre as coordenadas\n",
    "# - hai valores erróneos\n",
    "# - etccc"
   ]
  },
  {
   "cell_type": "code",
   "execution_count": null,
   "metadata": {},
   "outputs": [],
   "source": [
    "bibliotecas[bibliotecas['COORDENADAS'].str.match(r'^[0-9]+\\.[0-9]+\\,[+\\-]*[0-9]+\\.[0-9]+$')==False]"
   ]
  },
  {
   "cell_type": "code",
   "execution_count": null,
   "metadata": {},
   "outputs": [],
   "source": [
    "# Unha moi boa solución para o caso das coordenadas, e tamén para moitos outros, é utilizar EXPRESIÓNS REGULARES\n",
    "# Utilizando expresións regulares podemos indicar como queremos que sexan os datos exactamente\n",
    "\n",
    "# Creamos un novo dataframe SÓ COAS COORDENADAS CORRECTAS\n",
    "biblios = bibliotecas[bibliotecas['COORDENADAS'].str.match(r'^[0-9]+\\.[0-9]+\\,[+\\-]*[0-9]+\\.[0-9]+$')==True].copy()"
   ]
  },
  {
   "cell_type": "code",
   "execution_count": null,
   "metadata": {},
   "outputs": [],
   "source": [
    "m = folium.Map(location=[43, -8.20],zoom_start=8, width=600, height=600)\n",
    "\n",
    "for index, biblioteca in biblios.iterrows():\n",
    "    folium.Marker([biblioteca['COORDENADAS'].split(',')[0], biblioteca['COORDENADAS'].split(',')[1]]).add_to(m)\n",
    "    #folium.Marker([biblioteca['COORDENADAS'].split(',')[0], biblioteca['COORDENADAS'].split(',')[1]],popup=biblioteca['NOME']).add_to(m)\n",
    "    #folium.Marker([biblioteca['COORDENADAS'].split(',')[0], biblioteca['COORDENADAS'].split(',')[1]],popup=biblioteca['NOME'],icon=folium.Icon(icon='book')).add_to(m)\n",
    "m"
   ]
  },
  {
   "cell_type": "code",
   "execution_count": null,
   "metadata": {},
   "outputs": [],
   "source": [
    "len(bibliotecas)"
   ]
  },
  {
   "cell_type": "markdown",
   "metadata": {},
   "source": [
    "**Clústers de marcas**\n",
    "\n",
    "Cando temos moitas marcas nun territorio pode ser interesante utilizar clústers."
   ]
  },
  {
   "cell_type": "code",
   "execution_count": null,
   "metadata": {},
   "outputs": [],
   "source": [
    "# A diferenza que nun mapa \"standar\", nesta ocasión creamos un clúster e engadímolo ao mapa\n",
    "# A continuación engadimos as marcas ao clúster, en lugar de engadilo ao mapa\n",
    "\n",
    "m = folium.Map(location=[43, -8.20],zoom_start=8, width=600, height=600)\n",
    "\n",
    "marker_cluster = folium.plugins.MarkerCluster().add_to(m)\n",
    "\n",
    "for index, biblioteca in biblios.iterrows():\n",
    "    folium.Marker([biblioteca['COORDENADAS'].split(',')[0], biblioteca['COORDENADAS'].split(',')[1]],popup=biblioteca['NOME'],icon=folium.Icon(icon='book')).add_to(marker_cluster)\n",
    "\n",
    "m"
   ]
  },
  {
   "cell_type": "markdown",
   "metadata": {},
   "source": [
    "**Ficheiros KMZ/KML**"
   ]
  },
  {
   "cell_type": "code",
   "execution_count": null,
   "metadata": {},
   "outputs": [],
   "source": [
    "# No portal ABERTOS da Xunta tamén encontramos os datos en formato KML\n",
    "# https://abertos.xunta.gal/catalogo/cultura-ocio-deporte/-/dataset/0230/rede-bibliotecas-galicia\n",
    "\n",
    "# Ficheiros KMZ e KML\n",
    "# Trátase de formatos popularizados por Google (Earth/Maps) para representar información xeográfica\n",
    "# KML é un ficheiro XML\n",
    "# KMZ é un ficheiroz ZIP onde nos encontramos un doc.kml e outros ficheiros con información extra\n",
    "\n",
    "# Os campos interesantes para nós nos ficheiros KML son:\n",
    "# <Placemark>\n",
    "#   <name>\n",
    "#   <Location>\n",
    "#       <longitude>\n",
    "#       <latitude>"
   ]
  },
  {
   "cell_type": "code",
   "execution_count": null,
   "metadata": {},
   "outputs": [],
   "source": [
    "# Ao tratarse de ficheiros XML podemos parsealos con Beautifulsoup\n",
    "# Ficheiro KML\n",
    "url = 'https://abertos.xunta.gal/catalogo/cultura-ocio-deporte/-/dataset/0230/rede-bibliotecas-galicia/002/descarga-directa-ficheiro.kml'\n",
    "\n",
    "import requests\n",
    "import lxml # Pode ser necesario instalar o parser xml\n",
    "from bs4 import BeautifulSoup\n",
    "\n",
    "response = requests.get(url)\n",
    "#print(response.text)\n",
    "soup = BeautifulSoup(response.content,'lxml')"
   ]
  },
  {
   "cell_type": "code",
   "execution_count": null,
   "metadata": {},
   "outputs": [],
   "source": [
    "# A información de cada biblioteca está nun único \"placemark\"\n",
    "# Creamos unha lista de todas as bibliotecas\n",
    "bibliotecas = soup.find_all('placemark')\n",
    "len(bibliotecas)"
   ]
  },
  {
   "cell_type": "code",
   "execution_count": null,
   "metadata": {},
   "outputs": [],
   "source": [
    "# Visualizamos unha biblioteca\n",
    "bibliotecas[0]"
   ]
  },
  {
   "cell_type": "code",
   "execution_count": null,
   "metadata": {},
   "outputs": [],
   "source": [
    "# vemos que as coordenadas están \"ao revés\" do que espera folium (lonxitude,latitude)\n",
    "bibliotecas[0].find('coordinates').text"
   ]
  },
  {
   "cell_type": "code",
   "execution_count": null,
   "metadata": {},
   "outputs": [],
   "source": [
    "for biblioteca in bibliotecas:\n",
    "    print(biblioteca.find('name').text)\n",
    "    print(biblioteca.find('coordinates').text)"
   ]
  },
  {
   "cell_type": "code",
   "execution_count": null,
   "metadata": {},
   "outputs": [],
   "source": [
    "# No KML tamén pode haber erros nas coordenadas\n",
    "# Poderíamos construír un dataframe cos datos e pintar o mapa do mesmo xeito que antes\n",
    "# Tamén podemos iterar os datos e ir pintando o mapa\n",
    "# En lugar de utilizar a función \"match\" de pandas.series usaremos a función search do módulo 're'\n",
    "import re\n",
    "\n",
    "m = folium.Map(location=[43, -8.20],zoom_start=8, width=600, height=600)\n",
    "\n",
    "#^[0-9]+\\.[0-9]+\\,[+\\-]*[0-9]+\\.[0-9]+$\n",
    "\n",
    "for biblioteca in bibliotecas:\n",
    "    if (re.search('^[+\\-]*[0-9]+\\.[0-9]+\\,[0-9]+\\.[0-9]+$',biblioteca.find('coordinates').text)):\n",
    "        folium.Marker([biblioteca.find('coordinates').text.split(',')[1], biblioteca.find('coordinates').text.split(',')[0]]).add_to(m)        \n",
    "m"
   ]
  },
  {
   "cell_type": "code",
   "execution_count": null,
   "metadata": {},
   "outputs": [],
   "source": []
  }
 ],
 "metadata": {
  "interpreter": {
   "hash": "93a662753ff0de4be1aefa8180c9c559dc79c0876de88e485d2fedc22390c9e9"
  },
  "kernelspec": {
   "display_name": "Python 3.10.2 ('novo_contorno')",
   "language": "python",
   "name": "python3"
  },
  "language_info": {
   "codemirror_mode": {
    "name": "ipython",
    "version": 3
   },
   "file_extension": ".py",
   "mimetype": "text/x-python",
   "name": "python",
   "nbconvert_exporter": "python",
   "pygments_lexer": "ipython3",
   "version": "3.10.2"
  },
  "orig_nbformat": 4
 },
 "nbformat": 4,
 "nbformat_minor": 2
}
