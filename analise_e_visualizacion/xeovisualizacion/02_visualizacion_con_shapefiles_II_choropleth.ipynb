{
 "cells": [
  {
   "cell_type": "markdown",
   "metadata": {},
   "source": [
    "### Mapas coropléticos (*Choropleth Maps*)\n",
    "\n",
    "Nos mapas coropléticos as diferentes áreas están coloreadas ou representadas con diferentes esquemas en relación a certos valores estatísticos asociados a elas."
   ]
  },
  {
   "cell_type": "markdown",
   "metadata": {},
   "source": [
    "O primeiro mapa \"mapa coropleth\", coñecido foi creado en 1826 polo barón Pierre Charles Dupin, que mostra a dispoñibilidade de educación básica en Francia por departamentos. \n",
    "\n",
    "Mais abaixo podes ver un dos primeiros mapas de Charles Dupin.\n",
    "\n",
    "Fonte: https://gl.wikipedia.org/wiki/Mapa_coropl%C3%A9tico "
   ]
  },
  {
   "cell_type": "code",
   "execution_count": null,
   "metadata": {},
   "outputs": [],
   "source": [
    "from IPython import display \n",
    "display.Image(url=\"https://upload.wikimedia.org/wikipedia/commons/5/52/Carte_de_France_des_crimes_contres_les_personnes.jpg\", width=400, height=400)"
   ]
  },
  {
   "cell_type": "markdown",
   "metadata": {},
   "source": [
    "Este notebook está baseado nun titorial de M.Rake Linggar, publicado en TDS [(enlace)](#https://towardsdatascience.com/a-beginners-guide-to-create-a-cloropleth-map-in-python-using-geopandas-and-matplotlib-9cc4175ab630)"
   ]
  },
  {
   "cell_type": "markdown",
   "metadata": {},
   "source": [
    "Neste notebook farase un mapa coroplético que represente o número de cidadades e rexións en cada provincia de Indonesia. \n",
    "\n",
    "Utilizaranse dúas fontes de datos:\n",
    "- Información xeográfica sobre o territorio de Indonesia (Shapefile)\n",
    "- Información sobre as provincias de Indonesia (scrapping desde a [Wikipedia](#https://en.wikipedia.org/wiki/Provinces_of_Indonesia))"
   ]
  },
  {
   "cell_type": "code",
   "execution_count": null,
   "metadata": {},
   "outputs": [],
   "source": [
    "# Importar as librarías necesarias\n",
    "import pandas as pd\n",
    "import numpy as np\n",
    "import geopandas as gpd\n",
    "import matplotlib.pyplot as plt"
   ]
  },
  {
   "cell_type": "code",
   "execution_count": null,
   "metadata": {},
   "outputs": [],
   "source": [
    "# Cargamos os datos do mapa e comprobamos os datos\n",
    "fp = \"../../datasets/choropleth/IDN_adm/IDN_adm1.shp\"\n",
    "map_df = gpd.read_file(fp)\n",
    "map_df.head()"
   ]
  },
  {
   "cell_type": "code",
   "execution_count": null,
   "metadata": {},
   "outputs": [],
   "source": [
    "# Pintamos o mapa directamente desde o dataframe\n",
    "map_df.plot(figsize=(15,30))"
   ]
  },
  {
   "cell_type": "code",
   "execution_count": null,
   "metadata": {},
   "outputs": [],
   "source": [
    "# Cargamos os datos das provincias\n",
    "province = pd.read_csv(\"../../datasets/choropleth/data_province.csv\", sep=\";\")\n",
    "province.head()"
   ]
  },
  {
   "cell_type": "code",
   "execution_count": null,
   "metadata": {},
   "outputs": [],
   "source": [
    "# Podemos comprobar se ambos os dataframes teñen o mesmo número de filas\n",
    "rmap, cmap = map_df.shape\n",
    "rpro, cpro = province.shape\n",
    "print(f'Filas do mapa: {rmap}')\n",
    "print(f'Filas en provincias: {rpro}')"
   ]
  },
  {
   "cell_type": "code",
   "execution_count": null,
   "metadata": {},
   "outputs": [],
   "source": [
    "# Para representar os datos sobre o mapa debemos crear un único dataframe\n",
    "\n",
    "# Podemos facer un merge dun dataframe e un geodataframe ;-)\n",
    "\n",
    "merged = map_df.merge(province, how='left', left_on=\"NAME_1\", right_on=\"province\")\n",
    "merged = merged[['province', 'geometry', 'population_2015', 'area_km2', 'population_density_per_km2', \\\n",
    "                'cities_regencies', 'cities', 'regencies']]\n",
    "\n",
    "merged.head()"
   ]
  },
  {
   "cell_type": "code",
   "execution_count": null,
   "metadata": {},
   "outputs": [],
   "source": [
    "# Indicamos a variable que queremos representar\n",
    "variable = 'cities_regencies'\n",
    "\n",
    "# Fixamos o rango que tomarán os valores\n",
    "vmin, vmax = 0, 50\n",
    "\n",
    "# Definimos a figura para o gráfico\n",
    "\n",
    "# A 'figura' é como o 'contedor' onde vamos pintar unha ou varias gráficas\n",
    "# Cada gráfica pode ter os seus propios eixos (axes) ou poden compartilos\n",
    "\n",
    "fig, ax = plt.subplots(1, figsize=(30, 10))\n",
    "\n",
    "# Non pintamos os eixos\n",
    "ax.axis('off')\n",
    "\n",
    "# Engadimos un título\n",
    "ax.set_title('Número de cidades e rexións', fontdict={'fontsize': '25', 'fontweight' : '3'})\n",
    "\n",
    "# Lenda: barra\n",
    "sm = plt.cm.ScalarMappable(cmap='Blues', norm=plt.Normalize(vmin=vmin, vmax=vmax))\n",
    "\n",
    "# empty array for the data range\n",
    "sm.set_array([]) # or alternatively sm._A = []. Not sure why this step is necessary, but many recommends it\n",
    "\n",
    "# Engadir a barra á figura\n",
    "fig.colorbar(sm)\n",
    "\n",
    "# Crear mapa\n",
    "merged.plot(column=variable, cmap='Blues', linewidth=0.8, ax=ax, edgecolor='0.8')\n",
    " "
   ]
  },
  {
   "cell_type": "code",
   "execution_count": null,
   "metadata": {},
   "outputs": [],
   "source": [
    "# Podemos facer algunhas variacións sobre o mapa:\n",
    "# - engadir os nomes das provincias\n",
    "# - engadir unha nota sobre a fonte dos datos\n",
    "# - mudar a barra a posición horizontal"
   ]
  },
  {
   "cell_type": "code",
   "execution_count": null,
   "metadata": {},
   "outputs": [],
   "source": [
    "variable = 'cities_regencies'\n",
    "vmin, vmax = 0, 50\n",
    "fig, ax = plt.subplots(1, figsize=(30, 10))\n",
    "ax.axis('off')\n",
    "ax.set_title('Número de cidades e rexións', fontdict={'fontsize': '25', 'fontweight' : '3'})\n",
    "\n",
    "# Engadir unha nota ao pé \n",
    "ax.annotate('Fonte: Wikipedia - https://en.wikipedia.org/wiki/Provinces_of_Indonesia',xy=(0.2, .05),  \\\n",
    "            xycoords='figure fraction', fontsize=12, \\\n",
    "            color='#555555')\n",
    "\n",
    "# Lenda: barra\n",
    "sm = plt.cm.ScalarMappable(cmap='Blues', norm=plt.Normalize(vmin=vmin, vmax=vmax))\n",
    "sm.set_array([])\n",
    "fig.colorbar(sm, orientation=\"horizontal\", fraction=0.036, pad=0.1, aspect = 30)\n",
    "\n",
    "# Pintar a gráfica\n",
    "merged.plot(column=variable, cmap='Blues', linewidth=0.8, ax=ax, edgecolor='0.8')\n",
    "\n",
    "# Engadir etiquetas cos nomes das provincias\n",
    "# Primeiro extrae un punto representativo de cada polígono\n",
    "\n",
    "merged['coords'] = merged['geometry'].apply(lambda x: x.representative_point().coords[:])\n",
    "merged['coords'] = [coords[0] for coords in merged['coords']]\n",
    "\n",
    "# Itera as liñas do dataset e vai engadindo as etiquetas co nome da provincia\n",
    "for idx, row in merged.iterrows():\n",
    "    plt.annotate(row['province'], xy=row['coords'],horizontalalignment='center')"
   ]
  },
  {
   "cell_type": "code",
   "execution_count": null,
   "metadata": {},
   "outputs": [],
   "source": [
    "# Podemos salvar a figura resultante a un ficheiro\n",
    "fig.savefig('mapa_indonesia.png', dpi=300)"
   ]
  },
  {
   "cell_type": "code",
   "execution_count": null,
   "metadata": {},
   "outputs": [],
   "source": [
    "# O Dataframe ten outras variables coas que poderiamos pintar o mapa\n",
    "merged.head(3)"
   ]
  },
  {
   "cell_type": "code",
   "execution_count": null,
   "metadata": {},
   "outputs": [],
   "source": [
    "# Pinta un mapa segundo número de cidades\n",
    "# - Cambia o esquema de cores #https://matplotlib.org/stable/tutorials/colors/colormaps.html\n",
    "# - Cambia o título\n",
    "# - Ollo ao rango de valores"
   ]
  },
  {
   "cell_type": "code",
   "execution_count": null,
   "metadata": {},
   "outputs": [],
   "source": []
  },
  {
   "cell_type": "code",
   "execution_count": null,
   "metadata": {},
   "outputs": [],
   "source": [
    "# Pinta un mapa segundo número a densidade de poboación\n",
    "# - Cambia o esquema de cores\n",
    "# - Cambia o título"
   ]
  },
  {
   "cell_type": "code",
   "execution_count": null,
   "metadata": {},
   "outputs": [],
   "source": []
  }
 ],
 "metadata": {
  "kernelspec": {
   "display_name": "Python 3",
   "language": "python",
   "name": "python3"
  },
  "language_info": {
   "codemirror_mode": {
    "name": "ipython",
    "version": 3
   },
   "file_extension": ".py",
   "mimetype": "text/x-python",
   "name": "python",
   "nbconvert_exporter": "python",
   "pygments_lexer": "ipython3",
   "version": "3.10.2"
  }
 },
 "nbformat": 4,
 "nbformat_minor": 2
}
