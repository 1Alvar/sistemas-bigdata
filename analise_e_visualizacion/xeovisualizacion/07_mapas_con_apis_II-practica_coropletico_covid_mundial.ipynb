{
 "cells": [
  {
   "cell_type": "markdown",
   "metadata": {},
   "source": [
    "**Exercicio**\n",
    "\n",
    "Crea un mapa coroplético mundial atendendo aos datos covid de infeccións nunha data determinada. Mostra dalgún xeito os nomes das capitais dos países (etiqueta, popup, ...)\n",
    "\n",
    "Utiliza as seguinte fontes de datos:\n",
    "- Mapa en formato GeoJSON: https://geojson-maps.ash.ms/\n",
    "- Datos covid: Narrativa Covid-19 tracking project: https://covid19tracking.narrativa.com/index_en.html \n",
    "- Capitais de provincias: CSV: https://github.com/reganjohn/BHI/blob/master/topology/country-capitals.csv\n",
    "\n",
    "Extra: Despois de identificar os problemas destas fontes de datos e pintar o mapa, tenta facer unha segunda versión mellorada utilizando outras fontes de datos\n"
   ]
  },
  {
   "cell_type": "code",
   "execution_count": null,
   "metadata": {},
   "outputs": [],
   "source": []
  }
 ],
 "metadata": {
  "interpreter": {
   "hash": "93a662753ff0de4be1aefa8180c9c559dc79c0876de88e485d2fedc22390c9e9"
  },
  "kernelspec": {
   "display_name": "Python 3.10.2 ('novo_contorno')",
   "language": "python",
   "name": "python3"
  },
  "language_info": {
   "codemirror_mode": {
    "name": "ipython",
    "version": 3
   },
   "file_extension": ".py",
   "mimetype": "text/x-python",
   "name": "python",
   "nbconvert_exporter": "python",
   "pygments_lexer": "ipython3",
   "version": "3.10.2"
  },
  "orig_nbformat": 4
 },
 "nbformat": 4,
 "nbformat_minor": 2
}
