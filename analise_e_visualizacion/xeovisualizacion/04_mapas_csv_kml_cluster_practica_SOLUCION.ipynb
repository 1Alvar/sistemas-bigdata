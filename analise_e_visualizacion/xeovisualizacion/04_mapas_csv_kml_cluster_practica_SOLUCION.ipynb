{
 "cells": [
  {
   "cell_type": "markdown",
   "metadata": {},
   "source": [
    "**Mapas multicapa, clúster de marcas, ...**"
   ]
  },
  {
   "cell_type": "code",
   "execution_count": null,
   "metadata": {},
   "outputs": [],
   "source": [
    "# Pinta un mapa de Galicia con varias capas\n",
    "# Fondo tile map seleccionable: mínimo 3 capas\n",
    "# Límites comarcais (mapas do servizo cartográfico (sergas))\n",
    "# Marcas coas praias con bandeira azul en 2021 (portal \"@bertos\") + popup: nome da praia\n",
    "\n",
    "# 1. Fai un primeiro mapa utilizando os datos desde o ficheiro CSV (para as praias) (sen clúster de marcas) \n",
    "# 2. Fai un segundo mapa utilizando os datos desde o ficheiro KML  (para as praias) (con clúster de marcas) "
   ]
  },
  {
   "cell_type": "code",
   "execution_count": null,
   "metadata": {},
   "outputs": [],
   "source": [
    "import geopandas as gpd\n",
    "import pandas as pd\n",
    "import folium"
   ]
  },
  {
   "cell_type": "code",
   "execution_count": null,
   "metadata": {},
   "outputs": [],
   "source": [
    "# Ficheiros Shp da Xunta\n",
    "#'https://www.sergas.es/Saude-publica/GIS-Comarcas'\n",
    "\n",
    "filepath = '../../datasets/Comarcas/Comarcas.shp'\n",
    "comarcas = gpd.read_file(filepath)"
   ]
  },
  {
   "cell_type": "code",
   "execution_count": null,
   "metadata": {},
   "outputs": [],
   "source": [
    "# Ficheiro CSV con praias de bandeira azul\n",
    "# https://abertos.xunta.gal/catalogo/cultura-ocio-deporte/-/dataset/0438/praias-galegas-con-bandeira-azul-2021\n",
    "url = 'https://abertos.xunta.gal/catalogo/cultura-ocio-deporte/-/dataset/0438/praias-galegas-con-bandeira-azul-2021/001/descarga-directa-ficheiro.csv'\n",
    "praiascsv = pd.read_csv(url,encoding='ISO-8859-15',sep=';')\n",
    "praiascsv.head(3)"
   ]
  },
  {
   "cell_type": "code",
   "execution_count": null,
   "metadata": {},
   "outputs": [],
   "source": [
    "# Ollo aos nomes das columnas <- teñen espazos\n",
    "# Isto daríanos problemas á hora de referencialas\n",
    "praiascsv.columns"
   ]
  },
  {
   "cell_type": "code",
   "execution_count": null,
   "metadata": {},
   "outputs": [],
   "source": [
    "# Eliminamos espazos sobrantes ao inicio e final dos nomes\n",
    "praiascsv.columns = praiascsv.columns.str.strip()\n",
    "praiascsv.columns"
   ]
  },
  {
   "cell_type": "code",
   "execution_count": null,
   "metadata": {},
   "outputs": [],
   "source": [
    "m = folium.Map(location=[43, -8.20],zoom_start=8, width=600, height=600)\n",
    "\n",
    "# capa tiles\n",
    "folium.TileLayer('Stamen Terrain').add_to(m)\n",
    "folium.TileLayer('CartoDB Positron').add_to(m)\n",
    "\n",
    "# capa comarcas\n",
    "folium.GeoJson(comarcas, name='Comarcas').add_to(m)\n",
    "\n",
    "# capa praias\n",
    "for index, praia in praiascsv.iterrows():\n",
    "    try:\n",
    "        latitude = praia['COORDENADAS'].split(',')[0]\n",
    "        lonxitude = praia['COORDENADAS'].split(',')[1]\n",
    "        nome = praia['PRAIA']\n",
    "        folium.Marker([latitude,lonxitude],popup=nome).add_to(m)\n",
    "    except:\n",
    "        pass \n",
    "\n",
    "folium.LayerControl().add_to(m)\n",
    "m"
   ]
  },
  {
   "cell_type": "code",
   "execution_count": null,
   "metadata": {},
   "outputs": [],
   "source": []
  },
  {
   "cell_type": "code",
   "execution_count": null,
   "metadata": {},
   "outputs": [],
   "source": [
    "# Ficheiro KML con praias de bandeira azul\n",
    "# https://abertos.xunta.gal/catalogo/cultura-ocio-deporte/-/dataset/0438/praias-galegas-con-bandeira-azul-2021\n",
    "url = 'https://abertos.xunta.gal/catalogo/cultura-ocio-deporte/-/dataset/0438/praias-galegas-con-bandeira-azul-2021/002/descarga-directa-ficheiro.kml'"
   ]
  },
  {
   "cell_type": "code",
   "execution_count": null,
   "metadata": {},
   "outputs": [],
   "source": [
    "import requests\n",
    "import lxml # Pode ser necesario instalar o parser xml\n",
    "from bs4 import BeautifulSoup\n",
    "\n",
    "response = requests.get(url)\n",
    "#print(response.text)\n",
    "soup = BeautifulSoup(response.content,'lxml')\n",
    "\n",
    "praiaskml = soup.find_all('placemark')"
   ]
  },
  {
   "cell_type": "code",
   "execution_count": null,
   "metadata": {},
   "outputs": [],
   "source": [
    "import folium.plugins\n",
    "\n",
    "m = folium.Map(location=[43, -8.20],zoom_start=8, width=600, height=600)\n",
    "\n",
    "# capa tiles\n",
    "folium.TileLayer('Stamen Terrain').add_to(m)\n",
    "folium.TileLayer('CartoDB Positron').add_to(m)\n",
    "\n",
    "# capa comarcas\n",
    "folium.GeoJson(comarcas, name='Comarcas').add_to(m)\n",
    "\n",
    "# clúster\n",
    "marker_cluster = folium.plugins.MarkerCluster().add_to(m)\n",
    "\n",
    "\n",
    "# capa praias\n",
    "for praia in praiaskml:\n",
    "    try:\n",
    "        folium.Marker([praia.find('coordinates').text.split(',')[1], praia.find('coordinates').text.split(',')[0]],popup=praia.find('name').text).add_to(marker_cluster)      \n",
    "    except:\n",
    "        pass\n",
    "m\n",
    "\n",
    "folium.LayerControl().add_to(m)\n",
    "m"
   ]
  },
  {
   "cell_type": "code",
   "execution_count": null,
   "metadata": {},
   "outputs": [],
   "source": []
  }
 ],
 "metadata": {
  "interpreter": {
   "hash": "93a662753ff0de4be1aefa8180c9c559dc79c0876de88e485d2fedc22390c9e9"
  },
  "kernelspec": {
   "display_name": "Python 3.10.2 ('novo_contorno')",
   "language": "python",
   "name": "python3"
  },
  "language_info": {
   "codemirror_mode": {
    "name": "ipython",
    "version": 3
   },
   "file_extension": ".py",
   "mimetype": "text/x-python",
   "name": "python",
   "nbconvert_exporter": "python",
   "pygments_lexer": "ipython3",
   "version": "3.10.2"
  },
  "orig_nbformat": 4
 },
 "nbformat": 4,
 "nbformat_minor": 2
}
