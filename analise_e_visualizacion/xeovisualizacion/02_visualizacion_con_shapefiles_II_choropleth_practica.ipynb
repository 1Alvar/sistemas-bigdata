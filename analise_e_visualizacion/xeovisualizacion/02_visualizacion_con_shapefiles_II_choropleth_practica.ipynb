{
 "cells": [
  {
   "cell_type": "markdown",
   "metadata": {},
   "source": [
    "### Mapas coropléticos (*Choropleth Maps*) - Mapa coroplético de Galicia\n",
    "\n",
    "Pinta diferentes mapas coropléticos de Galicia\n",
    "\n",
    "1. Un mapa coroplético segundo as tamaños/áreas dos concellos\n",
    "2. Un mapa coroplético en función da poboación de cada concello\n",
    "\n",
    "**Notas**:\n",
    "\n",
    "1. Utiliza o Shapefile de Concellos de Galicia que utilizamos noutras ocasións\n",
    "2. Calcula as áreas coas funcións xeométricas dos geodataframes\n",
    "3. Descarga os datos de poboación desde o INE (..y que la fuerza te acompañe.)\n",
    "\n",
    "\n",
    "**INE**: podes descargar os datos de poboación do INE, po exemplo, aquí: https://ine.es/dyngs/INEbase/operacion.htm?c=Estadistica_C&cid=1254736177011&menu=resultados&secc=1254736195458&idp=1254734710990\n",
    "\n",
    "**Wikipedia**: tamén os podes scrappear da Wikipedia: https://gl.wikipedia.org/wiki/Concellos_de_Galicia\n",
    "\n",
    "Ollo! porque terás que cruzar os datos do Shapefile cos datos de poboación"
   ]
  },
  {
   "cell_type": "code",
   "execution_count": null,
   "metadata": {},
   "outputs": [],
   "source": []
  }
 ],
 "metadata": {
  "kernelspec": {
   "display_name": "Python 3",
   "language": "python",
   "name": "python3"
  },
  "language_info": {
   "codemirror_mode": {
    "name": "ipython",
    "version": 3
   },
   "file_extension": ".py",
   "mimetype": "text/x-python",
   "name": "python",
   "nbconvert_exporter": "python",
   "pygments_lexer": "ipython3",
   "version": "3.10.2"
  }
 },
 "nbformat": 4,
 "nbformat_minor": 2
}
