{
 "cells": [
  {
   "cell_type": "markdown",
   "metadata": {},
   "source": [
    "**Choropleth maps**\n",
    "\n",
    "Folium ofrece unha maneira \"sinxela\" de crear \"choropleth maps\" interactivos baseados en web.\n",
    "\n",
    "https://python-visualization.github.io/folium/quickstart.html#Choropleth-maps\n"
   ]
  },
  {
   "cell_type": "code",
   "execution_count": null,
   "metadata": {},
   "outputs": [],
   "source": [
    "import pandas as pd\n",
    "import folium\n",
    "\n",
    "url = (\n",
    "    \"https://raw.githubusercontent.com/python-visualization/folium/master/examples/data\"\n",
    ")\n",
    "state_geo = f\"{url}/us-states.json\"\n",
    "state_unemployment = f\"{url}/US_Unemployment_Oct2012.csv\"\n",
    "state_data = pd.read_csv(state_unemployment)\n",
    "\n",
    "m = folium.Map(location=[48, -102], zoom_start=3)\n",
    "\n",
    "folium.Choropleth(\n",
    "    geo_data=state_geo,\n",
    "    name=\"choropleth\",\n",
    "    data=state_data,\n",
    "    columns=[\"State\", \"Unemployment\"],\n",
    "    key_on=\"feature.id\",\n",
    "    fill_color=\"YlGn\",\n",
    "    fill_opacity=0.7,\n",
    "    line_opacity=0.2,\n",
    "    legend_name=\"Unemployment Rate (%)\",\n",
    ").add_to(m)\n",
    "\n",
    "folium.LayerControl().add_to(m)\n",
    "\n",
    "m\n"
   ]
  },
  {
   "cell_type": "markdown",
   "metadata": {},
   "source": [
    "**Folium** utiliza moito o formato GeoJSON (ou TopoJSON), pois está orientado a crear mapas interactivos para a web.\n",
    "\n",
    "**GeoJSON** es un formato estándar abierto diseñado para representar elementos geográficos sencillos, junto con sus atributos no espaciales, basado en JavaScript Object Notation.​ El formato es ampliamente utilizado en aplicaciones de cartografía en entornos web al permitir el intercambio de datos de manera rápida, ligera y sencilla. \n",
    "\n",
    "El formato GeoJSON difiere de otros estándares SIG en que no está desarrollado y mantenido por una organización oficial, sino que es mantenido por una comunidad de desarrolladores en Internet.\n",
    "\n",
    "Una evolución de este formato es **TopoJSON**, una extensión de GeoJSON que codifica topología geoespacial y que proporciona ficheros de menor tamaño que GeoJson. \n",
    "\n",
    "Fonte: [Wikipedia](https://es.wikipedia.org/wiki/GeoJSON)"
   ]
  },
  {
   "cell_type": "code",
   "execution_count": null,
   "metadata": {},
   "outputs": [],
   "source": [
    "# Geopandas permite crear ficheiros GeoJSON\n",
    "# import geopandas as gpd\n",
    "\n",
    "# Lectura dun ficheiro Shapefile\n",
    "# shp_file = gpd.read_file('path a ficheiro Shapefile')\n",
    "\n",
    "# Transformación a 'EPSG:4326' se é necesario (A Folium \"gústalle\" este CRS)\n",
    "# shp_file = shp_file.to_crs('EPSG:4326')\n",
    "\n",
    "# Escritura de GeoJSON\n",
    "# shp_file.to_file('../../datasets/Concellos/Concellos_IGN.geojson', driver='GeoJSON')"
   ]
  },
  {
   "cell_type": "markdown",
   "metadata": {},
   "source": [
    "**Exercicio**\n",
    "\n",
    "Fai un mapa coroplético interactivo de Galicia, por exemplo sobre a poboación."
   ]
  },
  {
   "cell_type": "markdown",
   "metadata": {},
   "source": []
  }
 ],
 "metadata": {
  "interpreter": {
   "hash": "93a662753ff0de4be1aefa8180c9c559dc79c0876de88e485d2fedc22390c9e9"
  },
  "kernelspec": {
   "display_name": "Python 3.10.2 ('novo_contorno')",
   "language": "python",
   "name": "python3"
  },
  "language_info": {
   "codemirror_mode": {
    "name": "ipython",
    "version": 3
   },
   "file_extension": ".py",
   "mimetype": "text/x-python",
   "name": "python",
   "nbconvert_exporter": "python",
   "pygments_lexer": "ipython3",
   "version": "3.10.2"
  },
  "orig_nbformat": 4
 },
 "nbformat": 4,
 "nbformat_minor": 2
}
