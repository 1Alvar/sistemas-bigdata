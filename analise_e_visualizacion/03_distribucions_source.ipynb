{
 "cells": [
  {
   "cell_type": "markdown",
   "metadata": {},
   "source": [
    "# Distribucións\n",
    "\n",
    "Dispoñemos de diversos gráficos para  mostrar como se distribúen os nosos datos, é dicir, que valores toman con mais ou menos frecuencia."
   ]
  },
  {
   "cell_type": "code",
   "execution_count": null,
   "metadata": {},
   "outputs": [],
   "source": [
    "import pandas as pd\n",
    "import matplotlib.pyplot as plt\n",
    "import seaborn as sns"
   ]
  },
  {
   "cell_type": "code",
   "execution_count": null,
   "metadata": {},
   "outputs": [],
   "source": [
    "# Dataset altura, peso, xénero\n",
    "# https://www.kaggle.com/mustafaali96/weight-height/version/1"
   ]
  },
  {
   "cell_type": "code",
   "execution_count": null,
   "metadata": {},
   "outputs": [],
   "source": [
    "df = pd.read_csv('../datasets/weight-height.csv')\n",
    "df.head()"
   ]
  },
  {
   "cell_type": "code",
   "execution_count": null,
   "metadata": {},
   "outputs": [],
   "source": [
    "# Función displot\n",
    "# https://seaborn.pydata.org/generated/seaborn.displot.html"
   ]
  },
  {
   "cell_type": "code",
   "execution_count": null,
   "metadata": {},
   "outputs": [],
   "source": [
    "# A representación predeterminada é de tipo 'histograma'\n",
    "sns.displot(data=df.Height)"
   ]
  },
  {
   "cell_type": "code",
   "execution_count": null,
   "metadata": {},
   "outputs": [],
   "source": [
    "# Outro xeito de chamar á función\n",
    "sns.displot(data=df,x='Height')"
   ]
  },
  {
   "cell_type": "code",
   "execution_count": null,
   "metadata": {},
   "outputs": [],
   "source": [
    "# Representación tipo KDE (Kernel Density Estimates)\n",
    "sns.displot(data=df.Height, kind='kde')"
   ]
  },
  {
   "cell_type": "code",
   "execution_count": null,
   "metadata": {},
   "outputs": [],
   "source": [
    "# Un terceiro tipo de gráfico de distribución sería o ECDF, que mostra os datos de xeito acumulativo\n",
    "# Graficamente detectaremos pendentes máis pronunciadas nos valores onde se situen maior número de datos\n",
    "sns.displot(data=df.Height, kind='ecdf')"
   ]
  },
  {
   "cell_type": "code",
   "execution_count": null,
   "metadata": {},
   "outputs": [],
   "source": [
    "# As gráficas de distribución vistas ata o momento mostran un patrón similar á DISTRIBUCIÓN NORMAL"
   ]
  },
  {
   "cell_type": "code",
   "execution_count": null,
   "metadata": {},
   "outputs": [],
   "source": [
    "# Despois de representar os valores da altura miremos os pesos\n",
    "#sns.displot(data=df.Weight)\n",
    "sns.displot(data=df,x='Weight')\n"
   ]
  },
  {
   "cell_type": "code",
   "execution_count": null,
   "metadata": {},
   "outputs": [],
   "source": [
    "# Transformar pulgadas a cms\n",
    "df['altura'] = df.Height / 0.39370\n",
    "\n",
    "# Transformar libras a kgs\n",
    "df['peso'] = df.Weight / 2.2046"
   ]
  },
  {
   "cell_type": "code",
   "execution_count": null,
   "metadata": {},
   "outputs": [],
   "source": [
    "df_pesoaltura = df[['Gender','peso','altura']]\n",
    "df_pesoaltura.head()"
   ]
  },
  {
   "cell_type": "code",
   "execution_count": null,
   "metadata": {},
   "outputs": [],
   "source": [
    "# Agora xa teño un dataframe con cms e kg\n",
    "\n",
    "sns.displot(data=df_pesoaltura.altura)\n",
    "plt.title('Distribución de alturas')\n",
    "plt.xlabel('altura en cm\\'s')"
   ]
  },
  {
   "cell_type": "code",
   "execution_count": null,
   "metadata": {},
   "outputs": [],
   "source": [
    "sns.displot(data=df_pesoaltura.peso)\n",
    "plt.title('Distribución de peso')\n",
    "# Detectamos dous picos!\n",
    "# A distribución non se axusta á NORMAL, como era esperable"
   ]
  },
  {
   "cell_type": "code",
   "execution_count": null,
   "metadata": {},
   "outputs": [],
   "source": [
    "# Podemos representar o peso indicando unha variable categórica \n",
    "sns.displot(data=df_pesoaltura, x='peso', hue='Gender')\n",
    "plt.title('Distribución de peso')"
   ]
  },
  {
   "cell_type": "code",
   "execution_count": null,
   "metadata": {},
   "outputs": [],
   "source": [
    "sns.displot(data=df_pesoaltura, x='peso', hue='Gender', kind = 'kde')\n",
    "plt.title('Distribución de peso')"
   ]
  },
  {
   "cell_type": "code",
   "execution_count": null,
   "metadata": {},
   "outputs": [],
   "source": [
    "# Displot tamén permite representar a distribución en función de dúas variables\n",
    "# Por medio de cores, indica a maior ou menor distribución\n",
    "sns.displot(data=df_pesoaltura, x='altura',y='peso')"
   ]
  },
  {
   "cell_type": "code",
   "execution_count": null,
   "metadata": {},
   "outputs": [],
   "source": [
    "sns.displot(data=df_pesoaltura, x='altura',y='peso', kind='kde')"
   ]
  },
  {
   "cell_type": "code",
   "execution_count": null,
   "metadata": {},
   "outputs": [],
   "source": [
    "# De novo detectamos os dous \"picos\"\n",
    "sns.displot(data=df_pesoaltura, x='altura',y='peso', kind='kde', hue='Gender')"
   ]
  },
  {
   "cell_type": "code",
   "execution_count": null,
   "metadata": {},
   "outputs": [],
   "source": []
  }
 ],
 "metadata": {
  "interpreter": {
   "hash": "2eaf50c46cca8d47f8fbdccf847348d8678fdaff72e1c7be6ae8fbe014f877f9"
  },
  "kernelspec": {
   "display_name": "Python 3.8.12 64-bit ('SistemasBigData': conda)",
   "language": "python",
   "name": "python3"
  },
  "language_info": {
   "codemirror_mode": {
    "name": "ipython",
    "version": 3
   },
   "file_extension": ".py",
   "mimetype": "text/x-python",
   "name": "python",
   "nbconvert_exporter": "python",
   "pygments_lexer": "ipython3",
   "version": "3.8.12"
  },
  "orig_nbformat": 4
 },
 "nbformat": 4,
 "nbformat_minor": 2
}
