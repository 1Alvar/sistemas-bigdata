{
 "cells": [
  {
   "cell_type": "markdown",
   "id": "abdca897-ac3a-4686-9484-f8ccf7f37471",
   "metadata": {},
   "source": [
    "###  Pandas information methods"
   ]
  },
  {
   "cell_type": "code",
   "execution_count": null,
   "id": "f530e008-151f-4182-8494-4724e1859c74",
   "metadata": {},
   "outputs": [],
   "source": [
    "# Pandas, e en especial os DataFrames servirán como soporte dos datos\n",
    "# Series e Dataframes dispoñen dunha serie de métodos que nos dan información sobre os datos que conteñen"
   ]
  },
  {
   "cell_type": "code",
   "execution_count": null,
   "id": "87827316-2dd4-4eef-8adb-76670b911260",
   "metadata": {},
   "outputs": [],
   "source": [
    "# Series e DataFrame : information methods\n",
    "# .info\n",
    "# .describe\n",
    "# .count , mean, median, max, std..\n",
    "# .agg\n",
    "# .corr\n",
    "# .grouby"
   ]
  },
  {
   "cell_type": "code",
   "execution_count": null,
   "id": "4cdb6468-7f87-43be-bda8-6f88812499c7",
   "metadata": {},
   "outputs": [],
   "source": [
    "import pandas as pd\n",
    "#import numpy as np"
   ]
  },
  {
   "cell_type": "code",
   "execution_count": null,
   "id": "b66def80-18bb-4b40-addd-c53b209e18b5",
   "metadata": {},
   "outputs": [],
   "source": [
    "# API Reference de Pandas\n",
    "# https://pandas.pydata.org/docs/reference/index.html"
   ]
  },
  {
   "cell_type": "code",
   "execution_count": null,
   "id": "04bdbc35-dd96-4e7e-9852-0476a0e56ae4",
   "metadata": {},
   "outputs": [],
   "source": [
    "#### CARGAR O DATASET ######"
   ]
  },
  {
   "cell_type": "code",
   "execution_count": null,
   "id": "35ed7134-c9ff-4a6b-8507-0d0f268988ea",
   "metadata": {},
   "outputs": [],
   "source": [
    "# Dataset Auto MPG\n",
    "# Orixe: UC Irvine Machine Learning Repository\n",
    "# https://archive.ics.uci.edu/ml/datasets/auto+mpg\n",
    "# https://archive-beta.ics.uci.edu/ml/datasets/auto+mpg"
   ]
  },
  {
   "cell_type": "code",
   "execution_count": null,
   "id": "bf903f43-c97a-46c6-b9c7-f5c181a005a2",
   "metadata": {},
   "outputs": [],
   "source": [
    "# O Dataset pode cargarse desde a libraría Seaborn, que o trae como exemplo de dataset\n",
    "# Load de mpg dataset (de seaborn samples)\n",
    "# Seaborn é unha libraría é unha ferramenta de visualización estatística\n",
    "# Seaborn está baseada na libraría matplotlib\n",
    "# https://seaborn.pydata.org/\n",
    "#import seaborn as sns\n",
    "#df = sns.load_dataset('mpg')"
   ]
  },
  {
   "cell_type": "code",
   "execution_count": null,
   "id": "44115673-a0a6-4073-b106-758e73d2f4a9",
   "metadata": {},
   "outputs": [],
   "source": [
    "# Carga local desde o repositorio local de datasets\n",
    "df = pd.read_csv('../datasets/auto-mpg.csv')"
   ]
  },
  {
   "cell_type": "code",
   "execution_count": null,
   "id": "0f1eb04a-112c-4d6f-b489-f97c204cb71a",
   "metadata": {},
   "outputs": [],
   "source": [
    "# Mostrar o dataset completo -> Mostra número de filas x columnas\n",
    "df"
   ]
  },
  {
   "cell_type": "code",
   "execution_count": null,
   "id": "e677f8a9-093b-4213-959e-1b42dbf4866c",
   "metadata": {},
   "outputs": [],
   "source": [
    "# Shape mostra directamente as dimensións do DataFrame\n",
    "df.shape"
   ]
  },
  {
   "cell_type": "code",
   "execution_count": null,
   "id": "e6a29ba9-9919-47ae-a0df-60d58bc2b75d",
   "metadata": {},
   "outputs": [],
   "source": [
    "# Mostrar unha serie / columna tamén mostra algunha información: número e tipo de datos\n",
    "df.mpg"
   ]
  },
  {
   "cell_type": "markdown",
   "id": "2e7f128d-4d20-4882-9a01-e3eb7b98e697",
   "metadata": {},
   "source": [
    "#### info"
   ]
  },
  {
   "cell_type": "code",
   "execution_count": null,
   "id": "7e3d28cf-5153-4dee-876f-19417130d99b",
   "metadata": {},
   "outputs": [],
   "source": [
    "# Mostrar info do Dataframe:\n",
    "# columnas, datos non nulos, tipos de dato, memoria...\n",
    "df.info()"
   ]
  },
  {
   "cell_type": "markdown",
   "id": "c5f26637-d8d9-45e1-8041-e286f0bd5c0c",
   "metadata": {},
   "source": [
    "#### describe"
   ]
  },
  {
   "cell_type": "code",
   "execution_count": null,
   "id": "fff18587-7625-41a5-b264-1fdc08e76fe0",
   "metadata": {},
   "outputs": [],
   "source": [
    "# Resumo de estatísticos sobre os datos do dataframe, atendendo unicamente aos datos numéricos\n",
    "df.describe()"
   ]
  },
  {
   "cell_type": "code",
   "execution_count": null,
   "id": "5377818e-cc37-4f53-ab72-6b199f14a8ef",
   "metadata": {},
   "outputs": [],
   "source": [
    "# count - número de valores non nullos para esa columna\n",
    "# mean (media) - representa un valor medio dos datos\n",
    "# std (desviación típica) - medida de dispersión dos datos. Distancia media entre os datos e a súa media\n",
    "## Os 5 seguintes valores son o RESUMO PENTANUMÉRICO\n",
    "# Dividen o espazo de valores en 4 partes iguais (en canto a número de datos)\n",
    "# min - valor mínimo\n",
    "# percentil 25, primeiro cuartil ou Q1: desde o mínimo ao valor Q1 están o 25% dos datos\n",
    "# percentil 50 ou MEDIANA: desde o mínimo ata a mediana encóntranse o 50% dos datos\n",
    "# percentil 75, terceiro cuartil ou Q3: desde o mínimo ao valor Q3 están o 75% dos datos\n",
    "# max - valor máximo"
   ]
  },
  {
   "cell_type": "code",
   "execution_count": null,
   "id": "5a84afd7-797d-4cac-a5bc-eb9dc133dd08",
   "metadata": {},
   "outputs": [],
   "source": [
    "# Podemos forzar a que os estatisticos sexan dos datos non numéricos\n",
    "# Os estatísticos que se calculan son diferentes: count, unique, top, freq\n",
    "df.describe(exclude = 'number')"
   ]
  },
  {
   "cell_type": "code",
   "execution_count": null,
   "id": "2bd4e402-3c23-47e2-b05a-41e281c79bab",
   "metadata": {},
   "outputs": [],
   "source": [
    "# count - número de valores non nulos para a columna\n",
    "# unique - número de valores diferentes\n",
    "# top - valor que se repite en máis ocasións\n",
    "# freq - número de veces que aparece o valor máis repetido"
   ]
  },
  {
   "cell_type": "code",
   "execution_count": null,
   "id": "f10c1818-6aa8-446c-a25d-c9e658ea76df",
   "metadata": {},
   "outputs": [],
   "source": [
    "# Variables categóricas vs variables numéricas\n",
    "# Simplificando:\n",
    "# - Variables numéricas: as que se poden medir == (variables cuantitativas)\n",
    "# - Variables categóricas: as que non se poden medir == )variables cualitativas)\n",
    "# \n",
    "# \"describe\" infórmanos do número e tipo de variables do dataframe (int+float -> numeric , object -> categorical)\n",
    "#\n",
    "# De todos xeitos na práctica, aplicando algún tipo de transformación, tamén podemos traballar con datos\n",
    "# categóricos de xeito numérico."
   ]
  },
  {
   "cell_type": "code",
   "execution_count": null,
   "id": "218daa80-b2fa-469a-a52e-6e12b2434047",
   "metadata": {},
   "outputs": [],
   "source": [
    "# Resumo de estatísticos aplicado a unha Serie/columna\n",
    "# Ten o mesmo significado que no caso dun DataFrame"
   ]
  },
  {
   "cell_type": "code",
   "execution_count": null,
   "id": "f9eba667-9673-4d86-874c-e7e05451a8f1",
   "metadata": {},
   "outputs": [],
   "source": [
    "df.mpg.describe()"
   ]
  },
  {
   "cell_type": "code",
   "execution_count": null,
   "id": "f7777cf3-7ce5-4ae5-a01b-db63cdda3c52",
   "metadata": {},
   "outputs": [],
   "source": [
    "# Podemos aplicar unnha función a todo o dataframe para calcular estatísticos (aplícase por columnas)"
   ]
  },
  {
   "cell_type": "code",
   "execution_count": null,
   "id": "3b428e56-8f5d-41c0-b726-aa09bb7b194a",
   "metadata": {},
   "outputs": [],
   "source": [
    "df.mean()\n",
    "#df.mean(numeric_only=True)\n",
    "#df.agg('mean')"
   ]
  },
  {
   "cell_type": "code",
   "execution_count": null,
   "id": "e232677c-687b-4307-a7bc-8f84a7f33f55",
   "metadata": {},
   "outputs": [],
   "source": [
    "df.median()\n",
    "#df.median(numeric_only=True)"
   ]
  },
  {
   "cell_type": "code",
   "execution_count": null,
   "id": "5bdc4f1f-5bbb-463b-b032-b0583bb930df",
   "metadata": {},
   "outputs": [],
   "source": [
    "df.max()\n",
    "#df.agg('max')"
   ]
  },
  {
   "cell_type": "code",
   "execution_count": null,
   "id": "3dc0a1e2-0579-4fdd-b2fd-e6246b204fba",
   "metadata": {},
   "outputs": [],
   "source": [
    "# Tamén podemos aplicar as funcións unicamente a unha serie/columna"
   ]
  },
  {
   "cell_type": "code",
   "execution_count": null,
   "id": "1b3ce531-c7d0-4590-b133-98b1c446923c",
   "metadata": {},
   "outputs": [],
   "source": [
    "df.mpg.mean()"
   ]
  },
  {
   "cell_type": "code",
   "execution_count": null,
   "id": "d59ce212-1b5d-4841-a225-de75244125c4",
   "metadata": {},
   "outputs": [],
   "source": [
    "# É posible aplicar varias funcións nunha única liña (tanto a todo o dataframe como só a unha serie/columna)"
   ]
  },
  {
   "cell_type": "code",
   "execution_count": null,
   "id": "d4586693-891f-4b71-ae82-27476b1dd8e5",
   "metadata": {},
   "outputs": [],
   "source": [
    "df.agg(['mean', 'std'])"
   ]
  },
  {
   "cell_type": "code",
   "execution_count": null,
   "id": "42ea707d-7342-4bca-8eaf-3f413e86b42c",
   "metadata": {},
   "outputs": [],
   "source": [
    "df.mpg.agg(['mean', 'std'])"
   ]
  },
  {
   "cell_type": "markdown",
   "id": "2866de9a-9356-4afd-8920-f8ee1fbfe964",
   "metadata": {},
   "source": [
    "##### correlación"
   ]
  },
  {
   "cell_type": "code",
   "execution_count": null,
   "id": "380054f6-0be0-48da-8675-d124e5405a6f",
   "metadata": {},
   "outputs": [],
   "source": [
    "# No noso traballo como científicos de datos ou analistas un dos obxectivos comúns pode ser\n",
    "# o de encontrar relacións entre diferentes variables.\n",
    "# Ollo! porque unha relación entre dúas variables non implica causalidade!\n",
    "# \n",
    "# CORRELACIÓN: a medida que se soe utilizar moito en estatística é a correlación\n",
    "# A correlación mide a relación entre dúas variables\n",
    "#\n",
    "# A correlación non nos explica por que existe unha relación entre as variables, unicamente \n",
    "# indica a súa existencia e da unha medida do seu valor.\n",
    "#\n",
    "# Mantra estatístico nº1: <<A CORRELACIÓN NON IMPLICA CAUSALIDADE>>"
   ]
  },
  {
   "cell_type": "code",
   "execution_count": null,
   "id": "c4ceb10e-f812-4d8f-a279-b4bbbd8c2714",
   "metadata": {},
   "outputs": [],
   "source": [
    "# Aplica o cálculo da correlación a todo o dataframe coa función \"corr\"\n",
    "# O resultado é unha táboa simétrica en relación ao seu eixo diagonal"
   ]
  },
  {
   "cell_type": "code",
   "execution_count": null,
   "id": "fbb14a91-e0bb-4627-8236-d61b851846c0",
   "metadata": {},
   "outputs": [],
   "source": [
    "df.corr()"
   ]
  },
  {
   "cell_type": "code",
   "execution_count": null,
   "id": "a889005e-7225-441e-8fce-94fdab11b449",
   "metadata": {},
   "outputs": [],
   "source": [
    "# Algunhas apreciacións:\n",
    "# - a diagonal vale sempre 1: unha variable ten a máxima correlación consigo mesma\n",
    "# - o peso (weight) e as millas por galón(mpg) teñen unha correlación inversa (-) bastante alta\n",
    "# - o número de cilindros ten unha correlación alta coa potencia (horsepower)\n",
    "# - a aceleración non ten apenas nada que ver co ano do modelo\n",
    "# ... "
   ]
  },
  {
   "cell_type": "markdown",
   "id": "0c2a33b1-728f-4ff3-93e7-0c50b92c64a0",
   "metadata": {},
   "source": [
    "#### groupby"
   ]
  },
  {
   "cell_type": "code",
   "execution_count": null,
   "id": "35695df1-ea09-4def-a02d-d3884998e841",
   "metadata": {},
   "outputs": [],
   "source": [
    "# As variables categóricase poden utilizarse para crear diferentes grupos, sobre os\n",
    "# que aplicar as mesmas funcións que aplicabamos sobre outras variables (media, máx, ...)"
   ]
  },
  {
   "cell_type": "code",
   "execution_count": null,
   "id": "58dcc693-0199-4bcd-a414-ca2f3a7081b5",
   "metadata": {},
   "outputs": [],
   "source": [
    "# En primeiro lugar créase o grupo (unha especie de dataframe especial agrupado)\n",
    "# A continuación aplícase a función ao novo grupo"
   ]
  },
  {
   "cell_type": "code",
   "execution_count": null,
   "id": "068f3411-88ec-4095-9f31-c82f53cd99b3",
   "metadata": {},
   "outputs": [],
   "source": [
    "df_groupby_origin = df.groupby('origin')\n",
    "df_groupby_origin.mean()"
   ]
  }
 ],
 "metadata": {
  "kernelspec": {
   "display_name": "Python 3 (ipykernel)",
   "language": "python",
   "name": "python3"
  },
  "language_info": {
   "codemirror_mode": {
    "name": "ipython",
    "version": 3
   },
   "file_extension": ".py",
   "mimetype": "text/x-python",
   "name": "python",
   "nbconvert_exporter": "python",
   "pygments_lexer": "ipython3",
   "version": "3.8.12"
  }
 },
 "nbformat": 4,
 "nbformat_minor": 5
}
