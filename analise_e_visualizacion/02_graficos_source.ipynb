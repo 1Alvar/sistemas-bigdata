{
 "cells": [
  {
   "cell_type": "code",
   "execution_count": null,
   "id": "384eb73a-f1cb-4c68-bc5a-c550d609ce14",
   "metadata": {},
   "outputs": [],
   "source": [
    "import pandas as pd\n",
    "import matplotlib.pyplot as plt\n",
    "import seaborn as sns"
   ]
  },
  {
   "cell_type": "code",
   "execution_count": null,
   "id": "afddcea5-f883-4cca-a285-d82e1ce24998",
   "metadata": {},
   "outputs": [],
   "source": [
    "# Ficheiro con vendas mensuais de champú\n",
    "url = 'https://raw.githubusercontent.com/jbrownlee/Datasets/master/shampoo.csv'\n",
    "df = pd.read_csv(url)"
   ]
  },
  {
   "cell_type": "code",
   "execution_count": null,
   "id": "a8beffe2-fb31-4d6a-a76c-af06c4ae1e4b",
   "metadata": {},
   "outputs": [],
   "source": [
    "df.head()"
   ]
  },
  {
   "cell_type": "code",
   "execution_count": null,
   "id": "f8dc55f2-6e29-4f32-87f9-0323bde53e95",
   "metadata": {},
   "outputs": [],
   "source": [
    "# Crear un gráfico de liñas\n",
    "sns.lineplot(data=df)"
   ]
  },
  {
   "cell_type": "code",
   "execution_count": null,
   "id": "9c6455d1-69ea-418a-8d9e-8b7ac1403fce",
   "metadata": {},
   "outputs": [],
   "source": [
    "# Modificar un gráfico\n",
    "plt.figure(figsize=(15,7))\n",
    "sns.lineplot(data=df)"
   ]
  },
  {
   "cell_type": "code",
   "execution_count": null,
   "id": "227bf506-32f1-48ce-9863-654fc3a55614",
   "metadata": {},
   "outputs": [],
   "source": [
    "# Modificar un gráfico\n",
    "plt.figure(figsize=(15,7))\n",
    "sns.lineplot(data=df)\n",
    "plt.title('Vendas mensuais de champú')\n",
    "plt.xlabel('mes')\n",
    "plt.ylabel('miles de euros')"
   ]
  },
  {
   "cell_type": "code",
   "execution_count": null,
   "id": "60389df8-04d3-488f-8975-5cce316ea91f",
   "metadata": {},
   "outputs": [],
   "source": [
    "# Ficheiro con vendas mensuais de champú\n",
    "url = 'https://raw.githubusercontent.com/jbrownlee/Datasets/master/shampoo.csv'\n",
    "df = pd.read_csv(url,index_col = 'Month')"
   ]
  },
  {
   "cell_type": "code",
   "execution_count": null,
   "id": "a26ac9c8-ceeb-43c3-acda-cdef7010ebd4",
   "metadata": {},
   "outputs": [],
   "source": [
    "df.head()"
   ]
  },
  {
   "cell_type": "code",
   "execution_count": null,
   "id": "64a2e4ce-1344-4184-8ceb-9fb70c99e453",
   "metadata": {},
   "outputs": [],
   "source": [
    "sns.lineplot(data=df)"
   ]
  },
  {
   "cell_type": "code",
   "execution_count": null,
   "id": "c3230754-71a1-413d-8fd0-78debfc3e4c9",
   "metadata": {},
   "outputs": [],
   "source": []
  },
  {
   "cell_type": "code",
   "execution_count": null,
   "id": "7cbe0be0-f649-4418-98d6-3557d61deeb1",
   "metadata": {},
   "outputs": [],
   "source": [
    "# Ficheiro con temperaturas durante 10 anos en Melbourne\n",
    "url = 'https://raw.githubusercontent.com/jbrownlee/Datasets/master/daily-min-temperatures.csv'\n",
    "df = pd.read_csv(url)"
   ]
  },
  {
   "cell_type": "code",
   "execution_count": null,
   "id": "d261cf6f-7baf-4ac1-b748-32f585ae501a",
   "metadata": {},
   "outputs": [],
   "source": [
    "df.head()"
   ]
  },
  {
   "cell_type": "code",
   "execution_count": null,
   "id": "46fe3bf5-50b7-4587-95fa-c0a2e1b80c63",
   "metadata": {},
   "outputs": [],
   "source": [
    "sns.lineplot(data=df)"
   ]
  },
  {
   "cell_type": "code",
   "execution_count": null,
   "id": "9af0ebd9-c9b2-4e4e-800f-a17da692fdf0",
   "metadata": {},
   "outputs": [],
   "source": [
    "url = 'https://raw.githubusercontent.com/jbrownlee/Datasets/master/daily-min-temperatures.csv'\n",
    "df = pd.read_csv(url,index_col='Date')"
   ]
  },
  {
   "cell_type": "code",
   "execution_count": null,
   "id": "921ceb59-5662-4fe8-909a-f793976d9bca",
   "metadata": {},
   "outputs": [],
   "source": [
    "df.head()"
   ]
  },
  {
   "cell_type": "code",
   "execution_count": null,
   "id": "1b668a73-a21d-4d84-aefa-93194d56af94",
   "metadata": {},
   "outputs": [],
   "source": [
    "df.info()"
   ]
  },
  {
   "cell_type": "code",
   "execution_count": null,
   "id": "bfb9ab9c-f7e7-48ae-af85-7b143dcf424f",
   "metadata": {},
   "outputs": [],
   "source": [
    "sns.lineplot(data=df)"
   ]
  },
  {
   "cell_type": "code",
   "execution_count": null,
   "id": "7720a624-791e-4085-ba26-a03c3575dd5e",
   "metadata": {},
   "outputs": [],
   "source": [
    "url = 'https://raw.githubusercontent.com/jbrownlee/Datasets/master/daily-min-temperatures.csv'\n",
    "df = pd.read_csv(url,index_col='Date',parse_dates=True)"
   ]
  },
  {
   "cell_type": "code",
   "execution_count": null,
   "id": "bc687175-05df-4d6a-a20f-98c379fbd3da",
   "metadata": {},
   "outputs": [],
   "source": [
    "df.head()"
   ]
  },
  {
   "cell_type": "code",
   "execution_count": null,
   "id": "0507dbb2-aa34-4e22-8f9f-b0215d07becc",
   "metadata": {},
   "outputs": [],
   "source": [
    "df.info()"
   ]
  },
  {
   "cell_type": "code",
   "execution_count": null,
   "id": "bb592537-fb74-4517-bf23-29acf000529d",
   "metadata": {},
   "outputs": [],
   "source": [
    "sns.lineplot(data=df)"
   ]
  },
  {
   "cell_type": "code",
   "execution_count": null,
   "id": "80e79040-97be-4837-99ad-27376d851c9e",
   "metadata": {},
   "outputs": [],
   "source": [
    "df_1985 = df.loc['1985-1-1':'1985-12-31']"
   ]
  },
  {
   "cell_type": "code",
   "execution_count": null,
   "id": "5f7a3562-0cb3-4c99-8914-b5346a2922b0",
   "metadata": {},
   "outputs": [],
   "source": [
    "sns.lineplot(data=df_1985)"
   ]
  },
  {
   "cell_type": "code",
   "execution_count": null,
   "id": "84279f90-5c9d-483e-acc5-026fc176b199",
   "metadata": {},
   "outputs": [],
   "source": []
  },
  {
   "cell_type": "code",
   "execution_count": null,
   "id": "6ed4ca0f-d7bc-41a2-83c1-0c8bc21d051c",
   "metadata": {},
   "outputs": [],
   "source": [
    "# Ficheiro con número de reproducións diarias dos top 5 musicais de spotify\n",
    "ficheiro = \"../datasets/spotify_top5.csv\"\n",
    "\n",
    "#df = pd.read_csv(ficheiro)\n",
    "df = pd.read_csv(ficheiro, index_col=\"Date\", parse_dates=True)"
   ]
  },
  {
   "cell_type": "code",
   "execution_count": null,
   "id": "183aead0-35d9-4fc1-914e-bf318fae6984",
   "metadata": {
    "tags": []
   },
   "outputs": [],
   "source": [
    "#df.head()\n",
    "df.sample(5)"
   ]
  },
  {
   "cell_type": "code",
   "execution_count": null,
   "id": "7d1ba697-62f0-4e7c-bbfd-7bc48f6f4aaa",
   "metadata": {
    "tags": []
   },
   "outputs": [],
   "source": [
    "sns.lineplot(data=df)"
   ]
  },
  {
   "cell_type": "code",
   "execution_count": null,
   "id": "a7f3abc0-262e-448a-85b3-294de974dba9",
   "metadata": {
    "tags": []
   },
   "outputs": [],
   "source": [
    "plt.figure(figsize=(10,5))\n",
    "sns.lineplot(data=df.Despacito)"
   ]
  },
  {
   "cell_type": "code",
   "execution_count": null,
   "id": "e2d4fd34-642b-4607-92df-176a4b29a581",
   "metadata": {
    "tags": []
   },
   "outputs": [],
   "source": [
    "plt.figure(figsize=(10,5))\n",
    "sns.lineplot(data=df[['Despacito','Shape of You']])"
   ]
  },
  {
   "cell_type": "code",
   "execution_count": null,
   "id": "2ca8c7ba-24ec-4ef8-a47e-bae605f81656",
   "metadata": {},
   "outputs": [],
   "source": [
    "plt.figure(figsize=(10,5))\n",
    "sns.lineplot(data=df['Despacito'],label='Despacito')\n",
    "sns.lineplot(data=df['Shape of You'],label='Shape of You')"
   ]
  },
  {
   "cell_type": "code",
   "execution_count": null,
   "id": "25633592-a475-4087-aa62-a88df8b3a5d5",
   "metadata": {},
   "outputs": [],
   "source": []
  },
  {
   "cell_type": "code",
   "execution_count": null,
   "id": "21642264-e4b0-42bb-880c-9d1217edec1e",
   "metadata": {},
   "outputs": [],
   "source": []
  },
  {
   "cell_type": "code",
   "execution_count": null,
   "id": "e112d5a7-e2e0-45ef-91d7-1fd5192ddc1c",
   "metadata": {},
   "outputs": [],
   "source": []
  }
 ],
 "metadata": {
  "kernelspec": {
   "display_name": "Python 3 (ipykernel)",
   "language": "python",
   "name": "python3"
  },
  "language_info": {
   "codemirror_mode": {
    "name": "ipython",
    "version": 3
   },
   "file_extension": ".py",
   "mimetype": "text/x-python",
   "name": "python",
   "nbconvert_exporter": "python",
   "pygments_lexer": "ipython3",
   "version": "3.8.12"
  }
 },
 "nbformat": 4,
 "nbformat_minor": 5
}
