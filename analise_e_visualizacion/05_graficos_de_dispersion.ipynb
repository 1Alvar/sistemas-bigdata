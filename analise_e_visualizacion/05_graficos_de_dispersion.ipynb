{
 "cells": [
  {
   "cell_type": "markdown",
   "id": "8cc94896-5d3d-453d-b71e-ad27e7326dba",
   "metadata": {},
   "source": [
    "###  Scatter Plots"
   ]
  },
  {
   "cell_type": "code",
   "execution_count": null,
   "id": "c8c22402-0e91-410a-bad3-4a2ac7aa3d36",
   "metadata": {},
   "outputs": [],
   "source": [
    "# Os gráficos de dispersión son útiles para coñecer a relación entre dúas variables CONTÍNUAS\n",
    "# Podemos engadir unha terceira variable categórica (mediante cores, ou con outro tipo de gráficos)\n",
    "\n",
    "# Lembra que nos gráficos de barras a relación era entre unha variable numérica e outra categórica."
   ]
  },
  {
   "cell_type": "code",
   "execution_count": null,
   "id": "8767a83b",
   "metadata": {},
   "outputs": [],
   "source": [
    "# Resumo:\n",
    "# - scatterplot (gráfico de dispersión)\n",
    "# - regplot (recta de regresión lineal)\n",
    "# - lmplot (gráfico de dispersión con variable categórica e rectas de regresión lineal)\n",
    "# - swarmplot (gráfico de dispersión categórico)"
   ]
  },
  {
   "cell_type": "code",
   "execution_count": null,
   "id": "f94f5426",
   "metadata": {},
   "outputs": [],
   "source": [
    "# Exemplo tomado de kaggle: data visualizations tutoriails\n",
    "# https://www.kaggle.com/learn/data-visualization"
   ]
  },
  {
   "cell_type": "code",
   "execution_count": null,
   "id": "161ec80d-1c6c-4a92-8183-deef4bdf08aa",
   "metadata": {},
   "outputs": [],
   "source": [
    "import pandas as pd\n",
    "import matplotlib.pyplot as plt\n",
    "import seaborn as sns"
   ]
  },
  {
   "cell_type": "code",
   "execution_count": null,
   "id": "6ed4ca0f-d7bc-41a2-83c1-0c8bc21d051c",
   "metadata": {},
   "outputs": [],
   "source": [
    "# Ficheiro con datos de asegurados\n",
    "df_seguros = pd.read_csv(\"../datasets/insurance.csv\")"
   ]
  },
  {
   "cell_type": "code",
   "execution_count": null,
   "id": "2b01034c-7f57-4b46-83e8-8f834db9f9a6",
   "metadata": {},
   "outputs": [],
   "source": [
    "df_seguros.head()"
   ]
  },
  {
   "cell_type": "code",
   "execution_count": null,
   "id": "e9821f29-c5b4-4b65-9a33-b5b6792551b8",
   "metadata": {},
   "outputs": [],
   "source": [
    "# gráfico de dispersión dos cargos (o que pagan) fronte ao índice de masa corporal (bmi)\n",
    "sns.scatterplot(x=df_seguros.bmi, y=df_seguros.charges)"
   ]
  },
  {
   "cell_type": "code",
   "execution_count": null,
   "id": "1b74ef85-b544-4418-b3f5-00057457be46",
   "metadata": {},
   "outputs": [],
   "source": [
    "# A gráfica parece demostrar que existe certa correlación, e mais bmi parece que se relaciona con\n",
    "# maior gasto no seguro"
   ]
  },
  {
   "cell_type": "code",
   "execution_count": null,
   "id": "bfad2a6f-65a3-4d1c-97d9-ac73139bd3b5",
   "metadata": {},
   "outputs": [],
   "source": [
    "# Pódese engadir unha regresión lineal para asegurarnos"
   ]
  },
  {
   "cell_type": "code",
   "execution_count": null,
   "id": "521cfafe-4681-47d7-aca2-c808ddb379bb",
   "metadata": {},
   "outputs": [],
   "source": [
    "sns.regplot(x=df_seguros.bmi, y=df_seguros.charges)"
   ]
  },
  {
   "cell_type": "code",
   "execution_count": null,
   "id": "cdc3717e",
   "metadata": {},
   "outputs": [],
   "source": [
    "# A recta de regresión mostra unha lixeira tendencia á alza ao aumentar a bmi"
   ]
  },
  {
   "cell_type": "code",
   "execution_count": null,
   "id": "c84fff35-9a9f-48d0-98d0-89d3db4deba3",
   "metadata": {},
   "outputs": [],
   "source": [
    "# Engadir unha terceira variable utilizando a cor\n",
    "sns.scatterplot(x=df_seguros['bmi'], y=df_seguros['charges'], hue=df_seguros['smoker'])"
   ]
  },
  {
   "cell_type": "code",
   "execution_count": null,
   "id": "9df9ff55",
   "metadata": {},
   "outputs": [],
   "source": [
    "# Identifícanse dous grupos bastante claros\n",
    "# No grupo de non fumadores non se ve moita relación con bmi\n",
    "# No grupo de fumadores a relación parece máis acusada"
   ]
  },
  {
   "cell_type": "code",
   "execution_count": null,
   "id": "0b8cd5ba-f215-4d44-8eba-7a3b5b9ddad0",
   "metadata": {},
   "outputs": [],
   "source": [
    "sns.lmplot(x=\"bmi\", y=\"charges\", hue=\"smoker\", data=df_seguros)"
   ]
  },
  {
   "cell_type": "code",
   "execution_count": null,
   "id": "d04d0379",
   "metadata": {},
   "outputs": [],
   "source": [
    "# A regresión mostra diferentes relacións para os diferentes grupos\n",
    "# O gasto en seguros apenas aumentan para non fumadores segundo a súa bmi\n",
    "# O gasto en seguros dispárase para fumadores a medida que aumenta o seu bmi"
   ]
  },
  {
   "cell_type": "code",
   "execution_count": null,
   "id": "82c0d05f",
   "metadata": {},
   "outputs": [],
   "source": [
    "# Gráfico de dispersión categórico\n",
    "# Ao contrario que na gráfica anterior, onde nos centramos na relación entre as variables numéricas e engadimos unha categórica\n",
    "# un novo tipo de gráfica, o swarmplot, céntrase máis na diferencia entres as categorías"
   ]
  },
  {
   "cell_type": "code",
   "execution_count": null,
   "id": "9fccee9a-b384-4e02-8b4f-2fc000365dd7",
   "metadata": {},
   "outputs": [],
   "source": [
    "sns.swarmplot(x=df_seguros['smoker'],\n",
    "              y=df_seguros['charges'])"
   ]
  },
  {
   "cell_type": "code",
   "execution_count": null,
   "id": "3172c30c",
   "metadata": {},
   "outputs": [],
   "source": [
    "# Podemos axustra o tamaño do gráfico e de punto para mellorar a visualización"
   ]
  },
  {
   "cell_type": "code",
   "execution_count": null,
   "id": "334173db-4a41-4166-8c5d-8c5110a11d4f",
   "metadata": {},
   "outputs": [],
   "source": [
    "plt.figure(figsize=(10,5))\n",
    "sns.swarmplot(x=df_seguros['smoker'],\n",
    "              y=df_seguros['charges'],size=3)\n"
   ]
  },
  {
   "cell_type": "code",
   "execution_count": null,
   "id": "fb7c9184-d878-416d-8e39-31117c5fab24",
   "metadata": {},
   "outputs": [],
   "source": []
  }
 ],
 "metadata": {
  "kernelspec": {
   "display_name": "Python 3 (ipykernel)",
   "language": "python",
   "name": "python3"
  },
  "language_info": {
   "codemirror_mode": {
    "name": "ipython",
    "version": 3
   },
   "file_extension": ".py",
   "mimetype": "text/x-python",
   "name": "python",
   "nbconvert_exporter": "python",
   "pygments_lexer": "ipython3",
   "version": "3.8.12"
  }
 },
 "nbformat": 4,
 "nbformat_minor": 5
}
