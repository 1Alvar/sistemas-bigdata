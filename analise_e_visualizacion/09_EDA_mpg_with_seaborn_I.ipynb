{
 "cells": [
  {
   "cell_type": "code",
   "execution_count": null,
   "metadata": {},
   "outputs": [],
   "source": [
    "# Exemplo EDA sobre o dataset de datos de coches\n",
    "# https://www.datafied.world/eda-on-mpg-data-using-seaborn-192"
   ]
  },
  {
   "cell_type": "code",
   "execution_count": null,
   "metadata": {},
   "outputs": [],
   "source": [
    "import numpy as np # linear algebra\n",
    "import pandas as pd # data processing, CSV file I/O (e.g. pd.read_csv)\n",
    "import seaborn as sns\n",
    "import matplotlib.pyplot as plt"
   ]
  },
  {
   "cell_type": "code",
   "execution_count": null,
   "metadata": {},
   "outputs": [],
   "source": [
    "# 'mpg' é un coñecido dataset con datos de automóbiles que se encontra como exemplo na libraría 'seaborn'\n",
    "# Tamén dispoñible no UCI: Machine Learning Repository\n",
    "# https://archive.ics.uci.edu/ml/datasets/auto+mpg\n",
    "\n",
    "# O repositorio proporciona a seguinte información:\n",
    "# Attribute Information:\n",
    "\n",
    "# 1. mpg: continuous\n",
    "# 2. cylinders: multi-valued discrete\n",
    "# 3. displacement: continuous\n",
    "# 4. horsepower: continuous\n",
    "# 5. weight: continuous\n",
    "# 6. acceleration: continuous\n",
    "# 7. model year: multi-valued discrete\n",
    "# 8. origin: multi-valued discrete\n",
    "# 9. car name: string (unique for each instance)"
   ]
  },
  {
   "cell_type": "code",
   "execution_count": null,
   "metadata": {},
   "outputs": [],
   "source": [
    "df = sns.load_dataset('mpg')"
   ]
  },
  {
   "cell_type": "code",
   "execution_count": null,
   "metadata": {},
   "outputs": [],
   "source": [
    "# Fases do EDA\n",
    "# 1. Preprocesar os datos\n",
    "# 2. EDA sobre atributos categóricos: analizar distribución e relacións con outros categóricos\n",
    "# 3. EDA sobre atributos numéricos: analizar distribució e relacións con outros numéricos\n",
    "# 4. Análise da relación entre categóricos e numéricos"
   ]
  },
  {
   "cell_type": "code",
   "execution_count": null,
   "metadata": {},
   "outputs": [],
   "source": [
    "# PREPROCESADO DOS DATOS"
   ]
  },
  {
   "cell_type": "code",
   "execution_count": null,
   "metadata": {},
   "outputs": [],
   "source": [
    "# Unha ollada aos datos\n",
    "\n",
    "df.head()"
   ]
  },
  {
   "cell_type": "code",
   "execution_count": null,
   "metadata": {},
   "outputs": [],
   "source": [
    "# Tamaño do dataset? Filas? Atributos?\n",
    "df.shape"
   ]
  },
  {
   "cell_type": "code",
   "execution_count": null,
   "metadata": {},
   "outputs": [],
   "source": [
    "# Listar todas as columnas\n",
    "columns = list(df.columns)\n",
    "columns"
   ]
  },
  {
   "cell_type": "code",
   "execution_count": null,
   "metadata": {},
   "outputs": [],
   "source": [
    "# Consultar os tipos de datos, se hai valores nulos..\n",
    "df.info()"
   ]
  },
  {
   "cell_type": "code",
   "execution_count": null,
   "metadata": {},
   "outputs": [],
   "source": [
    "# Creamos dúas listas diferentes:\n",
    "# - nomes das columnas categóricas\n",
    "# - nomes das columnas numéricas \n",
    "# Isto facilitará o tratamento das diferentes variables por separado\n",
    "\n",
    "cats = list(df.select_dtypes(include=['object']).columns)\n",
    "nums = list(df.select_dtypes(exclude=['object']).columns)\n",
    "print(f'Variables categóricas: {cats}')\n",
    "print(f'Variables numéricas: {nums}')"
   ]
  },
  {
   "cell_type": "code",
   "execution_count": null,
   "metadata": {},
   "outputs": [],
   "source": [
    "# Consultamos o número de valores diferentes en cada columna\n",
    "df.nunique(axis=0)"
   ]
  },
  {
   "cell_type": "code",
   "execution_count": null,
   "metadata": {},
   "outputs": [],
   "source": [
    "# cylinders e model_year teñen moi pouca variabilidade -> ten sentido facelos categóricos\n",
    "# Movémolos á lista de variables categóricas"
   ]
  },
  {
   "cell_type": "code",
   "execution_count": null,
   "metadata": {},
   "outputs": [],
   "source": [
    "cats.extend(['cylinders','model_year'])\n",
    "nums.remove('cylinders')\n",
    "nums.remove('model_year')\n",
    "print(f'Variables categóricas: {cats}')\n",
    "print(f'Variables numéricas: {nums}')"
   ]
  },
  {
   "cell_type": "code",
   "execution_count": null,
   "metadata": {},
   "outputs": [],
   "source": [
    "# búsqueda de nans - TRATAMENTO DE MISSING VALUES\n",
    "df.isna().sum()\n",
    "# df.isnull().sum() <- isnull() é un alias de isna()"
   ]
  },
  {
   "cell_type": "code",
   "execution_count": null,
   "metadata": {},
   "outputs": [],
   "source": [
    "# mostrar as liñas que teñen nan\n",
    "df[df.horsepower.isnull()]"
   ]
  },
  {
   "cell_type": "code",
   "execution_count": null,
   "metadata": {},
   "outputs": [],
   "source": [
    "# mais xeralmente\n",
    "df[df.isnull().any(axis=1)]"
   ]
  },
  {
   "cell_type": "code",
   "execution_count": null,
   "metadata": {},
   "outputs": [],
   "source": [
    "# proporción de nans\n",
    "6 / len(df)"
   ]
  },
  {
   "cell_type": "code",
   "execution_count": null,
   "metadata": {},
   "outputs": [],
   "source": [
    "# A porcentaxe é baixa (un 1,5%), logo podemos machacar esas liñas\n",
    "df.dropna(inplace=True)\n",
    "df.reset_index(inplace=True)"
   ]
  },
  {
   "cell_type": "code",
   "execution_count": null,
   "metadata": {},
   "outputs": [],
   "source": [
    "df.shape"
   ]
  },
  {
   "cell_type": "code",
   "execution_count": null,
   "metadata": {},
   "outputs": [],
   "source": [
    "\n",
    "# df = df[~df.isnull().any(axis=1)]\n",
    "# df.reset_index(inplace=True)\n",
    "# df.drop('index', inplace=True, axis=1)"
   ]
  },
  {
   "cell_type": "code",
   "execution_count": null,
   "metadata": {},
   "outputs": [],
   "source": [
    "# TRATAMENTO DE DUPLICADOS"
   ]
  },
  {
   "cell_type": "code",
   "execution_count": null,
   "metadata": {},
   "outputs": [],
   "source": [
    "# Buscar filas duplicadas\n",
    "print(f'Total de filas duplicadas: {df.duplicated().sum()}')"
   ]
  },
  {
   "cell_type": "code",
   "execution_count": null,
   "metadata": {},
   "outputs": [],
   "source": [
    "# No caso de que houbese duplicados (que non hai), eliminamos\n",
    "df.drop_duplicates(inplace=True)\n",
    "df.shape"
   ]
  },
  {
   "cell_type": "code",
   "execution_count": null,
   "metadata": {},
   "outputs": [],
   "source": [
    "# df = df[~df.duplicated()]\n",
    "# df.shape"
   ]
  },
  {
   "cell_type": "code",
   "execution_count": null,
   "metadata": {},
   "outputs": [],
   "source": [
    "# Podemos agrupar as variables por tipo por comodidade (recolocar as columnas)\n",
    "# bloque categóticas vs bloque numéricas\n",
    "df = pd.concat((df[cats], df[nums]), axis=1)\n",
    "df.head()"
   ]
  },
  {
   "cell_type": "code",
   "execution_count": null,
   "metadata": {},
   "outputs": [],
   "source": [
    "num_rows, num_cols = df.shape"
   ]
  },
  {
   "cell_type": "code",
   "execution_count": null,
   "metadata": {},
   "outputs": [],
   "source": [
    "# Pode ser unha boa idea gardar os datos unha vez limpos e preprocesados\n",
    "df.to_csv('mpg_cleaned.csv',index=False)"
   ]
  },
  {
   "cell_type": "code",
   "execution_count": null,
   "metadata": {},
   "outputs": [],
   "source": [
    "# ANÁLISE DOS VALORES CATEGÓRICOS\n",
    "\n",
    "# Despois da limpeza dos datos procedemos á análise das variables categóricas"
   ]
  },
  {
   "cell_type": "code",
   "execution_count": null,
   "metadata": {},
   "outputs": [],
   "source": [
    "df = pd.read_csv('mpg_cleaned.csv')"
   ]
  },
  {
   "cell_type": "code",
   "execution_count": null,
   "metadata": {},
   "outputs": [],
   "source": [
    "print(f'categorical variables: {cats}')"
   ]
  },
  {
   "cell_type": "code",
   "execution_count": null,
   "metadata": {},
   "outputs": [],
   "source": [
    "# Creamos un novo dataframe só coas variables categóricas\n",
    "\n",
    "#df_cat = df.loc[:, 'origin':'model_year']\n",
    "df_cat= df[cats]\n",
    "df_cat.head()"
   ]
  },
  {
   "cell_type": "code",
   "execution_count": null,
   "metadata": {},
   "outputs": [],
   "source": []
  },
  {
   "cell_type": "code",
   "execution_count": null,
   "metadata": {},
   "outputs": [],
   "source": [
    "# limpeza de columnas tipo string, eliminando espazos extra (por precaución)\n",
    "# Ollo a: https://pandas.pydata.org/pandas-docs/stable/user_guide/indexing.html#returning-a-view-versus-a-copy\n",
    "for col in ['origin', 'name']:\n",
    "    df_cat[col] = df_cat[col].apply(lambda x: ' '.join(x.split()))"
   ]
  },
  {
   "cell_type": "code",
   "execution_count": null,
   "metadata": {},
   "outputs": [],
   "source": [
    "# Pode ser útil crear niveis categóricos para algunhas variables (p.ex: mpg)\n",
    "# Axudará á hora de crear algúns gráficos e ademais facilita a comprensión\n",
    "# Engadimos unha nova variable categórica"
   ]
  },
  {
   "cell_type": "code",
   "execution_count": null,
   "metadata": {},
   "outputs": [],
   "source": [
    "df_cat['mpg_level'] = df['mpg'].apply(lambda x: 'low' if x<17 else 'high' if x>29 else 'medium')\n",
    "cats.append('mpg_level')\n",
    "print(f'Variables categóricas:  {cats}')"
   ]
  },
  {
   "cell_type": "code",
   "execution_count": null,
   "metadata": {},
   "outputs": [],
   "source": [
    "# Botar unha ollada aos valores das categorías\n",
    "print(f\"Categorías en origin: {pd.unique(df_cat['origin'])}\")\n",
    "print(f\"Categorías en cylinders: {pd.unique(df_cat['cylinders'])}\")\n",
    "print(f\"Categorías en model_year: {pd.unique(df_cat['model_year'])}\")"
   ]
  },
  {
   "cell_type": "code",
   "execution_count": null,
   "metadata": {},
   "outputs": [],
   "source": [
    "# Análise da distribución \n",
    "#\n",
    "# Queremos ver como se distribúen os datos e sacar algunha información das gráficas"
   ]
  },
  {
   "cell_type": "code",
   "execution_count": null,
   "metadata": {},
   "outputs": [],
   "source": [
    "# Countplot pode ser unha boa opción para ver como se distribúen os datos nas variables categóricas\n",
    "sns.set_theme(style='darkgrid')\n",
    "\n",
    "# Distribución de \"orixe\"\n",
    "sns.countplot(data=df_cat,x='origin')"
   ]
  },
  {
   "cell_type": "code",
   "execution_count": null,
   "metadata": {},
   "outputs": [],
   "source": [
    "# A maioría dos datos son de coches estadounidenses"
   ]
  },
  {
   "cell_type": "code",
   "execution_count": null,
   "metadata": {},
   "outputs": [],
   "source": [
    "# Distribución de \"cilindros\"\n",
    "sns.countplot(data=df_cat,x='cylinders')"
   ]
  },
  {
   "cell_type": "code",
   "execution_count": null,
   "metadata": {},
   "outputs": [],
   "source": [
    "# O mais común son coches con motores de 4 ciclindros. As versións de 3 e 5 son anecdóticas."
   ]
  },
  {
   "cell_type": "code",
   "execution_count": null,
   "metadata": {},
   "outputs": [],
   "source": [
    "# Distribución dos datos segundo \"model_year\"\n",
    "sns.countplot(data=df_cat,x='model_year')"
   ]
  },
  {
   "cell_type": "code",
   "execution_count": null,
   "metadata": {},
   "outputs": [],
   "source": [
    "# Distribución de \"mpg_level\"\n",
    "sns.countplot(data=df_cat,x='mpg_level')"
   ]
  },
  {
   "cell_type": "code",
   "execution_count": null,
   "metadata": {},
   "outputs": [],
   "source": [
    "# Pode ter sentido ordenar as barras en función de importancia"
   ]
  },
  {
   "cell_type": "code",
   "execution_count": null,
   "metadata": {},
   "outputs": [],
   "source": [
    "plt.figure(figsize=(15,5))\n",
    "ax = plt.subplot(1,2,1)\n",
    "ax.set_title('Orde temporal')\n",
    "sns.countplot(data=df_cat,x='model_year')\n",
    "ax = plt.subplot(1,2,2)\n",
    "ax.set_title('Orde de relevancia')\n",
    "sns.countplot(data=df_cat,x='model_year',order=df_cat.model_year.value_counts().index)"
   ]
  },
  {
   "cell_type": "code",
   "execution_count": null,
   "metadata": {},
   "outputs": [],
   "source": [
    "# Podemos agrupar as gráficas"
   ]
  },
  {
   "cell_type": "code",
   "execution_count": null,
   "metadata": {},
   "outputs": [],
   "source": [
    "fig = plt.figure(1, (14, 8))\n",
    "\n",
    "for i,cat in enumerate(df_cat.drop(['name'], axis=1).columns):\n",
    "    ax = plt.subplot(2,2,i+1)\n",
    "    sns.countplot(data=df_cat,x=cat, order=df_cat[cat].value_counts().index)\n",
    "    ax.set_xlabel(None)\n",
    "    ax.set_title(f'Distribution of {cat}')\n",
    "    plt.tight_layout()\n",
    "\n",
    "plt.show()"
   ]
  },
  {
   "cell_type": "code",
   "execution_count": null,
   "metadata": {},
   "outputs": [],
   "source": [
    "# Cálculo da proporción das clases dominantes en relación co resto da súa categoría\n",
    "for i,cat in enumerate(df_cat.drop(['name'], axis=1).columns):\n",
    "    val_counts = df_cat[cat].value_counts()\n",
    "    dominant_frac = val_counts.iloc[0] / num_rows\n",
    "    print(f'`{val_counts.index[0]}` contribúe por si sóa nun {round(dominant_frac * 100, 2)}% de {cat}')"
   ]
  },
  {
   "cell_type": "code",
   "execution_count": null,
   "metadata": {},
   "outputs": [],
   "source": [
    "# Funcionamento de value_counts\n",
    "# df_cat.cylinders.value_counts()"
   ]
  },
  {
   "cell_type": "code",
   "execution_count": null,
   "metadata": {},
   "outputs": [],
   "source": [
    "# NOVA INFORMACIÓN EXTRAÍDA DA ANÁLISE  -- Insights\n",
    "\n",
    "# - Orixe desequilibrado en favor de usa, maior que a suma dos competidores\n",
    "# - Cilindros desequilibrado en favor de 4\n",
    "# - mpg_level (que fixemos categórica) desequilibrio en favor de medium (que é un rango maior)\n",
    "# - model_year -> equilibrado"
   ]
  },
  {
   "cell_type": "code",
   "execution_count": null,
   "metadata": {},
   "outputs": [],
   "source": [
    "# analizar os nomes dos modelos 'name'\n",
    "print(f'Número de categorías diferentes en  `name`: {df_cat.name.nunique()}')\n",
    "print(f\"\\nListaxe de categorías en `name`:\\n\\n {df_cat.name.unique()}\")"
   ]
  },
  {
   "cell_type": "code",
   "execution_count": null,
   "metadata": {},
   "outputs": [],
   "source": [
    "# Os nomes inclúen a marca!\n",
    "\n",
    "# Podemos extraer a marca/compañía de `name` , coa intención de crear unha nova categoría \n",
    "df_cat['car_company'] = df_cat['name'].apply(lambda x: x.split()[0])\n",
    "\n",
    "# Eliminamos a Compañía e deixamos só o modelo\n",
    "df_cat['car_name'] = df_cat['name'].apply(lambda x: ' '.join(x.split()[1:]))\n",
    "df_cat.drop('name', axis=1, inplace=True)\n",
    "\n",
    "cats.extend(['car_company', 'car_name'])\n",
    "cats.remove('name')\n",
    "\n",
    "print(f'Variables categóricas:  {cats}')\n",
    "df_cat.head()"
   ]
  },
  {
   "cell_type": "code",
   "execution_count": null,
   "metadata": {},
   "outputs": [],
   "source": [
    "# Investigamos as categorías en `car_company`\n",
    "print(f'Número de categorías en `car_company`: {df_cat.car_company.nunique()}')\n",
    "print(f\"\\nListaxe de categorías en `car_company`:\\n\\n {df_cat.car_company.unique()}\")"
   ]
  },
  {
   "cell_type": "code",
   "execution_count": null,
   "metadata": {},
   "outputs": [],
   "source": [
    "# Agora xa podemos analizar a distribución dos datos en función da marca/compañía\n",
    "fig = plt.figure(1, (18, 4))\n",
    "\n",
    "ax1 = plt.subplot(1,1,1)\n",
    "sns.countplot(data=df_cat,x='car_company', order=df_cat['car_company'].value_counts().index)\n",
    "ax1.set_xticklabels(ax1.get_xticklabels(), rotation=75)\n",
    "\n",
    "plt.show()"
   ]
  },
  {
   "cell_type": "code",
   "execution_count": null,
   "metadata": {},
   "outputs": [],
   "source": [
    "df_cat.car_company.value_counts()[:2]"
   ]
  },
  {
   "cell_type": "code",
   "execution_count": null,
   "metadata": {},
   "outputs": [],
   "source": [
    "# NOVA INFORMACIÓN EXTRAÍDA DA ANÁLISE  -- Insights\n",
    "\n",
    "# - car_name ten demasiadas categorías, practicamente unha por liña, polo que non nos daría ningunha información útil\n",
    "# - creamos unha nova variable 'car_company' para as marcas dos coches, reducindo en gran medida o número de categorías\n",
    "# - a distribución de car_company non é uniforme e poucas compañías abarcan a maior parte dos modelos de coche"
   ]
  },
  {
   "cell_type": "code",
   "execution_count": null,
   "metadata": {},
   "outputs": [],
   "source": [
    "# CONCLUSIÓNS\n",
    "\n",
    "# * Todos os atributos categóricos (excepto model_year) están moi desbalanceados e lonxe da distribución uniforme.\n",
    "# * En todos os datos concéntranse en poucas categorías"
   ]
  },
  {
   "cell_type": "code",
   "execution_count": null,
   "metadata": {},
   "outputs": [],
   "source": []
  }
 ],
 "metadata": {
  "interpreter": {
   "hash": "2eaf50c46cca8d47f8fbdccf847348d8678fdaff72e1c7be6ae8fbe014f877f9"
  },
  "kernelspec": {
   "display_name": "Python 3.8.12 64-bit ('SistemasBigData': conda)",
   "language": "python",
   "name": "python3"
  },
  "language_info": {
   "codemirror_mode": {
    "name": "ipython",
    "version": 3
   },
   "file_extension": ".py",
   "mimetype": "text/x-python",
   "name": "python",
   "nbconvert_exporter": "python",
   "pygments_lexer": "ipython3",
   "version": "3.8.12"
  },
  "orig_nbformat": 4
 },
 "nbformat": 4,
 "nbformat_minor": 2
}
