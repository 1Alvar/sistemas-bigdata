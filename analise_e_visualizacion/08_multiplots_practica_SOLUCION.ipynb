{
 "cells": [
  {
   "cell_type": "markdown",
   "metadata": {},
   "source": [
    "### Multiplots"
   ]
  },
  {
   "cell_type": "code",
   "execution_count": null,
   "metadata": {},
   "outputs": [],
   "source": [
    "# Carga o datasets de datos sobre seguros\n",
    "# datasets <- insurance.csv"
   ]
  },
  {
   "cell_type": "code",
   "execution_count": null,
   "metadata": {},
   "outputs": [],
   "source": [
    "import pandas as pd\n",
    "import matplotlib.pyplot as plt\n",
    "import seaborn as sns"
   ]
  },
  {
   "cell_type": "code",
   "execution_count": null,
   "metadata": {},
   "outputs": [],
   "source": [
    "seguros = pd.read_csv('../datasets/insurance.csv')\n",
    "seguros.head()"
   ]
  },
  {
   "cell_type": "code",
   "execution_count": null,
   "metadata": {},
   "outputs": [],
   "source": [
    "seguros.info()"
   ]
  },
  {
   "cell_type": "code",
   "execution_count": null,
   "metadata": {},
   "outputs": [],
   "source": [
    "# Pinta nun multiplot gráficos de dispersión de \"charges\" en función das diferentes variables numéricas\n",
    "# Axusta tamaños, títulos, etc"
   ]
  },
  {
   "cell_type": "code",
   "execution_count": null,
   "metadata": {},
   "outputs": [],
   "source": [
    "numericas = list(seguros.select_dtypes(exclude=['object']).columns)\n",
    "figure, axes = plt.subplots(1,len(numericas),figsize=(20,10))\n",
    "figure.suptitle('Cargos segundo diferentes variables numéricas')\n",
    "\n",
    "i=0\n",
    "for variable in numericas:\n",
    "    sns.scatterplot(ax=axes[i], data=seguros, x=variable, y='charges')\n",
    "    i = i+1\n"
   ]
  },
  {
   "cell_type": "code",
   "execution_count": null,
   "metadata": {},
   "outputs": [],
   "source": [
    "# Pinta nun multiplot gráficos de distribución de \"charges\" con diferentes \"hues\" (sex, smoker...)\n",
    "# Axusta tamaños, títulos, etc"
   ]
  },
  {
   "cell_type": "code",
   "execution_count": null,
   "metadata": {},
   "outputs": [],
   "source": [
    "categoricas = list(seguros.select_dtypes(include=['object']).columns)\n",
    "figure, axes = plt.subplots(1,len(categoricas),figsize=(20,10))\n",
    "figure.suptitle('Distribucións de cargos')\n",
    "\n",
    "i=0\n",
    "for variable in categoricas:\n",
    "    sns.kdeplot(ax=axes[i], data=seguros, x='charges',hue=variable)\n",
    "    i = i+1"
   ]
  },
  {
   "cell_type": "code",
   "execution_count": null,
   "metadata": {},
   "outputs": [],
   "source": [
    "# Pinta un multiplot con diferentes tipos de gŕaficas sobre \"charges\", por exemplo: histograma, kde, boxplot"
   ]
  },
  {
   "cell_type": "code",
   "execution_count": null,
   "metadata": {},
   "outputs": [],
   "source": [
    "figure, axes = plt.subplots(2,2,figsize=(10,10))\n",
    "figure.suptitle('Diferentes vistas sobre \"charges\"')\n",
    "\n",
    "sns.histplot(ax=axes[0,0], data=seguros, x='charges')\n",
    "axes[0,0].set_title('Histograma')\n",
    "\n",
    "sns.kdeplot(ax=axes[0,1],  data=seguros, x='charges')\n",
    "axes[0,1].set_title('KDE - Kernel Density Estimation')\n",
    "\n",
    "sns.ecdfplot(ax=axes[1,0],  data=seguros, x='charges')\n",
    "axes[1,0].set_title('ECDF - Empirical Cumulative Distribution Function')\n",
    "\n",
    "sns.boxplot(ax=axes[1,1],  data=seguros, x='charges')\n",
    "axes[1,1].set_title('ECDF - Empirical Cumulative Distribution Function')"
   ]
  },
  {
   "cell_type": "code",
   "execution_count": null,
   "metadata": {},
   "outputs": [],
   "source": []
  }
 ],
 "metadata": {
  "interpreter": {
   "hash": "2eaf50c46cca8d47f8fbdccf847348d8678fdaff72e1c7be6ae8fbe014f877f9"
  },
  "kernelspec": {
   "display_name": "Python 3.8.12 ('SistemasBigData')",
   "language": "python",
   "name": "python3"
  },
  "language_info": {
   "codemirror_mode": {
    "name": "ipython",
    "version": 3
   },
   "file_extension": ".py",
   "mimetype": "text/x-python",
   "name": "python",
   "nbconvert_exporter": "python",
   "pygments_lexer": "ipython3",
   "version": "3.8.12"
  },
  "orig_nbformat": 4
 },
 "nbformat": 4,
 "nbformat_minor": 2
}
