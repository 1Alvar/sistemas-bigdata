{
 "cells": [
  {
   "cell_type": "code",
   "execution_count": 1,
   "id": "1131eb22-8044-4182-b3a4-66a5da1cdfad",
   "metadata": {},
   "outputs": [],
   "source": [
    "# Utiliza a API covid de Narrativa para descargar datos de Francia, España e Portugal correspondentes ao último ano (365 días)\n",
    "# Ollo porque terás que programar diferentes descargas para que o servidor responda\n",
    "# O obxectivo é crear un dataframe cos datos deses 3 países no último ano, sobre os que realizar logo algo de análise estatístico\n",
    "# Os datos que tes que descargar son as actualizacións diarias:\n",
    "# - today_new_confirmed\n",
    "# - today_new_deaths"
   ]
  },
  {
   "cell_type": "code",
   "execution_count": null,
   "id": "e38c699f-2a02-441b-be3b-69152e58a20d",
   "metadata": {},
   "outputs": [],
   "source": []
  },
  {
   "cell_type": "code",
   "execution_count": null,
   "id": "5fba9769-c16f-46ff-9e8b-edfa79b9916b",
   "metadata": {},
   "outputs": [],
   "source": [
    "# 1.Calcula a media de novos casos ao día"
   ]
  },
  {
   "cell_type": "code",
   "execution_count": null,
   "id": "dd804d71-33f8-4448-8e2c-a1678ad0b492",
   "metadata": {},
   "outputs": [],
   "source": []
  },
  {
   "cell_type": "code",
   "execution_count": 2,
   "id": "dd0da431-d1fc-495e-bba7-b1bf0b4ed34f",
   "metadata": {},
   "outputs": [],
   "source": [
    "# 2.Calcula a media de mortes ao día"
   ]
  },
  {
   "cell_type": "code",
   "execution_count": null,
   "id": "e9d54cd0-fff4-4fa9-b161-6e99d43cb391",
   "metadata": {},
   "outputs": [],
   "source": []
  },
  {
   "cell_type": "code",
   "execution_count": 3,
   "id": "0cde44c4-5ba6-4680-8eee-316300319119",
   "metadata": {},
   "outputs": [],
   "source": [
    "# 3.Calcula o número máximo de casos"
   ]
  },
  {
   "cell_type": "code",
   "execution_count": null,
   "id": "348bc1c0-e21b-44f1-85d1-70a9cf305e56",
   "metadata": {},
   "outputs": [],
   "source": []
  },
  {
   "cell_type": "code",
   "execution_count": 4,
   "id": "eb023e90-0ee6-4c4c-bac2-bd87adbc4d90",
   "metadata": {},
   "outputs": [],
   "source": [
    "# 4.Calcula o número medio de casos separado por grupos"
   ]
  },
  {
   "cell_type": "code",
   "execution_count": null,
   "id": "0fb785d5-414d-4e0e-b512-31f8239bc138",
   "metadata": {},
   "outputs": [],
   "source": []
  },
  {
   "cell_type": "code",
   "execution_count": 5,
   "id": "a4c395aa-0586-46a0-a2ad-b13496673b5a",
   "metadata": {},
   "outputs": [],
   "source": [
    "# 5.Existe unha correlación entre número de novos casos e mortes?"
   ]
  },
  {
   "cell_type": "code",
   "execution_count": null,
   "id": "754340ea-7d18-4d3b-9e95-66bc61c8ca52",
   "metadata": {},
   "outputs": [],
   "source": []
  },
  {
   "cell_type": "code",
   "execution_count": 6,
   "id": "2ce3fa93-abbb-4fe2-8cb4-e8725e4f1469",
   "metadata": {},
   "outputs": [],
   "source": [
    "# 6.No caso de que exista unha relación, en que país é maior?"
   ]
  },
  {
   "cell_type": "code",
   "execution_count": null,
   "id": "18ee16a4-251c-41e9-8ae8-f1ad7898fd7c",
   "metadata": {},
   "outputs": [],
   "source": []
  },
  {
   "cell_type": "code",
   "execution_count": 7,
   "id": "c5d878e3-1a4c-4ced-a6b5-3b15758bc4fe",
   "metadata": {},
   "outputs": [],
   "source": [
    "# 7.Cal é a mediana de casos confirmados en Portugal?"
   ]
  },
  {
   "cell_type": "code",
   "execution_count": null,
   "id": "cfd397ce-fff8-4a30-8fa9-0aa4093fc8e1",
   "metadata": {},
   "outputs": [],
   "source": []
  },
  {
   "cell_type": "code",
   "execution_count": 9,
   "id": "f210adca-4ae3-44ce-83e0-e469d32febf2",
   "metadata": {},
   "outputs": [],
   "source": [
    "# 8.Cales son os valores dos percentís Q1 e Q3 de Francia para o número de contaxios"
   ]
  },
  {
   "cell_type": "code",
   "execution_count": null,
   "id": "00dc3dfe-8d73-493e-aed8-f8bd02dbe950",
   "metadata": {},
   "outputs": [],
   "source": []
  },
  {
   "cell_type": "code",
   "execution_count": 10,
   "id": "3525da69-544f-4c0b-8863-f846d93d97b9",
   "metadata": {},
   "outputs": [],
   "source": [
    "# 9. Cantos valores diferentes hai para o número de contaxios nun día en cada un dos países"
   ]
  },
  {
   "cell_type": "code",
   "execution_count": null,
   "id": "5ddb9bc5-0bb7-45c2-9e85-e02e30880b57",
   "metadata": {},
   "outputs": [],
   "source": []
  },
  {
   "cell_type": "code",
   "execution_count": 11,
   "id": "f663df1d-0a4b-4ea0-bc22-ab246e670f79",
   "metadata": {},
   "outputs": [],
   "source": [
    "# 10. Valor mínimo e máximo de contaxios por día para cada país"
   ]
  },
  {
   "cell_type": "code",
   "execution_count": null,
   "id": "1a3939c3-0962-4864-8e15-f1297739b634",
   "metadata": {},
   "outputs": [],
   "source": []
  }
 ],
 "metadata": {
  "kernelspec": {
   "display_name": "Python 3 (ipykernel)",
   "language": "python",
   "name": "python3"
  },
  "language_info": {
   "codemirror_mode": {
    "name": "ipython",
    "version": 3
   },
   "file_extension": ".py",
   "mimetype": "text/x-python",
   "name": "python",
   "nbconvert_exporter": "python",
   "pygments_lexer": "ipython3",
   "version": "3.8.12"
  }
 },
 "nbformat": 4,
 "nbformat_minor": 5
}
