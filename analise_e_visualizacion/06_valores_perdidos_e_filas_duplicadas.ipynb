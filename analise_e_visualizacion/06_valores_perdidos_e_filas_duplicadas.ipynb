{
 "cells": [
  {
   "cell_type": "markdown",
   "metadata": {},
   "source": [
    "Valores perdidos (missing values) e filas duplicadas"
   ]
  },
  {
   "cell_type": "code",
   "execution_count": null,
   "metadata": {},
   "outputs": [],
   "source": [
    "# En ocasións os nosos datos conteñen filas duplicadas ou faltan algúns datos. Estas alteracións\n",
    "# poden influír nas nosas análises, polo que requiren un tratamento axeitado."
   ]
  },
  {
   "cell_type": "code",
   "execution_count": null,
   "metadata": {},
   "outputs": [],
   "source": [
    "# A solución máis fácil (que non a máis axeitada) será sempre a eliminación dos valores perdidos"
   ]
  },
  {
   "cell_type": "code",
   "execution_count": null,
   "metadata": {},
   "outputs": [],
   "source": [
    "import pandas as pd\n",
    "import numpy as np"
   ]
  },
  {
   "cell_type": "code",
   "execution_count": null,
   "metadata": {},
   "outputs": [],
   "source": [
    "# Ficheiro con datos numéricos sobre niveis de contaminación\n",
    "niveis = pd.read_csv('../datasets/niveis_de_contaminacion.csv')\n",
    "niveis.info()"
   ]
  },
  {
   "cell_type": "code",
   "execution_count": null,
   "metadata": {},
   "outputs": [],
   "source": [
    "niveis"
   ]
  },
  {
   "cell_type": "code",
   "execution_count": null,
   "metadata": {},
   "outputs": [],
   "source": [
    "# mostramos número de nulls por columna\n",
    "niveis.isnull().sum()"
   ]
  },
  {
   "cell_type": "code",
   "execution_count": null,
   "metadata": {},
   "outputs": [],
   "source": [
    "# podemos eliminar directamente todas aquelas filas que tñen valores nulos\n",
    "niveis.dropna()"
   ]
  },
  {
   "cell_type": "code",
   "execution_count": null,
   "metadata": {},
   "outputs": [],
   "source": [
    "# Ficheiro con datos categóricos sobre datos de compras\n",
    "compras = pd.read_csv('../datasets/patron_de_compra_con_null.csv', index_col=0)\n",
    "compras.info()"
   ]
  },
  {
   "cell_type": "code",
   "execution_count": null,
   "metadata": {},
   "outputs": [],
   "source": [
    "compras"
   ]
  },
  {
   "cell_type": "code",
   "execution_count": null,
   "metadata": {},
   "outputs": [],
   "source": [
    "# Como borrar filas que teñan valores perdidos\n",
    "compras_sen_nulos = compras.dropna()\n",
    "compras_sen_nulos"
   ]
  },
  {
   "cell_type": "code",
   "execution_count": null,
   "metadata": {},
   "outputs": [],
   "source": [
    "# De xeito predeterminado dropna() aplícase ás filas\n",
    "# Se queremos eliminar as columnas con valores null, indicamos o axis 1\n",
    "compras_sen_columnas_null = compras.dropna(axis=1)\n",
    "compras_sen_columnas_null"
   ]
  },
  {
   "cell_type": "code",
   "execution_count": null,
   "metadata": {},
   "outputs": [],
   "source": [
    "# Perder unha columna pode significar demasiado, polo que podemos establecer un límite ou limiar para \n",
    "# eliminar ou manter a columna. \n",
    "# Thresh/Threshold indica o número mínimo de valores NOT NULL que preciso para manter a columna\n",
    "compras_sen_algunhas_columnas = compras.dropna(axis=1, thresh=12)\n",
    "compras_sen_algunhas_columnas\n",
    "## modificar o threshold"
   ]
  },
  {
   "cell_type": "code",
   "execution_count": null,
   "metadata": {},
   "outputs": [],
   "source": [
    "# Detección de filas duplicadas"
   ]
  },
  {
   "cell_type": "code",
   "execution_count": null,
   "metadata": {},
   "outputs": [],
   "source": [
    "# De novo, dataframe: niveis\n",
    "niveis"
   ]
  },
  {
   "cell_type": "code",
   "execution_count": null,
   "metadata": {},
   "outputs": [],
   "source": [
    "# Duplicated devolve unha serie que indica as filas duplicacadas\n",
    "niveis.duplicated()"
   ]
  },
  {
   "cell_type": "code",
   "execution_count": null,
   "metadata": {},
   "outputs": [],
   "source": [
    "niveis[niveis.duplicated()]"
   ]
  },
  {
   "cell_type": "code",
   "execution_count": null,
   "metadata": {},
   "outputs": [],
   "source": [
    "# Para eliminar filas duplicadas temos unha función específica: drop_duplicates\n",
    "niveis.drop_duplicates()"
   ]
  },
  {
   "cell_type": "code",
   "execution_count": null,
   "metadata": {},
   "outputs": [],
   "source": [
    "niveis_novo = niveis.drop_duplicates()"
   ]
  },
  {
   "cell_type": "code",
   "execution_count": null,
   "metadata": {},
   "outputs": [],
   "source": [
    "# A maiores podo elminar filas con poucos datos útiles (fíxate na liña 32)\n",
    "niveis_novo = niveis_novo.dropna(thresh=8)"
   ]
  },
  {
   "cell_type": "code",
   "execution_count": null,
   "metadata": {},
   "outputs": [],
   "source": [
    "niveis_novo"
   ]
  },
  {
   "cell_type": "code",
   "execution_count": null,
   "metadata": {},
   "outputs": [],
   "source": [
    "# Calculamos algúns estatísticos sobre os datos orixinais\n",
    "niveis.mean()"
   ]
  },
  {
   "cell_type": "code",
   "execution_count": null,
   "metadata": {},
   "outputs": [],
   "source": [
    "niveis.std()"
   ]
  },
  {
   "cell_type": "code",
   "execution_count": null,
   "metadata": {},
   "outputs": [],
   "source": [
    "niveis.agg(['mean','std'])"
   ]
  },
  {
   "cell_type": "code",
   "execution_count": null,
   "metadata": {},
   "outputs": [],
   "source": [
    "# Podemos comprobar o efecto que a limpeza dos datos ten sobre o cálculo dos estatísticos"
   ]
  },
  {
   "cell_type": "code",
   "execution_count": null,
   "metadata": {},
   "outputs": [],
   "source": [
    "niveis_novo.agg(['mean','std'])"
   ]
  },
  {
   "cell_type": "code",
   "execution_count": null,
   "metadata": {},
   "outputs": [],
   "source": []
  },
  {
   "cell_type": "code",
   "execution_count": null,
   "metadata": {},
   "outputs": [],
   "source": [
    "# Ante a aparición de valores perdidos (missing values) podemos decidir o seu reemprazo\n",
    "# É importante escoller a técnica axeitada en cada caso, pois un reemprazo non adecuado\n",
    "# pode mofificar outros resultados de xeito indesexado."
   ]
  },
  {
   "cell_type": "code",
   "execution_count": null,
   "metadata": {},
   "outputs": [],
   "source": [
    "# Algunhas técnicas de reemprazo (con valores numéricos)\n",
    "# - reemprazo con valor fixo (cero?)\n",
    "# - reemprazo coa media da columna\n",
    "# - reemprazo coa mediana da columna"
   ]
  },
  {
   "cell_type": "code",
   "execution_count": null,
   "metadata": {},
   "outputs": [],
   "source": [
    "# Cargamos de novo os datos de contaminación\n",
    "niveis = pd.read_csv('../datasets/niveis_de_contaminacion.csv')"
   ]
  },
  {
   "cell_type": "code",
   "execution_count": null,
   "metadata": {},
   "outputs": [],
   "source": [
    "niveis.info()"
   ]
  },
  {
   "cell_type": "code",
   "execution_count": null,
   "metadata": {},
   "outputs": [],
   "source": [
    "niveis"
   ]
  },
  {
   "cell_type": "code",
   "execution_count": null,
   "metadata": {},
   "outputs": [],
   "source": [
    "# Reemprazo de valores perdidos con un valor fixo"
   ]
  },
  {
   "cell_type": "code",
   "execution_count": null,
   "metadata": {},
   "outputs": [],
   "source": [
    "# reemprazo con cero -> función \"fillna()\"\n",
    "niveis_zero = niveis.fillna(0)\n",
    "niveis_zero"
   ]
  },
  {
   "cell_type": "code",
   "execution_count": null,
   "metadata": {},
   "outputs": [],
   "source": [
    "# reemprazo coa media de cada columna\n",
    "niveis_media = niveis.apply(lambda x: x.fillna(x.mean()), axis=0)\n",
    "# axis = 0 <- aplicamos ás columnas\n",
    "# x.mean() <- calcula a media da columna\n",
    "# x.fillna() <- substitúe os valores nulos\n",
    "# O importante é ter claro que en este caso a función lambda se aplica ás columnas (x)\n",
    "niveis_media"
   ]
  },
  {
   "cell_type": "code",
   "execution_count": null,
   "metadata": {},
   "outputs": [],
   "source": [
    "# reemprazo coa media de cada columna\n",
    "niveis_mediana = niveis.apply(lambda x: x.fillna(x.median()), axis=0)\n",
    "niveis_mediana"
   ]
  },
  {
   "cell_type": "code",
   "execution_count": null,
   "metadata": {},
   "outputs": [],
   "source": [
    "# Exemplo con ficheiro con variables categóricas\n",
    "compras = pd.read_csv('../datasets/patron_de_compra_con_null.csv', index_col=0)\n",
    "compras.info()"
   ]
  },
  {
   "cell_type": "code",
   "execution_count": null,
   "metadata": {},
   "outputs": [],
   "source": [
    "compras"
   ]
  },
  {
   "cell_type": "code",
   "execution_count": null,
   "metadata": {},
   "outputs": [],
   "source": [
    "# Con que valores reemprazar os datos categóricos?\n",
    "# - Descoñecido\n",
    "# - Valores da fila anterior ou posterior"
   ]
  },
  {
   "cell_type": "code",
   "execution_count": null,
   "metadata": {},
   "outputs": [],
   "source": [
    "compras.Profesion.fillna('Descoñecido', inplace=True)\n",
    "compras"
   ]
  },
  {
   "cell_type": "code",
   "execution_count": null,
   "metadata": {},
   "outputs": [],
   "source": [
    "# reemprazo con valores da fila anterior\n",
    "compras_anterior = compras.fillna(method='ffill')\n",
    "compras_anterior"
   ]
  },
  {
   "cell_type": "code",
   "execution_count": null,
   "metadata": {},
   "outputs": [],
   "source": [
    "# reemprazo don valores da fila posterios\n",
    "compras_seguinte = compras.fillna(method='bfill')\n",
    "compras_seguinte\n",
    "# ollo coa última fila!"
   ]
  },
  {
   "cell_type": "code",
   "execution_count": null,
   "metadata": {},
   "outputs": [],
   "source": []
  }
 ],
 "metadata": {
  "interpreter": {
   "hash": "2eaf50c46cca8d47f8fbdccf847348d8678fdaff72e1c7be6ae8fbe014f877f9"
  },
  "kernelspec": {
   "display_name": "Python 3.8.12 ('SistemasBigData')",
   "language": "python",
   "name": "python3"
  },
  "language_info": {
   "codemirror_mode": {
    "name": "ipython",
    "version": 3
   },
   "file_extension": ".py",
   "mimetype": "text/x-python",
   "name": "python",
   "nbconvert_exporter": "python",
   "pygments_lexer": "ipython3",
   "version": "3.8.12"
  },
  "orig_nbformat": 4
 },
 "nbformat": 4,
 "nbformat_minor": 2
}
