{
 "cells": [
  {
   "cell_type": "markdown",
   "id": "8cc94896-5d3d-453d-b71e-ad27e7326dba",
   "metadata": {},
   "source": [
    "###  Scatter Plots - Gráficos de dispersión"
   ]
  },
  {
   "cell_type": "code",
   "execution_count": null,
   "id": "c8c22402-0e91-410a-bad3-4a2ac7aa3d36",
   "metadata": {},
   "outputs": [],
   "source": [
    "# Os gráficos de dispersión son útiles para coñecer a relación entre dúas variables CONTÍNUAS\n",
    "# Podemos engadir unha terceira variable categórica (mediante cores, ou con outro tipo de gráficos)"
   ]
  },
  {
   "cell_type": "code",
   "execution_count": null,
   "id": "9fd8ddea",
   "metadata": {},
   "outputs": [],
   "source": [
    "# Exemplo tomado de kaggle: data visualizations tutoriails\n",
    "# https://www.kaggle.com/learn/data-visualization"
   ]
  },
  {
   "cell_type": "code",
   "execution_count": null,
   "id": "161ec80d-1c6c-4a92-8183-deef4bdf08aa",
   "metadata": {},
   "outputs": [],
   "source": []
  },
  {
   "cell_type": "code",
   "execution_count": null,
   "id": "59fdfec8",
   "metadata": {},
   "outputs": [],
   "source": [
    "# Carga o dataset coa información do experimento sobre chuches\n",
    "# https://fivethirtyeight.com/videos/the-ultimate-halloween-candy-power-ranking/\n",
    "# candy.csv <- dispoñible no repositorio en datasets"
   ]
  },
  {
   "cell_type": "code",
   "execution_count": null,
   "id": "6ed4ca0f-d7bc-41a2-83c1-0c8bc21d051c",
   "metadata": {},
   "outputs": [],
   "source": [
    "\n"
   ]
  },
  {
   "cell_type": "code",
   "execution_count": null,
   "id": "1cb0374c",
   "metadata": {},
   "outputs": [],
   "source": [
    "# Bota unha ollada ao dataset"
   ]
  },
  {
   "cell_type": "code",
   "execution_count": null,
   "id": "2b01034c-7f57-4b46-83e8-8f834db9f9a6",
   "metadata": {},
   "outputs": [],
   "source": []
  },
  {
   "cell_type": "markdown",
   "id": "2d0a233c",
   "metadata": {},
   "source": [
    "The dataset contains 83 rows, where each corresponds to a different candy bar. There are 13 columns:\n",
    "\n",
    "\n",
    "- 'competitorname' contains the name of the candy bar.\n",
    "- the next 9 columns (from 'chocolate' to 'pluribus') describe the candy. For instance, rows with chocolate candies have \"Yes\" in the - - 'chocolate' column (and candies without chocolate have \"No\" in the same column).\n",
    "- 'sugarpercent' provides some indication of the amount of sugar, where higher values signify higher sugar content.\n",
    "- 'pricepercent' shows the price per unit, relative to the other candies in the dataset.\n",
    "- 'winpercent' is calculated from the survey results; higher values indicate that the candy was more popular with survey respondents.\n"
   ]
  },
  {
   "cell_type": "code",
   "execution_count": null,
   "id": "67b0a9f3",
   "metadata": {},
   "outputs": [],
   "source": [
    "# Cal é a chuche máis cara? (pricepercent)"
   ]
  },
  {
   "cell_type": "code",
   "execution_count": null,
   "id": "7aa83968",
   "metadata": {},
   "outputs": [],
   "source": []
  },
  {
   "cell_type": "code",
   "execution_count": null,
   "id": "333228e2",
   "metadata": {},
   "outputs": [],
   "source": [
    "# Cales son as 5 chuches peor valoradas? (winpercent)"
   ]
  },
  {
   "cell_type": "code",
   "execution_count": null,
   "id": "465b2a5d",
   "metadata": {},
   "outputs": [],
   "source": []
  },
  {
   "cell_type": "code",
   "execution_count": null,
   "id": "6d93a9bf",
   "metadata": {},
   "outputs": [],
   "source": [
    "# Prefire a xente chuches con máis azucre?\n",
    "# Investiga a relación entre as dúas variables"
   ]
  },
  {
   "cell_type": "code",
   "execution_count": null,
   "id": "2334b587-e104-40e6-95cd-14da6a46a074",
   "metadata": {},
   "outputs": [],
   "source": [
    "sns.scatterplot(x=candy_data.sugarpercent, y=candy_data.winpercent)"
   ]
  },
  {
   "cell_type": "code",
   "execution_count": null,
   "id": "07e83926",
   "metadata": {},
   "outputs": [],
   "source": []
  },
  {
   "cell_type": "code",
   "execution_count": null,
   "id": "4a2926e5",
   "metadata": {},
   "outputs": [],
   "source": [
    "# Mostra a forza da correlación entre as dúas variables, agora cunha recta de regresión"
   ]
  },
  {
   "cell_type": "code",
   "execution_count": null,
   "id": "29014f08-4485-43ac-b2ae-a9ff3cf24db5",
   "metadata": {},
   "outputs": [],
   "source": []
  },
  {
   "cell_type": "code",
   "execution_count": null,
   "id": "8b7540c8",
   "metadata": {},
   "outputs": [],
   "source": [
    "# Dirías que se trata dunha correlación forte ou feble"
   ]
  },
  {
   "cell_type": "code",
   "execution_count": null,
   "id": "c98a23d2",
   "metadata": {},
   "outputs": [],
   "source": []
  },
  {
   "cell_type": "code",
   "execution_count": null,
   "id": "fce69927",
   "metadata": {},
   "outputs": [],
   "source": [
    "# Mostra a relación entre o prezo e a popularidade dunha chuches\n",
    "# Nesta ocasión utiliza a variable categórica \"chocolate\""
   ]
  },
  {
   "cell_type": "code",
   "execution_count": null,
   "id": "1f6c5d91-4083-4d77-81a2-1ee1ab18442a",
   "metadata": {},
   "outputs": [],
   "source": []
  },
  {
   "cell_type": "code",
   "execution_count": null,
   "id": "4c82fdbb",
   "metadata": {},
   "outputs": [],
   "source": [
    "# Detectas algún patrón interesante?"
   ]
  },
  {
   "cell_type": "code",
   "execution_count": null,
   "id": "cc786f98",
   "metadata": {},
   "outputs": [],
   "source": []
  },
  {
   "cell_type": "code",
   "execution_count": null,
   "id": "e3dbc6bb",
   "metadata": {},
   "outputs": [],
   "source": [
    "# Utiliza rectas de regresión para aclarar as relacións entre as variables\n",
    "# tendo en conta a variable \"chocolate\""
   ]
  },
  {
   "cell_type": "code",
   "execution_count": null,
   "id": "058a225a-944d-44a7-b892-d3c3123ba196",
   "metadata": {},
   "outputs": [],
   "source": []
  },
  {
   "cell_type": "code",
   "execution_count": null,
   "id": "79d4d10e",
   "metadata": {},
   "outputs": [],
   "source": [
    "# Que conclusión tomas a raíz destes gráficos"
   ]
  },
  {
   "cell_type": "code",
   "execution_count": null,
   "id": "7c78ee81",
   "metadata": {},
   "outputs": [],
   "source": []
  }
 ],
 "metadata": {
  "kernelspec": {
   "display_name": "Python 3 (ipykernel)",
   "language": "python",
   "name": "python3"
  },
  "language_info": {
   "codemirror_mode": {
    "name": "ipython",
    "version": 3
   },
   "file_extension": ".py",
   "mimetype": "text/x-python",
   "name": "python",
   "nbconvert_exporter": "python",
   "pygments_lexer": "ipython3",
   "version": "3.8.12"
  }
 },
 "nbformat": 4,
 "nbformat_minor": 5
}
