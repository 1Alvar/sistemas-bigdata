{
 "cells": [
  {
   "cell_type": "code",
   "execution_count": null,
   "id": "1131eb22-8044-4182-b3a4-66a5da1cdfad",
   "metadata": {},
   "outputs": [],
   "source": [
    "# Utiliza a API covid de Narrativa para descargar datos de Francia, España e Portugal correspondentes ao último ano (365 días)\n",
    "# Ollo porque terás que programar diferentes descargas para que o servidor responda\n",
    "# O obxectivo é crear un dataframe cos datos deses 3 países no último ano, sobre os que realizar logo algo de análise estatístico\n",
    "# Os datos que tes que descargar son as actualizacións diarias:\n",
    "# - today_new_confirmed\n",
    "# - today_new_deaths"
   ]
  },
  {
   "cell_type": "code",
   "execution_count": null,
   "id": "e38c699f-2a02-441b-be3b-69152e58a20d",
   "metadata": {},
   "outputs": [],
   "source": [
    "import requests\n",
    "import pandas as pd\n",
    "import datetime"
   ]
  },
  {
   "cell_type": "code",
   "execution_count": null,
   "id": "be26dbbb-0217-4ab4-af68-dad5c16cdb7a",
   "metadata": {},
   "outputs": [],
   "source": [
    "# Descarga dos datos\n",
    "lista_paises = ['Spain','Portugal','France']\n",
    "url_base = 'https://api.covid19tracking.narrativa.com/api/'\n",
    "\n",
    "df = pd.DataFrame()\n",
    "\n",
    "for pais in lista_paises:\n",
    "\n",
    "    url = url_base+'/country/'+pais\n",
    "\n",
    "    data_ini = datetime.datetime(2021,1,1)\n",
    "    #creo unha \"lista coas datas finais de cada mes\"\n",
    "    finais = pd.date_range(start='2021/1/1', periods=12, freq='M')\n",
    "    #finais = pd.date_range(start='2021/1/1', periods=3, freq='M')\n",
    "\n",
    "    for data_fin in finais:\n",
    "        #print(data_ini.strftime('%Y-%m-%d'),data_fin.strftime('%Y-%m-%d'))\n",
    "    \n",
    "        payload = {'date_from': data_ini, 'date_to': data_fin }\n",
    "        response = requests.get(url, params = payload)\n",
    "    \n",
    "        lista_datos= []\n",
    "        for dia in response.json()['dates']:\n",
    "            contaxios = response.json()['dates'][dia]['countries'][pais]['today_new_confirmed']\n",
    "            mortes = response.json()['dates'][dia]['countries'][pais]['today_new_deaths']\n",
    "            lista_datos.append([dia,pais,contaxios,mortes])\n",
    "    \n",
    "        df = pd.concat([df,pd.DataFrame(lista_datos,columns=['dia','pais','contaxios','mortes'])],ignore_index=True)\n",
    "        \n",
    "        #actualizo a data inicial, que será o seguinte día á data final actual\n",
    "        data_ini = data_fin + datetime.timedelta(days=1)"
   ]
  },
  {
   "cell_type": "code",
   "execution_count": null,
   "id": "7ebdfe20-672e-4ea8-8828-7eb5e26dcc12",
   "metadata": {},
   "outputs": [],
   "source": [
    "df.sample(5)"
   ]
  },
  {
   "cell_type": "code",
   "execution_count": null,
   "id": "dd9b8b00-5d46-438b-a6b1-bb8c9e5a52ba",
   "metadata": {},
   "outputs": [],
   "source": [
    "df.to_csv('datos_covid2021_3paises.csv')"
   ]
  },
  {
   "cell_type": "code",
   "execution_count": null,
   "id": "76a4afe1-e4a1-49a1-83e6-20ce9b2e8e82",
   "metadata": {},
   "outputs": [],
   "source": [
    "df.info()"
   ]
  },
  {
   "cell_type": "code",
   "execution_count": null,
   "id": "04206931-91f7-4673-9573-ec154e1cfb65",
   "metadata": {},
   "outputs": [],
   "source": [
    "# Limpeza de datos -> eliminación de valores nulos?? Valores a cero?"
   ]
  },
  {
   "cell_type": "code",
   "execution_count": null,
   "id": "8d7bef3b-17cc-482c-b4fa-9e5279fa1ec1",
   "metadata": {},
   "outputs": [],
   "source": []
  },
  {
   "cell_type": "code",
   "execution_count": null,
   "id": "5fba9769-c16f-46ff-9e8b-edfa79b9916b",
   "metadata": {},
   "outputs": [],
   "source": [
    "# 1.Calcula a media de novos casos ao día"
   ]
  },
  {
   "cell_type": "code",
   "execution_count": null,
   "id": "dd804d71-33f8-4448-8e2c-a1678ad0b492",
   "metadata": {},
   "outputs": [],
   "source": [
    "f'A media de novos casos ao día é de {df.contaxios.mean()}'"
   ]
  },
  {
   "cell_type": "code",
   "execution_count": null,
   "id": "dd0da431-d1fc-495e-bba7-b1bf0b4ed34f",
   "metadata": {},
   "outputs": [],
   "source": [
    "# 2.Calcula a media de mortes ao día"
   ]
  },
  {
   "cell_type": "code",
   "execution_count": null,
   "id": "e9d54cd0-fff4-4fa9-b161-6e99d43cb391",
   "metadata": {},
   "outputs": [],
   "source": [
    "f'A media de mortes ao día é de {df.mortes.mean()}'"
   ]
  },
  {
   "cell_type": "code",
   "execution_count": null,
   "id": "0cde44c4-5ba6-4680-8eee-316300319119",
   "metadata": {},
   "outputs": [],
   "source": [
    "# 3.Calcula o número máximo de casos"
   ]
  },
  {
   "cell_type": "code",
   "execution_count": null,
   "id": "348bc1c0-e21b-44f1-85d1-70a9cf305e56",
   "metadata": {},
   "outputs": [],
   "source": [
    "f'O número máximo de casos ao día é de {df.contaxios.max()}'"
   ]
  },
  {
   "cell_type": "code",
   "execution_count": null,
   "id": "eb023e90-0ee6-4c4c-bac2-bd87adbc4d90",
   "metadata": {},
   "outputs": [],
   "source": [
    "# 4.Calcula o número medio de casos separado por grupos"
   ]
  },
  {
   "cell_type": "code",
   "execution_count": null,
   "id": "bafb1f44-792d-4df7-8c32-f551b58186bb",
   "metadata": {},
   "outputs": [],
   "source": [
    "df_grupos_pais = df.groupby('pais')\n",
    "df_grupos_pais.contaxios.mean()"
   ]
  },
  {
   "cell_type": "code",
   "execution_count": null,
   "id": "a4c395aa-0586-46a0-a2ad-b13496673b5a",
   "metadata": {},
   "outputs": [],
   "source": [
    "# 5.Existe unha correlación entre número de novos casos e mortes?"
   ]
  },
  {
   "cell_type": "code",
   "execution_count": null,
   "id": "754340ea-7d18-4d3b-9e95-66bc61c8ca52",
   "metadata": {},
   "outputs": [],
   "source": [
    "df.corr()"
   ]
  },
  {
   "cell_type": "code",
   "execution_count": null,
   "id": "2ce3fa93-abbb-4fe2-8cb4-e8725e4f1469",
   "metadata": {},
   "outputs": [],
   "source": [
    "# 6.No caso de que exista unha relación, en que país é maior?"
   ]
  },
  {
   "cell_type": "code",
   "execution_count": null,
   "id": "18ee16a4-251c-41e9-8ae8-f1ad7898fd7c",
   "metadata": {},
   "outputs": [],
   "source": [
    "df_grupos_pais.corr()"
   ]
  },
  {
   "cell_type": "code",
   "execution_count": null,
   "id": "c5d878e3-1a4c-4ced-a6b5-3b15758bc4fe",
   "metadata": {},
   "outputs": [],
   "source": [
    "# 7.Cal é a mediana de casos confirmados en Portugal?"
   ]
  },
  {
   "cell_type": "code",
   "execution_count": null,
   "id": "cfd397ce-fff8-4a30-8fa9-0aa4093fc8e1",
   "metadata": {},
   "outputs": [],
   "source": [
    "df[df.pais == 'Portugal'].contaxios.median()"
   ]
  },
  {
   "cell_type": "code",
   "execution_count": null,
   "id": "f210adca-4ae3-44ce-83e0-e469d32febf2",
   "metadata": {},
   "outputs": [],
   "source": [
    "# 8.Cales son os valores dos percentís Q1 e Q3 de Francia para o número de contaxios"
   ]
  },
  {
   "cell_type": "code",
   "execution_count": null,
   "id": "00dc3dfe-8d73-493e-aed8-f8bd02dbe950",
   "metadata": {},
   "outputs": [],
   "source": [
    "df[df.pais == 'France'].contaxios.describe()"
   ]
  },
  {
   "cell_type": "code",
   "execution_count": null,
   "id": "3525da69-544f-4c0b-8863-f846d93d97b9",
   "metadata": {},
   "outputs": [],
   "source": [
    "# 9. Cantos valores diferentes hai para o número de contaxios nun día en cada un dos países"
   ]
  },
  {
   "cell_type": "code",
   "execution_count": null,
   "id": "5ddb9bc5-0bb7-45c2-9e85-e02e30880b57",
   "metadata": {},
   "outputs": [],
   "source": [
    "len(df[df.pais == 'France'].contaxios.unique())"
   ]
  },
  {
   "cell_type": "code",
   "execution_count": null,
   "id": "baf08aff-76e7-484e-9514-cb53199a1145",
   "metadata": {},
   "outputs": [],
   "source": [
    "len(df[df.pais == 'Spain'].contaxios.unique())"
   ]
  },
  {
   "cell_type": "code",
   "execution_count": null,
   "id": "d1e1a1c0-271e-4750-8335-c4f1456820ca",
   "metadata": {},
   "outputs": [],
   "source": [
    "len(df[df.pais == 'Portugal'].contaxios.unique())"
   ]
  },
  {
   "cell_type": "code",
   "execution_count": null,
   "id": "f663df1d-0a4b-4ea0-bc22-ab246e670f79",
   "metadata": {},
   "outputs": [],
   "source": [
    "# 10. Valor mínimo e máximo de contaxios por día para cada país"
   ]
  },
  {
   "cell_type": "code",
   "execution_count": null,
   "id": "1a3939c3-0962-4864-8e15-f1297739b634",
   "metadata": {},
   "outputs": [],
   "source": [
    "df_grupos_pais.contaxios.agg(['min','max'])"
   ]
  },
  {
   "cell_type": "code",
   "execution_count": null,
   "id": "964421af-692e-4295-96bd-0db5a542b474",
   "metadata": {},
   "outputs": [],
   "source": []
  }
 ],
 "metadata": {
  "kernelspec": {
   "display_name": "Python 3 (ipykernel)",
   "language": "python",
   "name": "python3"
  },
  "language_info": {
   "codemirror_mode": {
    "name": "ipython",
    "version": 3
   },
   "file_extension": ".py",
   "mimetype": "text/x-python",
   "name": "python",
   "nbconvert_exporter": "python",
   "pygments_lexer": "ipython3",
   "version": "3.8.12"
  }
 },
 "nbformat": 4,
 "nbformat_minor": 5
}
