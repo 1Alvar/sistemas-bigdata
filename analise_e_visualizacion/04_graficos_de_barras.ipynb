{
 "cells": [
  {
   "cell_type": "markdown",
   "metadata": {},
   "source": [
    "# Gráficas de barras"
   ]
  },
  {
   "cell_type": "code",
   "execution_count": null,
   "metadata": {},
   "outputs": [],
   "source": [
    "# API SEABORN - Barplot\n",
    "# https://seaborn.pydata.org/generated/seaborn.barplot.html"
   ]
  },
  {
   "cell_type": "code",
   "execution_count": null,
   "metadata": {},
   "outputs": [],
   "source": [
    "import pandas as pd\n",
    "import seaborn as sns\n",
    "import matplotlib.pyplot as plt"
   ]
  },
  {
   "cell_type": "code",
   "execution_count": null,
   "metadata": {},
   "outputs": [],
   "source": [
    "# Os gráficos de barras representan os valores dunha variable numérica en relación cunha variable categórica,\n",
    "# é dicir, mostra os valores numéricos atendendo aos diferentes niveis.\n",
    "# Nun eixo representa as categorías e no outros os valores.\n",
    "\n",
    "# Os barplots son similares aos histogramas, se ben estes simplemente mostran como se distribúe unha única\n",
    "# variable numérica (sen ter en conta categorías)"
   ]
  },
  {
   "cell_type": "code",
   "execution_count": null,
   "metadata": {},
   "outputs": [],
   "source": [
    "categorias = ['A', 'B', 'C']\n",
    "valores = [1, 5, 3]\n",
    "\n",
    "sns.barplot(x=categorias, y=valores)"
   ]
  },
  {
   "cell_type": "code",
   "execution_count": null,
   "metadata": {},
   "outputs": [],
   "source": [
    "tendas = ['A Coruña', 'Betanzos', 'Oleiros']\n",
    "vendas = [100000, 10000, 30000]\n",
    "\n",
    "sns.barplot(x=tendas, y=vendas)"
   ]
  },
  {
   "cell_type": "code",
   "execution_count": null,
   "metadata": {},
   "outputs": [],
   "source": [
    "# Cando utilizar un gráfico de barras?\n",
    "# Un gráfico de barras é útil para buscar ou poñer en evidencia diferenzas entre os distintos grupos de datos"
   ]
  },
  {
   "cell_type": "code",
   "execution_count": null,
   "metadata": {},
   "outputs": [],
   "source": [
    "# Datos de venda de armas do ano 2020\n",
    "# Orixe: https://www.data-to-viz.com/story/OneNumOneCat.html\n",
    "# SIPRI Arms Industry Database: https://sipri.org/databases/armsindustry\n",
    "\n",
    "df_venda_armas = pd.read_csv('../datasets/venda_armas_paises.csv')\n",
    "df_venda_armas\n"
   ]
  },
  {
   "cell_type": "code",
   "execution_count": null,
   "metadata": {},
   "outputs": [],
   "source": [
    "sns.barplot(data=df_venda_armas, x='country',y='total_sales')"
   ]
  },
  {
   "cell_type": "code",
   "execution_count": null,
   "metadata": {},
   "outputs": [],
   "source": [
    "# Problemas da visualización:\n",
    "# - Non podemos ler os identificadores dos países"
   ]
  },
  {
   "cell_type": "code",
   "execution_count": null,
   "metadata": {},
   "outputs": [],
   "source": [
    "# Aumentamos o tamaño do gráfico\n",
    "plt.figure(figsize=(20,7))\n",
    "sns.barplot(data=df_venda_armas, x='country',y='total_sales', )"
   ]
  },
  {
   "cell_type": "code",
   "execution_count": null,
   "metadata": {},
   "outputs": [],
   "source": [
    "# Segue sen funcionar\n",
    "# Podemos mudar a orientación do gráfico\n",
    "plt.figure(figsize=(12,10))\n",
    "sns.barplot(data=df_venda_armas, y='country',x='total_sales')"
   ]
  },
  {
   "cell_type": "code",
   "execution_count": null,
   "metadata": {},
   "outputs": [],
   "source": [
    "# Problema: é difícil identificar a orde dos países\n",
    "# Solución: ordenar o dataframe\n",
    "df_venda_armas.sort_values(by='total_sales',ascending=False,inplace=True)\n",
    "plt.figure(figsize=(12,10))\n",
    "sns.barplot(data=df_venda_armas, y='country',x='total_sales')"
   ]
  },
  {
   "cell_type": "code",
   "execution_count": null,
   "metadata": {},
   "outputs": [],
   "source": [
    "# Os datos non sempre estarán preparados, senón que teremos que facer cálculos\n",
    "df_armas = pd.read_csv('../datasets/venda_armas_2020.csv',sep=';')\n",
    "df_armas.head()"
   ]
  },
  {
   "cell_type": "code",
   "execution_count": null,
   "metadata": {},
   "outputs": [],
   "source": [
    "df_armas_agrupadas = df_armas.groupby('country',as_index=False)\n",
    "#df_armas_agrupadas = df_armas.groupby('country')\n",
    "df_armas_por_pais = df_armas_agrupadas.sum()\n",
    "df_armas_por_pais"
   ]
  },
  {
   "cell_type": "code",
   "execution_count": null,
   "metadata": {},
   "outputs": [],
   "source": [
    "sns.barplot(data=df_armas_por_pais.sort_values(by='total_sales',ascending=False), y='country',x='total_sales')"
   ]
  },
  {
   "cell_type": "code",
   "execution_count": null,
   "metadata": {},
   "outputs": [],
   "source": [
    "# Os datos non sempre estarán preparados, pero que pasa se os pintamos directamente?\n",
    "df_armas = pd.read_csv('../datasets/venda_armas_2020.csv',sep=';')\n",
    "sns.barplot(data=df_armas_por_pais.sort_values(by='total_sales',ascending=False), y='country',x='total_sales')"
   ]
  },
  {
   "cell_type": "code",
   "execution_count": null,
   "metadata": {},
   "outputs": [],
   "source": [
    "# Barplot calcula medias para calcular os valores correspondentes a cada categoría\n",
    "# No noso caso, que pretendíamos pintar o sumatorio das vendas por país, non é unha solución válida\n",
    "# Podemos indicar a operación que desexamos en lugar do default(avg), e indicar o sumatorio\n",
    "\n",
    "sns.barplot(data=df_armas_por_pais.sort_values(by='total_sales',ascending=False), y='country',x='total_sales',estimator=sum)"
   ]
  },
  {
   "cell_type": "code",
   "execution_count": null,
   "metadata": {},
   "outputs": [],
   "source": [
    "# A pesar de que estamos a representar os sumatorios no noso exemplo, para visualizar cantidades totais,\n",
    "# é moi común utilizar os gráficos de barras para mostrar como se comporta unha variable en función de \n",
    "# certas categorías. Por iso que a función default de barplot sexa a media (avg) ten todo o sentido.\n",
    "\n",
    "# Ademais de pintar as medias, Barplot tamén representa a variabilidade dos valores utilizando unhas liñas\n",
    "# negras que engade ao gráfico."
   ]
  },
  {
   "cell_type": "code",
   "execution_count": null,
   "metadata": {},
   "outputs": [],
   "source": [
    "# Para facer probas carga o famoso dataset cos datos da tripulación do Titanic\n",
    "# Seaborn proporciona algúns \n",
    "df_titanic = sns.load_dataset('titanic')"
   ]
  },
  {
   "cell_type": "code",
   "execution_count": null,
   "metadata": {},
   "outputs": [],
   "source": [
    "df_titanic.head()"
   ]
  },
  {
   "cell_type": "code",
   "execution_count": null,
   "metadata": {},
   "outputs": [],
   "source": [
    "# Podemos visualizar as medias de idade dos diferentes viaxeiros segundo o sexo\n",
    "# Ou dito doutro xeito, podemos respostar á seguinte pregunta:\n",
    "# Existen diferenzas de idade entre os pasaxeiros en relación co sexo?\n",
    "sns.barplot(data = df_titanic, x = 'sex', y= 'age')"
   ]
  },
  {
   "cell_type": "code",
   "execution_count": null,
   "metadata": {},
   "outputs": [],
   "source": [
    "# As tarifas son diferentes para homes e mulleres?\n",
    "sns.barplot(data = df_titanic, x = 'sex', y= 'fare')"
   ]
  },
  {
   "cell_type": "code",
   "execution_count": null,
   "metadata": {},
   "outputs": [],
   "source": [
    "# Podemos considerar variables bool como numéricas. En este caso 'survived' tamén é de tipo numérico\n",
    "# Pregunta: tiñan as mulleres maior probabilidade de sobrevivir á catástrofe?\n",
    "sns.barplot(data = df_titanic, x = 'sex', y= 'survived')"
   ]
  },
  {
   "cell_type": "code",
   "execution_count": null,
   "metadata": {},
   "outputs": [],
   "source": [
    "# Xogar coa orientación pode axudar a acentuar ou decrementar as diferenzas e contrastes\n",
    "# Cal dos gráficos pensas que proxecta unha diferenza maior?\n",
    "sns.barplot(data = df_titanic, y = 'sex', x= 'survived')"
   ]
  },
  {
   "cell_type": "code",
   "execution_count": null,
   "metadata": {},
   "outputs": [],
   "source": [
    "# En relación co tipo de billete dos pasaxeiros, influiu isto nas súas posibilidades de salvación?\n",
    "# Esperabas este resultado?\n",
    "sns.barplot(data = df_titanic, x = 'class', y= 'survived')"
   ]
  },
  {
   "cell_type": "code",
   "execution_count": null,
   "metadata": {},
   "outputs": [],
   "source": [
    "# A idade foi un factor importante á hora de sobrevivir?\n",
    "sns.barplot(data = df_titanic, x = 'age', y= 'survived')"
   ]
  },
  {
   "cell_type": "code",
   "execution_count": null,
   "metadata": {},
   "outputs": [],
   "source": [
    "# Demasiadas categorías para un barplot, non?\n",
    "# Lembra que un barplot é útil para representar valores numéricos fronte a variables categóricas."
   ]
  },
  {
   "cell_type": "code",
   "execution_count": null,
   "metadata": {},
   "outputs": [],
   "source": [
    "# And now, for something completely different..\n",
    "\n",
    "# funcións LAMBDA\n",
    "\n",
    "# As funcións lambda son funcións sen nome que se aplicarán unicamente nuna ocasión, polo que non\n",
    "# paga a pena definilas dun xeito global\n",
    "\n",
    "# Un exemplo moi simple sería unha función lambda que multiplica por 10\n",
    "\n",
    "# ( definición da función lambda)\n",
    "# ( lambda variable: operación sobre a variable)\n",
    "\n",
    "(lambda x: x * 10) (7)\n",
    "\n",
    "# Exemplo: Aplicada á 7 devolve 70\n"
   ]
  },
  {
   "cell_type": "code",
   "execution_count": null,
   "metadata": {},
   "outputs": [],
   "source": [
    "# As funcións lambda aplícanse a dataframes mediante \"apply\""
   ]
  },
  {
   "cell_type": "code",
   "execution_count": null,
   "metadata": {},
   "outputs": [],
   "source": [
    "datos_1 = {\n",
    "        'id': ['Ana', 'Berto', 'Carla', 'Dani', 'Elia'],\n",
    "        'aval1': [9, 8, 7, 6, 5],\n",
    "        'aval2': [8, 7, 8, 4, 3]}\n",
    "df_avaliacion = pd.DataFrame(datos_1)\n",
    "df_avaliacion"
   ]
  },
  {
   "cell_type": "code",
   "execution_count": null,
   "metadata": {},
   "outputs": [],
   "source": [
    "# Que pasaría se sumase un punto na segunda avaliación\n",
    "# Podemos operar sobre columnas\n",
    "df_avaliacion['aval2_extra'] = df_avaliacion['aval2'] + 1\n",
    "df_avaliacion"
   ]
  },
  {
   "cell_type": "code",
   "execution_count": null,
   "metadata": {},
   "outputs": [],
   "source": [
    "# Podemos realizar operacións básicas con columnas, como calcular a media\n",
    "df_avaliacion['final'] = (df_avaliacion.aval1 + df_avaliacion.aval2)/2\n",
    "df_avaliacion"
   ]
  },
  {
   "cell_type": "code",
   "execution_count": null,
   "metadata": {},
   "outputs": [],
   "source": [
    "# Se queremos realizar operacións máis complexas podemos tirar de funcións lambda\n",
    "# Por exemplo: aprobados ou suspensos\n",
    "df_avaliacion['nota'] = df_avaliacion['final'].apply(lambda x: 'suspenso' if x<5 else 'aprobado')\n",
    "df_avaliacion"
   ]
  },
  {
   "cell_type": "code",
   "execution_count": null,
   "metadata": {},
   "outputs": [],
   "source": [
    "# Volvendo ao exemplo anterior dun barplot con demasiadas categorías...\n",
    "\n",
    "# Ás veces pode ser útil construír artificialmente as categorías a partir dunha variable numérica\n",
    "\n",
    "# Por exemplo: persoas novas, idade media, maiores (low, medium, high)"
   ]
  },
  {
   "cell_type": "code",
   "execution_count": null,
   "metadata": {},
   "outputs": [],
   "source": [
    "df_titanic['age_level'] = df_titanic['age'].apply(lambda x: 'low' if x<25 else 'high' if x>50 else 'medium')\n",
    "df_titanic.head()"
   ]
  },
  {
   "cell_type": "code",
   "execution_count": null,
   "metadata": {},
   "outputs": [],
   "source": [
    "# Agora xa podemos pintar o gráfico utilizando age_level\n",
    "sns.barplot(data = df_titanic, x = 'age_level', y= 'survived')\n",
    "# Que explicación lle darías a esta situación? É o que esperabas?"
   ]
  },
  {
   "cell_type": "code",
   "execution_count": null,
   "metadata": {},
   "outputs": [],
   "source": []
  }
 ],
 "metadata": {
  "interpreter": {
   "hash": "2eaf50c46cca8d47f8fbdccf847348d8678fdaff72e1c7be6ae8fbe014f877f9"
  },
  "kernelspec": {
   "display_name": "Python 3.8.12 64-bit ('SistemasBigData': conda)",
   "language": "python",
   "name": "python3"
  },
  "language_info": {
   "codemirror_mode": {
    "name": "ipython",
    "version": 3
   },
   "file_extension": ".py",
   "mimetype": "text/x-python",
   "name": "python",
   "nbconvert_exporter": "python",
   "pygments_lexer": "ipython3",
   "version": "3.8.12"
  },
  "orig_nbformat": 4
 },
 "nbformat": 4,
 "nbformat_minor": 2
}
