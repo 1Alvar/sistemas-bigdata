{
 "cells": [
  {
   "cell_type": "markdown",
   "id": "41ee5452-6995-43ad-9471-48bae81860e9",
   "metadata": {},
   "source": [
    "### Práctica con lineplot"
   ]
  },
  {
   "cell_type": "code",
   "execution_count": null,
   "id": "d1c69905-4f98-4cc9-9898-44518892c6a6",
   "metadata": {},
   "outputs": [],
   "source": [
    "import pandas as pd\n",
    "import seaborn as sns\n",
    "import matplotlib.pyplot as plt"
   ]
  },
  {
   "cell_type": "code",
   "execution_count": null,
   "id": "bc803675-4890-41d8-8f13-7d616085a426",
   "metadata": {},
   "outputs": [],
   "source": [
    "# Utiliza os datos COVID que descargaches de narrativa para 3 paises durante un ano\n",
    "# Cargaos desde un ficheiro"
   ]
  },
  {
   "cell_type": "code",
   "execution_count": null,
   "id": "8422dddf-6f64-45f1-ad27-3df04a905eb4",
   "metadata": {},
   "outputs": [],
   "source": [
    "df_covid = pd.read_csv('datos_covid2021_3paises.csv',parse_dates=True)\n",
    "df_covid.head()"
   ]
  },
  {
   "cell_type": "code",
   "execution_count": null,
   "id": "dfca04b4",
   "metadata": {},
   "outputs": [],
   "source": [
    "df_covid = pd.read_csv('datos_covid2021_3paises.csv',index_col='dia',parse_dates=True)\n",
    "df_covid.head()"
   ]
  },
  {
   "cell_type": "code",
   "execution_count": null,
   "id": "082a02ff",
   "metadata": {},
   "outputs": [],
   "source": [
    "df_covid.info()"
   ]
  },
  {
   "cell_type": "code",
   "execution_count": null,
   "id": "c8b27ee9",
   "metadata": {},
   "outputs": [],
   "source": [
    "df_covid.drop('Unnamed: 0',axis='columns', inplace=True)\n",
    "df_covid"
   ]
  },
  {
   "cell_type": "code",
   "execution_count": null,
   "id": "ab651db6",
   "metadata": {},
   "outputs": [],
   "source": [
    "sns.lineplot(data=df_covid)"
   ]
  },
  {
   "cell_type": "code",
   "execution_count": null,
   "id": "1c7bf67a-a935-4671-9f11-78d8c9a5a008",
   "metadata": {},
   "outputs": [],
   "source": [
    "# 1.1 Pinta un gráfico de liñas que mostre a evolución de contaxios en España"
   ]
  },
  {
   "cell_type": "code",
   "execution_count": null,
   "id": "6b673045",
   "metadata": {},
   "outputs": [],
   "source": [
    "df_spain =  df_covid[df_covid.pais == 'Spain']\n",
    "datos = df_spain.contaxios\n",
    "sns.lineplot(data=datos)"
   ]
  },
  {
   "cell_type": "code",
   "execution_count": null,
   "id": "90ed7e9d-7218-409f-904b-a3e33706fe98",
   "metadata": {},
   "outputs": [],
   "source": [
    "# problema: datos nulos\n",
    "df_spain =  df_covid[df_covid.pais == 'Spain']\n",
    "df_spain_limpo = df_spain[df_spain.contaxios != 0]\n",
    "datos = df_spain_limpo.contaxios\n",
    "sns.lineplot(data=datos)"
   ]
  },
  {
   "cell_type": "code",
   "execution_count": null,
   "id": "685220ff-4565-44d6-b1b7-9c7bde1b0309",
   "metadata": {},
   "outputs": [],
   "source": [
    "# 1.2 Modifica o tamaño do gráfico, engade título e modifica etiquetas para ambos os eixos"
   ]
  },
  {
   "cell_type": "code",
   "execution_count": null,
   "id": "f875d208-814a-4ec7-bd60-c5112c75274b",
   "metadata": {},
   "outputs": [],
   "source": [
    "datos = df_spain_limpo.contaxios\n",
    "plt.figure(figsize=(20,7))\n",
    "plt.title('Evolución de contaxios en España no ano 2021')\n",
    "plt.xlabel('dia do ano')\n",
    "plt.ylabel('número de contaxios')\n",
    "sns.lineplot(data=datos)"
   ]
  },
  {
   "cell_type": "code",
   "execution_count": null,
   "id": "5104bb95-8a0d-4042-af0e-4b01a587369f",
   "metadata": {},
   "outputs": [],
   "source": [
    "# 1.3 Mostra o mesmo gráfico mais só para o més de decembro"
   ]
  },
  {
   "cell_type": "code",
   "execution_count": null,
   "id": "3b8416e4-ab7b-4ac9-8a60-1695d7ec0d53",
   "metadata": {},
   "outputs": [],
   "source": [
    "datos = df_spain_limpo.loc['2021-12-1':'2021-12-31'].contaxios\n",
    "plt.figure(figsize=(20,7))\n",
    "plt.title('Evolución de contaxios en España no ano 2021')\n",
    "plt.xlabel('dia do ano')\n",
    "plt.ylabel('número de contaxios')\n",
    "sns.lineplot(data=datos)"
   ]
  },
  {
   "cell_type": "code",
   "execution_count": null,
   "id": "e1d19f86-80b5-4806-91f9-aecd1e38e846",
   "metadata": {},
   "outputs": [],
   "source": [
    "# 2.1 Pinta un gráfico de liñas que mostre a evolución de contaxios en España e Portugal"
   ]
  },
  {
   "cell_type": "code",
   "execution_count": null,
   "id": "9b5b0a0f-af4c-4c8d-954c-422733b1cd27",
   "metadata": {},
   "outputs": [],
   "source": [
    "contaxios_spain =  df_covid[df_covid.pais == 'Spain'].contaxios\n",
    "contaxios_portugal =  df_covid[df_covid.pais == 'Portugal'].contaxios\n",
    "\n",
    "plt.figure(figsize=(20,7))\n",
    "sns.lineplot(data=contaxios_spain)\n",
    "sns.lineplot(data=contaxios_portugal)\n",
    "plt.legend(['Spain','Portugal'])"
   ]
  },
  {
   "cell_type": "code",
   "execution_count": null,
   "id": "753200b0",
   "metadata": {},
   "outputs": [],
   "source": [
    "contaxios_spain"
   ]
  },
  {
   "cell_type": "code",
   "execution_count": null,
   "id": "8678e966",
   "metadata": {},
   "outputs": [],
   "source": [
    "contaxios_spain =  df_covid[df_covid.pais == 'Spain'].contaxios\n",
    "contaxios_spain = contaxios_spain[contaxios_spain != 0]\n",
    "contaxios_portugal =  df_covid[df_covid.pais == 'Portugal'].contaxios\n",
    "contaxios_portugal = contaxios_portugal[contaxios_portugal != 0]\n",
    "\n",
    "plt.figure(figsize=(20,7))\n",
    "sns.lineplot(data=contaxios_spain)\n",
    "sns.lineplot(data=contaxios_portugal)\n",
    "plt.legend(['Spain','Portugal'])"
   ]
  },
  {
   "cell_type": "code",
   "execution_count": null,
   "id": "161b52eb-4882-4191-963e-dc6c96271e93",
   "metadata": {},
   "outputs": [],
   "source": [
    "# 2.2 Modifica o tamaño do gráfico e engade título e etiquetas para ambos os eixos"
   ]
  },
  {
   "cell_type": "code",
   "execution_count": null,
   "id": "5ed4edf9-00d3-4ed4-8c1c-0ecbe5070efc",
   "metadata": {},
   "outputs": [],
   "source": [
    "contaxios_spain =  df_covid[df_covid.pais == 'Spain'].contaxios\n",
    "contaxios_spain = contaxios_spain[contaxios_spain != 0]\n",
    "contaxios_portugal =  df_covid[df_covid.pais == 'Portugal'].contaxios\n",
    "contaxios_portugal = contaxios_portugal[contaxios_portugal != 0]\n",
    "\n",
    "plt.figure(figsize=(20,7))\n",
    "\n",
    "plt.title('Evolución dos contaxios Spain + Portugal')\n",
    "plt.xlabel('Data')\n",
    "plt.ylabel('Número de contaxios')\n",
    "\n",
    "sns.lineplot(data=contaxios_spain)\n",
    "sns.lineplot(data=contaxios_portugal)\n",
    "plt.legend(['Spain','Portugal'])"
   ]
  },
  {
   "cell_type": "code",
   "execution_count": null,
   "id": "60118bff-0c1f-4b3e-9937-ce8d5e2ff401",
   "metadata": {},
   "outputs": [],
   "source": [
    "# 3.1 Mostra un gráfico das mortes nos tres países para o més de xaneiro, engade títulos, etc..."
   ]
  },
  {
   "cell_type": "code",
   "execution_count": null,
   "id": "4d736fe5-9a9f-49c5-9d32-66bbafdd9752",
   "metadata": {},
   "outputs": [],
   "source": [
    "datos_xaneiro = df_covid.loc['2021-1-1':'2021-1-31'][['pais','mortes']]\n",
    "df_spain = datos_xaneiro[datos_xaneiro.pais == 'Spain']\n",
    "df_portugal = datos_xaneiro[datos_xaneiro.pais == 'Portugal']\n",
    "df_france = datos_xaneiro[datos_xaneiro.pais == 'France']\n",
    "plt.figure(figsize=(20,7))\n",
    "plt.xlabel('data')\n",
    "plt.ylabel('número de mortes por día')\n",
    "sns.lineplot(data = df_spain)\n",
    "sns.lineplot(data = df_portugal)\n",
    "sns.lineplot(data = df_france)\n",
    "plt.legend(['spain','portugal','france'])\n",
    "plt.title('Evolución das mortes en diferentes países')\n"
   ]
  },
  {
   "cell_type": "code",
   "execution_count": null,
   "id": "2b17b880",
   "metadata": {},
   "outputs": [],
   "source": [
    "datos_xaneiro = df_covid.loc['2021-1-1':'2021-1-31'][['pais','mortes']]\n",
    "df_spain = datos_xaneiro[(datos_xaneiro.pais == 'Spain') & (datos_xaneiro.mortes != 0)]\n",
    "df_portugal = datos_xaneiro[datos_xaneiro.pais == 'Portugal']\n",
    "df_portugal = datos_xaneiro[(datos_xaneiro.pais == 'Portugal') & (datos_xaneiro.mortes != 0)]\n",
    "df_france = datos_xaneiro[datos_xaneiro.pais == 'France']\n",
    "df_france = datos_xaneiro[(datos_xaneiro.pais == 'France') & (datos_xaneiro.mortes != 0)]\n",
    "\n",
    "plt.figure(figsize=(20,7))\n",
    "plt.xlabel('data')\n",
    "plt.ylabel('número de mortes por día')\n",
    "sns.lineplot(data = df_spain)\n",
    "sns.lineplot(data = df_portugal)\n",
    "sns.lineplot(data = df_france)\n",
    "plt.legend(['spain','portugal','france'])\n",
    "plt.title('Evolución das mortes en diferentes países')"
   ]
  },
  {
   "cell_type": "code",
   "execution_count": null,
   "id": "270e28e2-74c4-4d58-8246-9410d3d3729c",
   "metadata": {},
   "outputs": [],
   "source": [
    "# 3.2 Investiga para cambiar as cores das liñas dos gráficos e asigna unha nova cor a cada país\n",
    "# Ademais de mudar a cor aumenta o ancho das liñas\n",
    "# https://seaborn.pydata.org/generated/seaborn.lineplot.html"
   ]
  },
  {
   "cell_type": "code",
   "execution_count": null,
   "id": "7fa9ac0c-dd75-4cb9-85f1-a04be8716e69",
   "metadata": {},
   "outputs": [],
   "source": [
    "datos_xaneiro = df_covid.loc['2021-1-1':'2021-1-31'][['pais','mortes']]\n",
    "df_spain = datos_xaneiro[(datos_xaneiro.pais == 'Spain') & (datos_xaneiro.mortes != 0)]\n",
    "df_portugal = datos_xaneiro[datos_xaneiro.pais == 'Portugal']\n",
    "df_portugal = datos_xaneiro[(datos_xaneiro.pais == 'Portugal') & (datos_xaneiro.mortes != 0)]\n",
    "df_france = datos_xaneiro[datos_xaneiro.pais == 'France']\n",
    "df_france = datos_xaneiro[(datos_xaneiro.pais == 'France') & (datos_xaneiro.mortes != 0)]\n",
    "\n",
    "plt.figure(figsize=(20,7))\n",
    "plt.xlabel('data')\n",
    "plt.ylabel('número de mortes por día')\n",
    "sns.lineplot(data = df_spain, palette=['r'])\n",
    "sns.lineplot(data = df_portugal, palette=['g'])\n",
    "sns.lineplot(data = df_france, palette=['b'])\n",
    "plt.legend(['spain','portugal','france'])\n",
    "plt.title('Evolución das mortes en diferentes países')"
   ]
  },
  {
   "cell_type": "code",
   "execution_count": null,
   "id": "d6cde575",
   "metadata": {},
   "outputs": [],
   "source": []
  }
 ],
 "metadata": {
  "kernelspec": {
   "display_name": "Python 3 (ipykernel)",
   "language": "python",
   "name": "python3"
  },
  "language_info": {
   "codemirror_mode": {
    "name": "ipython",
    "version": 3
   },
   "file_extension": ".py",
   "mimetype": "text/x-python",
   "name": "python",
   "nbconvert_exporter": "python",
   "pygments_lexer": "ipython3",
   "version": "3.8.12"
  }
 },
 "nbformat": 4,
 "nbformat_minor": 5
}
