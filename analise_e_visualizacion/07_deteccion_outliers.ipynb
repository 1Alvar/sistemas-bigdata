{
 "cells": [
  {
   "cell_type": "markdown",
   "metadata": {},
   "source": [
    "Detección de outliers"
   ]
  },
  {
   "cell_type": "code",
   "execution_count": null,
   "metadata": {},
   "outputs": [],
   "source": [
    "import numpy as np\n",
    "import pandas as pd\n",
    "import matplotlib.pyplot as plt\n",
    "import seaborn as sns"
   ]
  },
  {
   "cell_type": "code",
   "execution_count": null,
   "metadata": {},
   "outputs": [],
   "source": [
    "# Cargamos un dataset con datos de exemplo: lonxitude de ríos, en millas\n",
    "rios = pd.read_csv('../datasets/rios.csv',index_col=0)\n",
    "rios"
   ]
  },
  {
   "cell_type": "code",
   "execution_count": null,
   "metadata": {},
   "outputs": [],
   "source": [
    "# Mostramos a distribución dos datos cun histograma\n",
    "sns.displot(data=rios,x='Millas')"
   ]
  },
  {
   "cell_type": "code",
   "execution_count": null,
   "metadata": {},
   "outputs": [],
   "source": [
    "# Mostramos a distribución dos datos cun boxplot\n",
    "# O \"bigote\" indica os percentís\n",
    "# Os puntos que quedan fóra... son outliers?\n",
    "sns.boxplot(data=rios,x='Millas')"
   ]
  },
  {
   "cell_type": "code",
   "execution_count": null,
   "metadata": {},
   "outputs": [],
   "source": [
    "# Consultamos estatísticos\n",
    "rios.describe()"
   ]
  },
  {
   "cell_type": "code",
   "execution_count": null,
   "metadata": {},
   "outputs": [],
   "source": [
    "Q1 = rios.Millas.quantile(0.25)\n",
    "Q3 = rios.Millas.quantile(0.75)\n",
    "IQR = Q3 - Q1\n",
    "mediana = rios.Millas.median()\n",
    "minimo = rios.Millas.min()\n",
    "maximo = rios.Millas.max()\n",
    "\n",
    "print(f'minimo: {minimo}')\n",
    "print(f'Q1: {Q1}')\n",
    "print(f'mediana: {mediana}')\n",
    "print(f'Q3: {Q3}')\n",
    "print(f'máximo: {maximo}')\n",
    "print(f'Rango intercuartílico: {IQR}')"
   ]
  },
  {
   "cell_type": "code",
   "execution_count": null,
   "metadata": {},
   "outputs": [],
   "source": [
    "# Cálculo dos \"bigotes\"\n",
    "BI = (Q1 - 1.5 * IQR)\n",
    "BS = (Q3 + 1.5 * IQR)\n",
    "\n",
    "print(f'Bigote Inferior: {BI}')\n",
    "print(f'Bigote Superior: {BS}')"
   ]
  },
  {
   "cell_type": "code",
   "execution_count": null,
   "metadata": {},
   "outputs": [],
   "source": [
    "# Os valores dos bigotes están limitados ao alcance dos valores mínimo e máximo, que non se poden exceder"
   ]
  },
  {
   "cell_type": "code",
   "execution_count": null,
   "metadata": {},
   "outputs": [],
   "source": [
    "# Os outliers serán os valores que están fóra do intervalo que definen os bigotes\n",
    "outliers = rios[(rios.Millas < BI) | (rios.Millas > BS)].sort_values('Millas')\n",
    "outliers"
   ]
  },
  {
   "cell_type": "code",
   "execution_count": null,
   "metadata": {},
   "outputs": [],
   "source": [
    "# Creamos un novo Dataframe sen outliers\n",
    "rios_sen_outliers = rios[(rios.Millas >= BI) & (rios.Millas <= BS)].sort_values('Millas')\n",
    "rios_sen_outliers"
   ]
  },
  {
   "cell_type": "code",
   "execution_count": null,
   "metadata": {},
   "outputs": [],
   "source": [
    "# Pintamos un novo boxplot\n",
    "sns.boxplot(data=rios_sen_outliers,x='Millas')"
   ]
  },
  {
   "cell_type": "code",
   "execution_count": null,
   "metadata": {},
   "outputs": [],
   "source": [
    "# Poderíamos repetir o proceso ata que desaparezan os outliers completamente"
   ]
  },
  {
   "cell_type": "code",
   "execution_count": null,
   "metadata": {},
   "outputs": [],
   "source": []
  }
 ],
 "metadata": {
  "interpreter": {
   "hash": "2eaf50c46cca8d47f8fbdccf847348d8678fdaff72e1c7be6ae8fbe014f877f9"
  },
  "kernelspec": {
   "display_name": "Python 3.8.12 ('SistemasBigData')",
   "language": "python",
   "name": "python3"
  },
  "language_info": {
   "codemirror_mode": {
    "name": "ipython",
    "version": 3
   },
   "file_extension": ".py",
   "mimetype": "text/x-python",
   "name": "python",
   "nbconvert_exporter": "python",
   "pygments_lexer": "ipython3",
   "version": "3.8.12"
  },
  "orig_nbformat": 4
 },
 "nbformat": 4,
 "nbformat_minor": 2
}
